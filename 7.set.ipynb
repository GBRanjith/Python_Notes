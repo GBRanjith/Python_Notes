{
 "cells": [
  {
   "cell_type": "code",
   "execution_count": null,
   "id": "d7eb54a1",
   "metadata": {},
   "outputs": [],
   "source": [
    "\"\"\"\n",
    "#set methods\n",
    "   \n",
    "   intersection()\n",
    "   intersection_update()\n",
    "   isdisjoint()\n",
    "\"\"\""
   ]
  },
  {
   "cell_type": "code",
   "execution_count": null,
   "id": "e53e53dc",
   "metadata": {},
   "outputs": [],
   "source": [
    "# intersection() # set method\n",
    "# The intersection() method returns a set that contains the similarity between two or more sets.\n",
    "x = {\"a\", \"b\", \"c\"}\n",
    "y = {\"c\", \"d\", \"e\"}\n",
    "z = {\"f\", \"g\", \"c\"}\n",
    "\n",
    "result = x.intersection(y, z)\n",
    "\n",
    "print(result)\n"
   ]
  },
  {
   "cell_type": "code",
   "execution_count": null,
   "id": "20b82e74",
   "metadata": {},
   "outputs": [],
   "source": [
    "# intersection_update() # set method\n",
    "# The intersection_update() method removes the items that is not present in both sets \n",
    "x = {\"a\", \"b\", \"c\"}\n",
    "y = {\"c\", \"d\", \"e\"}\n",
    "z = {\"f\", \"g\", \"c\"}\n",
    "\n",
    "x.intersection_update(y, z)\n",
    "\n",
    "print(x)"
   ]
  },
  {
   "cell_type": "code",
   "execution_count": null,
   "id": "434080f3",
   "metadata": {},
   "outputs": [],
   "source": [
    "# isdisjoint() #set method\n",
    "# The isdisjoint() method returns True if none of the items are present in both sets, otherwise it returns False.\n",
    "x = {\"apple\", \"banana\", \"cherry\"}\n",
    "y = {\"google\", \"microsoft\", \"facebook\"}\n",
    "\n",
    "z = x.isdisjoint(y)\n",
    "\n",
    "print(z)"
   ]
  }
 ],
 "metadata": {
  "kernelspec": {
   "display_name": "Python 3 (ipykernel)",
   "language": "python",
   "name": "python3"
  },
  "language_info": {
   "codemirror_mode": {
    "name": "ipython",
    "version": 3
   },
   "file_extension": ".py",
   "mimetype": "text/x-python",
   "name": "python",
   "nbconvert_exporter": "python",
   "pygments_lexer": "ipython3",
   "version": "3.9.13"
  }
 },
 "nbformat": 4,
 "nbformat_minor": 5
}
