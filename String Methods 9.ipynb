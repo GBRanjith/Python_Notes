{
 "cells": [
  {
   "cell_type": "markdown",
   "id": "9f2ac072",
   "metadata": {},
   "source": [
    "# 41. title()"
   ]
  },
  {
   "cell_type": "markdown",
   "id": "0cc99600",
   "metadata": {},
   "source": [
    "The title() method returns a string with first letter of each word capitalized a title cased string.\n",
    "\n",
    "_The syntax of title() is:_\n",
    "\n",
    "**str.title()**"
   ]
  },
  {
   "cell_type": "code",
   "execution_count": 1,
   "id": "fa388703",
   "metadata": {},
   "outputs": [
    {
     "name": "stdout",
     "output_type": "stream",
     "text": [
      "My Name Is Ranjith.\n"
     ]
    }
   ],
   "source": [
    "header = 'my name is ranjith.'\n",
    "print(header.title())\n"
   ]
  },
  {
   "cell_type": "markdown",
   "id": "c97237ed",
   "metadata": {},
   "source": [
    "# 42. translate()"
   ]
  },
  {
   "cell_type": "markdown",
   "id": "c776317f",
   "metadata": {},
   "source": [
    "The string translate() method returns a string where each character is mapped to its corresponding character in the translation table.\n",
    "\n",
    "translate() method takes the translation table to replace/translate characters in the given string as per the mapping table.\n",
    "\n",
    "The translation table is created by the static method maketrans().\n",
    "\n",
    "_The syntax of the translate() method is:_\n",
    "\n",
    "**string.translate(table)**"
   ]
  },
  {
   "cell_type": "code",
   "execution_count": 2,
   "id": "a9083e25",
   "metadata": {},
   "outputs": [
    {
     "name": "stdout",
     "output_type": "stream",
     "text": [
      "Original string: Helloram\n",
      "Translated string: Hellorua\n"
     ]
    }
   ],
   "source": [
    "# first string\n",
    "first = \"Sam\"\n",
    "second = \"nua\"\n",
    "string = \"Helloram\"\n",
    "print(\"Original string:\", string)\n",
    "\n",
    "translation = string.maketrans(first, second)\n",
    "# translate string\n",
    "print(\"Translated string:\", string.translate(translation))"
   ]
  },
  {
   "cell_type": "markdown",
   "id": "d895a966",
   "metadata": {},
   "source": [
    "# 43. upper()"
   ]
  },
  {
   "cell_type": "markdown",
   "id": "19f45f1d",
   "metadata": {},
   "source": [
    "The upper() method converts all lowercase characters in a string into uppercase characters and returns it."
   ]
  },
  {
   "cell_type": "code",
   "execution_count": 3,
   "id": "a6e09264",
   "metadata": {},
   "outputs": [
    {
     "name": "stdout",
     "output_type": "stream",
     "text": [
      "PYTHON IS A PROGRAMING LANGUAGE\n"
     ]
    }
   ],
   "source": [
    "string = 'python is a programing language'\n",
    "print(string.upper())  # convert message to uppercase\n"
   ]
  },
  {
   "cell_type": "markdown",
   "id": "222847e5",
   "metadata": {},
   "source": [
    "# 44. zfill()"
   ]
  },
  {
   "cell_type": "markdown",
   "id": "c932b59d",
   "metadata": {},
   "source": [
    "The zfill() method returns a copy of the string with '0' characters padded to the left.\n",
    "\n",
    "_The syntax of zfill() in Python is:_\n",
    "\n",
    "**str.zfill(width)**"
   ]
  },
  {
   "cell_type": "code",
   "execution_count": 4,
   "id": "202de87d",
   "metadata": {},
   "outputs": [
    {
     "name": "stdout",
     "output_type": "stream",
     "text": [
      "apple is a fruit\n",
      "0000apple is a fruit\n",
      "apple is a fruit\n"
     ]
    }
   ],
   "source": [
    "text = \"apple is a fruit\"   #16 char\n",
    "print(text.zfill(15))\n",
    "print(text.zfill(20))\n",
    "print(text.zfill(10))"
   ]
  },
  {
   "cell_type": "code",
   "execution_count": null,
   "id": "c9208452",
   "metadata": {},
   "outputs": [],
   "source": []
  }
 ],
 "metadata": {
  "kernelspec": {
   "display_name": "Python 3 (ipykernel)",
   "language": "python",
   "name": "python3"
  },
  "language_info": {
   "codemirror_mode": {
    "name": "ipython",
    "version": 3
   },
   "file_extension": ".py",
   "mimetype": "text/x-python",
   "name": "python",
   "nbconvert_exporter": "python",
   "pygments_lexer": "ipython3",
   "version": "3.9.13"
  }
 },
 "nbformat": 4,
 "nbformat_minor": 5
}
