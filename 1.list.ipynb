{
 "cells": [
  {
   "cell_type": "markdown",
   "id": "e370d306",
   "metadata": {},
   "source": [
    "##### Python Lists"
   ]
  },
  {
   "cell_type": "markdown",
   "id": "bb3ca4b2",
   "metadata": {},
   "source": [
    "##### Introduction for collections in Python ,list\n",
    "1. A list is a single variable where multiple items are stored in it.\n",
    "2. Collections of data/ arrays are stored in python using:\n",
    "    - Python lists : Ordered,changeable and allows duplicate members.\n",
    "    - Python Tuple: Ordered,unchangeable and allows duplicate members.\n",
    "    - Python Set : Unordered, unchangeable,unindexed,no duplicate members.\n",
    "    - Python dictionary: Ordered,changeable, no duplicate members.\n",
    "    All these above mentioned collections have different qualities and usage.\n",
    "    We will discuss these characteritics in detail at the end."
   ]
  },
  {
   "cell_type": "markdown",
   "id": "62a6e43e",
   "metadata": {},
   "source": [
    "Characteristics of list in Python:\n",
    "1. Ordered\n",
    "2. Changeable \n",
    "3. Allows duplicate members"
   ]
  },
  {
   "cell_type": "markdown",
   "id": "b2880684",
   "metadata": {},
   "source": [
    "##### Append Items"
   ]
  },
  {
   "cell_type": "code",
   "execution_count": 1,
   "id": "812e46f7",
   "metadata": {},
   "outputs": [
    {
     "name": "stdout",
     "output_type": "stream",
     "text": [
      "['Kitkat', 'Five star', 'Snickers', 'Milky Way', 'Hershleys', 'Toblereno']\n",
      "['Kitkat', 'Five star', 'Snickers', 'Milky Way', 'Hershleys', 'Toblereno', ['banana', 'apple', 'cherry']]\n",
      "['Kitkat', 'Five star', 'Snickers', 'Milky Way', 'Hershleys', 'Toblereno', ['banana', 'apple', 'cherry'], 'orange']\n"
     ]
    }
   ],
   "source": [
    "# Adding items to the end of the list uses append method\n",
    "# append these fruit_list to chocolate list\n",
    "fruit_list = [\"banana\",\"apple\", \"cherry\"]\n",
    "chocolate_list = [\"Kitkat\", \"Five star\", \"Snickers\",\"Milky Way\",\"Hershleys\",\"Toblereno\"]\n",
    "print(chocolate_list)\n",
    "chocolate_list.append(fruit_list)\n",
    "print(chocolate_list)\n",
    "chocolate_list.append(\"orange\") # append always adds to the end\n",
    "print(chocolate_list)"
   ]
  },
  {
   "cell_type": "markdown",
   "id": "b44ea561",
   "metadata": {},
   "source": [
    "##### Clear the List"
   ]
  },
  {
   "cell_type": "code",
   "execution_count": 2,
   "id": "b380d01a",
   "metadata": {
    "scrolled": true
   },
   "outputs": [
    {
     "name": "stdout",
     "output_type": "stream",
     "text": [
      "['Kitkat', 'Five star', 'Snickers', 'Milky Way', 'Hershleys', 'Toblereno', 'banana', 'banana', 'apple', 'cherry']\n",
      "[]\n"
     ]
    }
   ],
   "source": [
    "#clear() method empties the list but the list still remains, but it has no content. (empty list)\n",
    "sweets_list = ['Kitkat', 'Five star', 'Snickers', 'Milky Way', 'Hershleys', 'Toblereno', 'banana','banana','apple', 'cherry']\n",
    "print(sweets_list)\n",
    "sweets_list.clear() # whole list is emptied\n",
    "print(sweets_list)"
   ]
  },
  {
   "cell_type": "markdown",
   "id": "2a38ebc8",
   "metadata": {},
   "source": [
    "##### Copy Lists"
   ]
  },
  {
   "cell_type": "code",
   "execution_count": null,
   "id": "66025634",
   "metadata": {},
   "outputs": [],
   "source": [
    "# What you can't do , you cant copy a list like :\n",
    "# list_1 = list_2\n",
    "# because it will reference to the same memory\n",
    "# any changes done in list 2 will affect list 1"
   ]
  },
  {
   "cell_type": "code",
   "execution_count": 3,
   "id": "030c9a0c",
   "metadata": {},
   "outputs": [
    {
     "name": "stdout",
     "output_type": "stream",
     "text": [
      "['avacado', 'pineapple', 'apple', 'banana', 'cherry', 'orange', 'kiwi', 'mango', 'strawberry', 'blueberry', 'grapes']\n",
      "['avacado', 'pineapple', 'apple', 'banana', 'cherry', 'orange', 'kiwi', 'mango', 'strawberry', 'blueberry', 'grapes']\n",
      "True\n",
      "['avacado', 'pineapple', 'apple', 'banana', 'cherry', 'orange', 'kiwi', 'mango', 'strawberry', 'blueberry', 'grapes']\n",
      "['avacado', 'chocolate', 'apple', 'banana', 'cherry', 'orange', 'kiwi', 'mango', 'strawberry', 'blueberry', 'grapes']\n"
     ]
    }
   ],
   "source": [
    "# method 1 - copy() method\n",
    "fruits = [\"avacado\",\"pineapple\",\"apple\", \"banana\", \"cherry\",\"orange\", \"kiwi\", \"mango\",\"strawberry\",\"blueberry\",\"grapes\"]\n",
    "new_fruit_list = fruits.copy()\n",
    "print(fruits)\n",
    "print(new_fruit_list)\n",
    "print(new_fruit_list == fruits)\n",
    "new_fruit_list[1] = \"chocolate\"\n",
    "print(fruits)\n",
    "print(new_fruit_list)"
   ]
  },
  {
   "cell_type": "markdown",
   "id": "191865a1",
   "metadata": {},
   "source": [
    "##### List count()"
   ]
  },
  {
   "cell_type": "code",
   "execution_count": null,
   "id": "f9140f52",
   "metadata": {},
   "outputs": [],
   "source": [
    "#The count() method returns the number of times the specified element appears in the list."
   ]
  },
  {
   "cell_type": "code",
   "execution_count": 5,
   "id": "7f76e29c",
   "metadata": {},
   "outputs": [
    {
     "name": "stdout",
     "output_type": "stream",
     "text": [
      "Count of 2: 1\n"
     ]
    }
   ],
   "source": [
    "# create a list\n",
    "numbers = [2, 3, 5, 2, 11, 2, 7]\n",
    "\n",
    "# check the count of 2\n",
    "count = numbers.count(5)\n",
    "\n",
    "\n",
    "print('Count of 2:', count)\n",
    "\n",
    "# Output: Count of 2: 3"
   ]
  },
  {
   "cell_type": "code",
   "execution_count": null,
   "id": "b9b9011f",
   "metadata": {},
   "outputs": [],
   "source": []
  }
 ],
 "metadata": {
  "kernelspec": {
   "display_name": "Python 3 (ipykernel)",
   "language": "python",
   "name": "python3"
  },
  "language_info": {
   "codemirror_mode": {
    "name": "ipython",
    "version": 3
   },
   "file_extension": ".py",
   "mimetype": "text/x-python",
   "name": "python",
   "nbconvert_exporter": "python",
   "pygments_lexer": "ipython3",
   "version": "3.9.13"
  }
 },
 "nbformat": 4,
 "nbformat_minor": 5
}
