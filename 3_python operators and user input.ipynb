{
 "cells": [
  {
   "cell_type": "markdown",
   "id": "2494609e",
   "metadata": {},
   "source": [
    "##### Python User Input"
   ]
  },
  {
   "cell_type": "code",
   "execution_count": 1,
   "id": "9a83482c",
   "metadata": {},
   "outputs": [],
   "source": [
    "# Python allows users to interact with the users\n",
    "# We use input() function for this purpose......"
   ]
  },
  {
   "cell_type": "code",
   "execution_count": 6,
   "id": "abe98da3",
   "metadata": {},
   "outputs": [
    {
     "name": "stdout",
     "output_type": "stream",
     "text": [
      "Enter your username:Sriraam\n",
      "Enter your password:kkjghkgh\n",
      "Username is: Sriraam\n",
      "Password is: kkjghkgh\n"
     ]
    }
   ],
   "source": [
    "username = input(\"Enter your username:\")\n",
    "password = input(\"Enter your password:\")\n",
    "print(\"Username is: \" + username)\n",
    "print(\"Password is: \" + password)"
   ]
  },
  {
   "cell_type": "code",
   "execution_count": 7,
   "id": "46ee1847",
   "metadata": {},
   "outputs": [
    {
     "name": "stdout",
     "output_type": "stream",
     "text": [
      "<class 'str'>\n",
      "<class 'str'>\n"
     ]
    }
   ],
   "source": [
    "print(type(username))\n",
    "print(type(password))"
   ]
  },
  {
   "cell_type": "code",
   "execution_count": 10,
   "id": "fa366faf",
   "metadata": {},
   "outputs": [
    {
     "name": "stdout",
     "output_type": "stream",
     "text": [
      "Enter your username:98987898989\n",
      "Enter your password:867677\n",
      "Username is:  98987898989\n",
      "Password is:  867677\n"
     ]
    }
   ],
   "source": [
    "# if you want to get it as integer use casting\n",
    "username = int(input(\"Enter your username:\"))\n",
    "password = int(input(\"Enter your password:\"))\n",
    "print(\"Username is: \" , username)\n",
    "print(\"Password is: \" ,password)"
   ]
  },
  {
   "cell_type": "code",
   "execution_count": 11,
   "id": "d1d0e063",
   "metadata": {},
   "outputs": [
    {
     "name": "stdout",
     "output_type": "stream",
     "text": [
      "<class 'int'>\n",
      "<class 'int'>\n"
     ]
    }
   ],
   "source": [
    "print(type(username))\n",
    "print(type(password))"
   ]
  },
  {
   "cell_type": "code",
   "execution_count": 12,
   "id": "5790d260",
   "metadata": {},
   "outputs": [
    {
     "name": "stdout",
     "output_type": "stream",
     "text": [
      "Enter your username:989889\n",
      "Enter your password:677667\n",
      "Username is:  989889\n",
      "Password is:  677667\n"
     ]
    }
   ],
   "source": [
    "# if you cast it to integers the user cant enter anything other than numbers\n",
    "# So the general practise is to receive from the user as string and then convert it to int for calculation purposes.....\n",
    "username = input(\"Enter your username:\")\n",
    "password = input(\"Enter your password:\")\n",
    "username = int(username)\n",
    "password = int(password)\n",
    "print(\"Username is: \" , username)\n",
    "print(\"Password is: \" ,password)"
   ]
  },
  {
   "cell_type": "code",
   "execution_count": 13,
   "id": "2e5dd015",
   "metadata": {},
   "outputs": [
    {
     "name": "stdout",
     "output_type": "stream",
     "text": [
      "False\n",
      "True\n",
      "False\n"
     ]
    }
   ],
   "source": [
    "# isalpha() python string function\n",
    "# The isalpha() method returns True if all the characters are alphabet letters (a-z) excluding (space)!#%&? etc.....\n",
    "txt = \"Sriraam12213\"\n",
    "x = txt.isalpha()\n",
    "print(x)\n",
    "txt = \"sriraam\"\n",
    "x = txt.isalpha()\n",
    "print(x)\n",
    "txt = \"Sriraam@\"\n",
    "x = txt.isalpha() # special characters are not alphabets\n",
    "print(x)"
   ]
  },
  {
   "cell_type": "code",
   "execution_count": 14,
   "id": "110b9628",
   "metadata": {},
   "outputs": [
    {
     "name": "stdout",
     "output_type": "stream",
     "text": [
      "False\n",
      "True\n",
      "False\n"
     ]
    }
   ],
   "source": [
    "# isnumeric() method returns True if all the characters are numeric (0-9), otherwise False.Exponents like power of 2 or fractions are also considered to be numeric values.\n",
    "# Negative numbers and float are not considered as numeric.....\"-1\" and \"1.5\" are NOT considered numeric values, because all the characters in the string must be numeric, and the - and the . are not.\n",
    "number = \"Sriraam12213\"\n",
    "x = number.isnumeric()\n",
    "print(x)\n",
    "number = \"1233443\"\n",
    "x = number.isnumeric()\n",
    "print(x)\n",
    "number = \"1.88949\"\n",
    "x = number.isnumeric() # special characters are not alphabets\n",
    "print(x)"
   ]
  },
  {
   "cell_type": "code",
   "execution_count": null,
   "id": "00602e4a",
   "metadata": {},
   "outputs": [],
   "source": [
    "# using if else conditions we can validate the strings inputted by the user and perform relative functions....."
   ]
  },
  {
   "cell_type": "markdown",
   "id": "de3117c0",
   "metadata": {},
   "source": [
    "###### Python operators"
   ]
  },
  {
   "cell_type": "markdown",
   "id": "5c674068",
   "metadata": {},
   "source": [
    "Types of operators in Python:\n",
    "1. Arithmetic operators\n",
    "2. Assignment operators\n",
    "3. Comparison operators\n",
    "4. Logical operators\n",
    "5. Identity operators\n",
    "6. Membership operators\n",
    "7. Bitwise operators"
   ]
  },
  {
   "cell_type": "markdown",
   "id": "1bac2b48",
   "metadata": {},
   "source": [
    "#### type 1 Arithmetic operators"
   ]
  },
  {
   "cell_type": "code",
   "execution_count": 15,
   "id": "961bb48d",
   "metadata": {},
   "outputs": [
    {
     "name": "stdout",
     "output_type": "stream",
     "text": [
      "15\n"
     ]
    }
   ],
   "source": [
    "# Addition\n",
    "x = 10\n",
    "y = 5\n",
    "z = x + y\n",
    "print(z)"
   ]
  },
  {
   "cell_type": "code",
   "execution_count": 16,
   "id": "593830f8",
   "metadata": {},
   "outputs": [
    {
     "name": "stdout",
     "output_type": "stream",
     "text": [
      "5\n"
     ]
    }
   ],
   "source": [
    "# Subtraction\n",
    "x = 10\n",
    "y = 5\n",
    "z = x - y\n",
    "print(z)"
   ]
  },
  {
   "cell_type": "code",
   "execution_count": 17,
   "id": "d6b058f2",
   "metadata": {},
   "outputs": [
    {
     "name": "stdout",
     "output_type": "stream",
     "text": [
      "50\n"
     ]
    }
   ],
   "source": [
    "# Multiplication\n",
    "x = 10\n",
    "y = 5\n",
    "z = x * y\n",
    "print(z)"
   ]
  },
  {
   "cell_type": "code",
   "execution_count": 19,
   "id": "9eec3980",
   "metadata": {},
   "outputs": [
    {
     "name": "stdout",
     "output_type": "stream",
     "text": [
      "1.6666666666666667\n"
     ]
    }
   ],
   "source": [
    "# Division\n",
    "x = 10\n",
    "y = 6\n",
    "z = x / y\n",
    "print(z)"
   ]
  },
  {
   "cell_type": "code",
   "execution_count": 20,
   "id": "807d3c5d",
   "metadata": {},
   "outputs": [
    {
     "name": "stdout",
     "output_type": "stream",
     "text": [
      "1\n"
     ]
    }
   ],
   "source": [
    "# Floor division\n",
    "# very careful resultsin data loss\n",
    "x = 10\n",
    "y = 6\n",
    "z = x // y\n",
    "print(z)\n",
    "#the floor division // rounds the result down to the nearest whole number"
   ]
  },
  {
   "cell_type": "code",
   "execution_count": 21,
   "id": "e02260b0",
   "metadata": {},
   "outputs": [
    {
     "name": "stdout",
     "output_type": "stream",
     "text": [
      "1\n"
     ]
    }
   ],
   "source": [
    "# Modulus\n",
    "x = 19\n",
    "y = 2\n",
    "z = x % y\n",
    "print(z)\n",
    "# It returns the remainder"
   ]
  },
  {
   "cell_type": "code",
   "execution_count": 22,
   "id": "acb02b66",
   "metadata": {},
   "outputs": [
    {
     "name": "stdout",
     "output_type": "stream",
     "text": [
      "361\n"
     ]
    }
   ],
   "source": [
    "# Exponentiation\n",
    "x = 19\n",
    "y = 2\n",
    "z = x ** y # means to the power of  19**2 = 19*19\n",
    "print(z)"
   ]
  },
  {
   "cell_type": "markdown",
   "id": "42ee3061",
   "metadata": {},
   "source": [
    "#### type 2 Assignment operators"
   ]
  },
  {
   "cell_type": "code",
   "execution_count": 23,
   "id": "123feef9",
   "metadata": {},
   "outputs": [
    {
     "name": "stdout",
     "output_type": "stream",
     "text": [
      "35\n"
     ]
    }
   ],
   "source": [
    "# = operator\n",
    "x = 35\n",
    "print(x)"
   ]
  },
  {
   "cell_type": "code",
   "execution_count": 24,
   "id": "d9b09502",
   "metadata": {},
   "outputs": [
    {
     "name": "stdout",
     "output_type": "stream",
     "text": [
      "10\n",
      "10\n"
     ]
    }
   ],
   "source": [
    "# += operator\n",
    "x = 5\n",
    "x = x + 5 # is the same as x += 5\n",
    "print(x)\n",
    "x = 5\n",
    "x += 5 # Use this as this is Pythonic.....\n",
    "print(x)"
   ]
  },
  {
   "cell_type": "code",
   "execution_count": 25,
   "id": "13d26bb1",
   "metadata": {},
   "outputs": [
    {
     "name": "stdout",
     "output_type": "stream",
     "text": [
      "0\n",
      "0\n"
     ]
    }
   ],
   "source": [
    "# -= operator\n",
    "x = 5\n",
    "x = x - 5 # is the same as x -= 5\n",
    "print(x)\n",
    "x = 5\n",
    "x -= 5 # Use this as this is Pythonic.....\n",
    "print(x)"
   ]
  },
  {
   "cell_type": "code",
   "execution_count": 26,
   "id": "9c52051f",
   "metadata": {},
   "outputs": [
    {
     "name": "stdout",
     "output_type": "stream",
     "text": [
      "25\n",
      "25\n"
     ]
    }
   ],
   "source": [
    "# *= operator\n",
    "x = 5\n",
    "x = x * 5 # is the same as x *= 5\n",
    "print(x)\n",
    "x = 5\n",
    "x *= 5 # Use this as this is Pythonic.....\n",
    "print(x)"
   ]
  },
  {
   "cell_type": "code",
   "execution_count": 27,
   "id": "b18c6312",
   "metadata": {},
   "outputs": [
    {
     "name": "stdout",
     "output_type": "stream",
     "text": [
      "1.0\n",
      "1.0\n"
     ]
    }
   ],
   "source": [
    "# /= operator\n",
    "x = 5\n",
    "x = x / 5 # is the same as x /= 5\n",
    "print(x)\n",
    "x = 5\n",
    "x /= 5 # Use this as this is Pythonic.....\n",
    "print(x)"
   ]
  },
  {
   "cell_type": "code",
   "execution_count": 28,
   "id": "d9503661",
   "metadata": {},
   "outputs": [
    {
     "name": "stdout",
     "output_type": "stream",
     "text": [
      "2\n",
      "2\n"
     ]
    }
   ],
   "source": [
    "# //= operator\n",
    "x = 5\n",
    "x = x // 2 # is the same as x //= 2\n",
    "print(x)\n",
    "x = 5\n",
    "x //= 2 # Use this as this is Pythonic.....\n",
    "print(x)"
   ]
  },
  {
   "cell_type": "code",
   "execution_count": 29,
   "id": "9120f5d2",
   "metadata": {},
   "outputs": [
    {
     "name": "stdout",
     "output_type": "stream",
     "text": [
      "25\n",
      "25\n"
     ]
    }
   ],
   "source": [
    "# **= operator\n",
    "x = 5\n",
    "x = x ** 2 # is the same as x **= 2\n",
    "print(x)\n",
    "x = 5\n",
    "x **= 2 # Use this as this is Pythonic.....\n",
    "print(x)"
   ]
  },
  {
   "cell_type": "code",
   "execution_count": null,
   "id": "05e94b7f",
   "metadata": {},
   "outputs": [],
   "source": [
    "# Other assignment operators less used in basics\n",
    "# >>= operator, <<= operator, &= operator, |= operator and ^= operator # note - lower level coding"
   ]
  },
  {
   "cell_type": "markdown",
   "id": "5c848fc2",
   "metadata": {},
   "source": [
    "##### type 3 Comparison operators"
   ]
  },
  {
   "cell_type": "code",
   "execution_count": null,
   "id": "9a746a67",
   "metadata": {},
   "outputs": [],
   "source": [
    "#Python Comparison Operators\n",
    "# Comparison operators are used to compare two values which returns a boolean."
   ]
  },
  {
   "cell_type": "code",
   "execution_count": null,
   "id": "ad7c118e",
   "metadata": {},
   "outputs": [],
   "source": [
    "# Operator - comparison symbols\n",
    "# Operand - data for comparing"
   ]
  },
  {
   "cell_type": "code",
   "execution_count": 30,
   "id": "1ec9b84f",
   "metadata": {},
   "outputs": [
    {
     "name": "stdout",
     "output_type": "stream",
     "text": [
      "True\n",
      "False\n"
     ]
    }
   ],
   "source": [
    "# == Equal operator\n",
    "# error alert single =\n",
    "x = 5\n",
    "y = 5\n",
    "print(x == y)\n",
    "x = 10\n",
    "y = 5\n",
    "print(x == y)"
   ]
  },
  {
   "cell_type": "code",
   "execution_count": 31,
   "id": "a77e911f",
   "metadata": {},
   "outputs": [
    {
     "name": "stdout",
     "output_type": "stream",
     "text": [
      "False\n",
      "True\n"
     ]
    }
   ],
   "source": [
    "#!= Not equal operator\n",
    "x = 5\n",
    "y = 5\n",
    "print(x != y)\n",
    "x = 10\n",
    "y = 5\n",
    "print(x != y)"
   ]
  },
  {
   "cell_type": "code",
   "execution_count": 32,
   "id": "51429223",
   "metadata": {},
   "outputs": [
    {
     "name": "stdout",
     "output_type": "stream",
     "text": [
      "False\n",
      "True\n"
     ]
    }
   ],
   "source": [
    "# > Greater than operator\n",
    "x = 5\n",
    "y = 5\n",
    "print(x > y)\n",
    "x = 10\n",
    "y = 5\n",
    "print(x > y)"
   ]
  },
  {
   "cell_type": "code",
   "execution_count": 33,
   "id": "715cd6ef",
   "metadata": {},
   "outputs": [
    {
     "name": "stdout",
     "output_type": "stream",
     "text": [
      "True\n",
      "True\n"
     ]
    }
   ],
   "source": [
    "# >= Greater than or equal to operator \n",
    "x = 5\n",
    "y = 5\n",
    "print(x >= y)\n",
    "x = 10\n",
    "y = 5\n",
    "print(x >= y)"
   ]
  },
  {
   "cell_type": "code",
   "execution_count": 34,
   "id": "91ed581d",
   "metadata": {},
   "outputs": [
    {
     "name": "stdout",
     "output_type": "stream",
     "text": [
      "False\n",
      "False\n"
     ]
    }
   ],
   "source": [
    "# < Less than operator\n",
    "x = 5\n",
    "y = 5\n",
    "print(x < y)\n",
    "x = 10\n",
    "y = 5\n",
    "print(x < y)"
   ]
  },
  {
   "cell_type": "code",
   "execution_count": 35,
   "id": "ef9db961",
   "metadata": {},
   "outputs": [
    {
     "name": "stdout",
     "output_type": "stream",
     "text": [
      "True\n",
      "False\n"
     ]
    }
   ],
   "source": [
    "# <= Less than or equal to Operator\n",
    "x = 5\n",
    "y = 5\n",
    "print(x <= y)\n",
    "x = 10\n",
    "y = 5\n",
    "print(x <= y)"
   ]
  },
  {
   "cell_type": "markdown",
   "id": "ad303cc9",
   "metadata": {},
   "source": [
    "##### type 4 Python Logical Operators\n",
    "Logical operators are used to combine conditional statements in python to filter based on the requirements. Example: We need to make sure that the number is equal to 5 and also the number is greater than 2\n"
   ]
  },
  {
   "cell_type": "code",
   "execution_count": 36,
   "id": "2026fb19",
   "metadata": {},
   "outputs": [
    {
     "name": "stdout",
     "output_type": "stream",
     "text": [
      "True\n",
      "False\n"
     ]
    }
   ],
   "source": [
    "# and logical operator- Returns True if both statements are true\n",
    "x = 2 \n",
    "print(x < 5 and  x == 2)\n",
    "x = 3\n",
    "print(x < 5 and  x == 2)"
   ]
  },
  {
   "cell_type": "code",
   "execution_count": 37,
   "id": "fcfedd24",
   "metadata": {},
   "outputs": [
    {
     "name": "stdout",
     "output_type": "stream",
     "text": [
      "True\n"
     ]
    }
   ],
   "source": [
    "# or logical operator, Returns True if one of the statements is true\n",
    "x = 4\n",
    "print(x < 5 or x > 4)"
   ]
  },
  {
   "cell_type": "code",
   "execution_count": 38,
   "id": "decbf18c",
   "metadata": {},
   "outputs": [
    {
     "name": "stdout",
     "output_type": "stream",
     "text": [
      "False\n",
      "True\n"
     ]
    }
   ],
   "source": [
    "# not Reverse the result, returns False if the result is true\n",
    "x = 4\n",
    "print(not(x < 5 and x < 10))\n",
    "x = 11\n",
    "print(not(x < 5 and x < 10))"
   ]
  },
  {
   "cell_type": "markdown",
   "id": "b922ec1b",
   "metadata": {},
   "source": [
    "##### type 5 Python Identity Operators"
   ]
  },
  {
   "cell_type": "code",
   "execution_count": null,
   "id": "784e03cd",
   "metadata": {},
   "outputs": [],
   "source": [
    "# Identity operators are used to compare the objects, not if they are equal, but if they are actually the same object, with the same memory location"
   ]
  },
  {
   "cell_type": "code",
   "execution_count": 39,
   "id": "dd443483",
   "metadata": {},
   "outputs": [
    {
     "data": {
      "text/plain": [
       "True"
      ]
     },
     "execution_count": 39,
     "metadata": {},
     "output_type": "execute_result"
    }
   ],
   "source": [
    "# is Returns True if both variables are the same object\n",
    "x = 5\n",
    "y = 5 \n",
    "x is y"
   ]
  },
  {
   "cell_type": "code",
   "execution_count": 41,
   "id": "85a443ff",
   "metadata": {},
   "outputs": [
    {
     "data": {
      "text/plain": [
       "True"
      ]
     },
     "execution_count": 41,
     "metadata": {},
     "output_type": "execute_result"
    }
   ],
   "source": [
    "#is not Returns True if both variables are not the same object x is not y\n",
    "x = 5\n",
    "y = 6\n",
    "x is not y"
   ]
  },
  {
   "cell_type": "markdown",
   "id": "e7db1598",
   "metadata": {},
   "source": [
    "##### type 6 Membership operators"
   ]
  },
  {
   "cell_type": "code",
   "execution_count": null,
   "id": "f1873c4b",
   "metadata": {},
   "outputs": [],
   "source": [
    "# Membership operators are used to test if a sequence is presented in an object"
   ]
  },
  {
   "cell_type": "code",
   "execution_count": 42,
   "id": "9b8f22df",
   "metadata": {},
   "outputs": [
    {
     "data": {
      "text/plain": [
       "True"
      ]
     },
     "execution_count": 42,
     "metadata": {},
     "output_type": "execute_result"
    }
   ],
   "source": [
    "# in  Returns True if a sequence with the specified value is present in the object\n",
    "x = \"star\"\n",
    "y = \"I am a star\"\n",
    "x in y"
   ]
  },
  {
   "cell_type": "code",
   "execution_count": 43,
   "id": "79f8ecb5",
   "metadata": {},
   "outputs": [
    {
     "data": {
      "text/plain": [
       "True"
      ]
     },
     "execution_count": 43,
     "metadata": {},
     "output_type": "execute_result"
    }
   ],
   "source": [
    "# not in Returns True if a sequence with the specified value is not present in the object\n",
    "x = \"silver\"\n",
    "y = \"I am a star\"\n",
    "x not in y"
   ]
  },
  {
   "cell_type": "markdown",
   "id": "9c6f290d",
   "metadata": {},
   "source": [
    "##### type 7 Bitwise operators "
   ]
  },
  {
   "cell_type": "markdown",
   "id": "0daef79c",
   "metadata": {},
   "source": [
    "##### Python Bitwise Operators\n",
    "Used in memory management....."
   ]
  },
  {
   "cell_type": "code",
   "execution_count": null,
   "id": "41a6f0f9",
   "metadata": {},
   "outputs": [],
   "source": [
    "# Excrcises"
   ]
  },
  {
   "cell_type": "code",
   "execution_count": 51,
   "id": "58f95ea2",
   "metadata": {},
   "outputs": [
    {
     "name": "stdout",
     "output_type": "stream",
     "text": [
      "result =  50.0\n"
     ]
    }
   ],
   "source": [
    "#1 Multiply 100 with 5 and divide the product by 10 store in result variable and print the result variable.\n",
    "a=100\n",
    "b=5\n",
    "result=(a*b)/10\n",
    "print(\"result = \" ,result)"
   ]
  },
  {
   "cell_type": "code",
   "execution_count": 52,
   "id": "3894f6f6",
   "metadata": {},
   "outputs": [
    {
     "name": "stdout",
     "output_type": "stream",
     "text": [
      "Yes, apple is a fruit!\n"
     ]
    }
   ],
   "source": [
    "#2  Enter the missing keyword in the following code\n",
    "fruits = [\"apple\", \"banana\"]\n",
    "if \"apple\"  in fruits:\n",
    "  print(\"Yes, apple is a fruit!\")"
   ]
  },
  {
   "cell_type": "code",
   "execution_count": 53,
   "id": "962d94ea",
   "metadata": {},
   "outputs": [
    {
     "name": "stdout",
     "output_type": "stream",
     "text": [
      "True\n"
     ]
    }
   ],
   "source": [
    "#3 Use the correct comparison not equal to operator between 100 and 105.\n",
    "print(100!=105)"
   ]
  },
  {
   "cell_type": "code",
   "execution_count": 54,
   "id": "a0b9be06",
   "metadata": {},
   "outputs": [
    {
     "name": "stdout",
     "output_type": "stream",
     "text": [
      "At least one of the statements is true\n"
     ]
    }
   ],
   "source": [
    "#4 Both the conditions should be true you will use what\n",
    "x = 10\n",
    "if x == 10  or x == 4:\n",
    "  print(\"At least one of the statements is true\")"
   ]
  },
  {
   "cell_type": "code",
   "execution_count": 56,
   "id": "18cae232",
   "metadata": {},
   "outputs": [],
   "source": [
    "#4 One conditions should be true you will use what\n",
    "x = 4\n",
    "if x == 10  and 4 == 4:\n",
    "  print(\"At least one of the statements is true\")"
   ]
  },
  {
   "cell_type": "code",
   "execution_count": null,
   "id": "4e41d336",
   "metadata": {},
   "outputs": [],
   "source": [
    "#5 What is operator vs operand give an example\n",
    "\"\"\"\n",
    "result=5 + 10\n",
    "5 and 10 operands\n",
    "+ operator\n",
    "\"\"\""
   ]
  },
  {
   "cell_type": "code",
   "execution_count": 57,
   "id": "6937c526",
   "metadata": {},
   "outputs": [
    {
     "name": "stdout",
     "output_type": "stream",
     "text": [
      "x is not greater than 3\n",
      "x is equal to z\n",
      "x is greater than y\n",
      "y is not equal to x\n",
      "z is less than or equal to x\n",
      "y is greater than 6 or equal to 6\n"
     ]
    }
   ],
   "source": [
    "#6 Predict the output:\n",
    "x = 3\n",
    "y = 6\n",
    "z = 3\n",
    "if x > 3: # 0\n",
    "    print('x is greater than 3')\n",
    "else: #1\n",
    "    print('x is not greater than 3')\n",
    "if x != z: #0\n",
    "    print('x is not equal to z')\n",
    "else: #1\n",
    "    print('x is equal to z')\n",
    "if y < x: #0\n",
    "    print('y is lesser than x')\n",
    "else:  #1\n",
    "    print('x is greater than y')\n",
    "if y == x: #0\n",
    "    print('y is equal to x')\n",
    "else: #1\n",
    "    print('y is not equal to x')\n",
    "if z <= x: #1\n",
    "    print('z is less than or equal to x')\n",
    "else: #0\n",
    "    print('z is greater than and not equal to x')\n",
    "if y >= 6: #1\n",
    "    print('y is greater than 6 or equal to 6')\n",
    "else:# 0\n",
    "    print('y is less than 6 and not equal to 6')"
   ]
  },
  {
   "cell_type": "code",
   "execution_count": 60,
   "id": "559be147",
   "metadata": {},
   "outputs": [
    {
     "name": "stdout",
     "output_type": "stream",
     "text": [
      "enter ur value =7\n",
      "enter ur 2nd value =3\n",
      "10\n"
     ]
    }
   ],
   "source": [
    "#7 Do the following\n",
    "\"\"\"\n",
    "First get two inputs from the user as a string. \n",
    "Check if they are numbers with if statement and then add them and display the sum.\n",
    "\"\"\"\n",
    "s1=input(\"enter ur value =\")\n",
    "s2=input(\"enter ur 2nd value =\")\n",
    "\n",
    "if s1.isnumeric() == True and s2.isnumeric()==True:\n",
    "    s3=int(s1)+int(s2)\n",
    "    print(s3)\n"
   ]
  },
  {
   "cell_type": "code",
   "execution_count": null,
   "id": "13376a25",
   "metadata": {},
   "outputs": [],
   "source": [
    "# will give additional exercises for the weeks class"
   ]
  },
  {
   "cell_type": "code",
   "execution_count": null,
   "id": "2247fbee",
   "metadata": {},
   "outputs": [],
   "source": []
  },
  {
   "cell_type": "code",
   "execution_count": null,
   "id": "70956533",
   "metadata": {},
   "outputs": [],
   "source": []
  },
  {
   "cell_type": "code",
   "execution_count": null,
   "id": "654d7e11",
   "metadata": {},
   "outputs": [],
   "source": []
  },
  {
   "cell_type": "code",
   "execution_count": null,
   "id": "0825f83c",
   "metadata": {},
   "outputs": [],
   "source": []
  },
  {
   "cell_type": "code",
   "execution_count": null,
   "id": "cf7539e6",
   "metadata": {},
   "outputs": [],
   "source": []
  }
 ],
 "metadata": {
  "kernelspec": {
   "display_name": "Python 3 (ipykernel)",
   "language": "python",
   "name": "python3"
  },
  "language_info": {
   "codemirror_mode": {
    "name": "ipython",
    "version": 3
   },
   "file_extension": ".py",
   "mimetype": "text/x-python",
   "name": "python",
   "nbconvert_exporter": "python",
   "pygments_lexer": "ipython3",
   "version": "3.9.13"
  }
 },
 "nbformat": 4,
 "nbformat_minor": 5
}
