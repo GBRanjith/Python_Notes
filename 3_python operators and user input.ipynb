{
 "cells": [
  {
   "cell_type": "markdown",
   "id": "2494609e",
   "metadata": {},
   "source": [
    "##### Python User Input"
   ]
  },
  {
   "cell_type": "code",
   "execution_count": null,
   "id": "9a83482c",
   "metadata": {},
   "outputs": [],
   "source": [
    "# Python allows users to interact with the users\n",
    "# We use input() function for this purpose......"
   ]
  },
  {
   "cell_type": "code",
   "execution_count": 2,
   "id": "fa366faf",
   "metadata": {},
   "outputs": [
    {
     "name": "stdout",
     "output_type": "stream",
     "text": [
      "Enter your username:Arjun Sriraam\n",
      "Enter your password:Narayana@789\n",
      "Username is: Arjun Sriraam\n",
      "Password is: Narayana@789\n"
     ]
    }
   ],
   "source": [
    "username = input(\"Enter your username:\")\n",
    "password = input(\"Enter your password:\")\n",
    "print(\"Username is: \" + username)\n",
    "print(\"Password is: \" + password)"
   ]
  },
  {
   "cell_type": "markdown",
   "id": "de3117c0",
   "metadata": {},
   "source": [
    "###### Python operators"
   ]
  },
  {
   "cell_type": "markdown",
   "id": "5c674068",
   "metadata": {},
   "source": [
    "Types of operators in Python:\n",
    "1. Arithmetic operators\n",
    "2. Assignment operators\n",
    "3. Comparison operators\n",
    "4. Logical operators\n",
    "5. Identity operators\n",
    "6. Membership operators\n",
    "7. Bitwise operators"
   ]
  },
  {
   "cell_type": "markdown",
   "id": "1bac2b48",
   "metadata": {},
   "source": [
    "#### type 1 Arithmetic operators"
   ]
  },
  {
   "cell_type": "code",
   "execution_count": 4,
   "id": "961bb48d",
   "metadata": {},
   "outputs": [
    {
     "name": "stdout",
     "output_type": "stream",
     "text": [
      "15\n"
     ]
    }
   ],
   "source": [
    "# Addition\n",
    "x = 10\n",
    "y = 5\n",
    "z = x + y\n",
    "print(z)"
   ]
  },
  {
   "cell_type": "code",
   "execution_count": 5,
   "id": "593830f8",
   "metadata": {},
   "outputs": [
    {
     "name": "stdout",
     "output_type": "stream",
     "text": [
      "5\n"
     ]
    }
   ],
   "source": [
    "# Subtraction\n",
    "x = 10\n",
    "y = 5\n",
    "z = x - y\n",
    "print(z)"
   ]
  },
  {
   "cell_type": "code",
   "execution_count": 6,
   "id": "d6b058f2",
   "metadata": {},
   "outputs": [
    {
     "name": "stdout",
     "output_type": "stream",
     "text": [
      "50\n"
     ]
    }
   ],
   "source": [
    "# Multiplication\n",
    "x = 10\n",
    "y = 5\n",
    "z = x * y\n",
    "print(z)"
   ]
  },
  {
   "cell_type": "code",
   "execution_count": 7,
   "id": "9eec3980",
   "metadata": {},
   "outputs": [
    {
     "name": "stdout",
     "output_type": "stream",
     "text": [
      "2.0\n"
     ]
    }
   ],
   "source": [
    "# Division\n",
    "x = 10\n",
    "y = 5\n",
    "z = x / y\n",
    "print(z)"
   ]
  },
  {
   "cell_type": "code",
   "execution_count": 8,
   "id": "807d3c5d",
   "metadata": {},
   "outputs": [
    {
     "name": "stdout",
     "output_type": "stream",
     "text": [
      "9\n"
     ]
    }
   ],
   "source": [
    "# Floor division\n",
    "x = 19\n",
    "y = 2\n",
    "z = x // y\n",
    "print(z)\n",
    "#the floor division // rounds the result down to the nearest whole number"
   ]
  },
  {
   "cell_type": "code",
   "execution_count": 9,
   "id": "e02260b0",
   "metadata": {},
   "outputs": [
    {
     "name": "stdout",
     "output_type": "stream",
     "text": [
      "1\n"
     ]
    }
   ],
   "source": [
    "# Modulus\n",
    "x = 19\n",
    "y = 2\n",
    "z = x % y\n",
    "print(z)\n",
    "# It returns the remainder"
   ]
  },
  {
   "cell_type": "code",
   "execution_count": 10,
   "id": "acb02b66",
   "metadata": {},
   "outputs": [
    {
     "name": "stdout",
     "output_type": "stream",
     "text": [
      "361\n"
     ]
    }
   ],
   "source": [
    "# Exponentiation\n",
    "x = 19\n",
    "y = 2\n",
    "z = x ** y # means to the power of  19**2 = 19*19\n",
    "print(z)"
   ]
  },
  {
   "cell_type": "markdown",
   "id": "42ee3061",
   "metadata": {},
   "source": [
    "#### type 2 Assignment operators"
   ]
  },
  {
   "cell_type": "code",
   "execution_count": 13,
   "id": "123feef9",
   "metadata": {},
   "outputs": [
    {
     "name": "stdout",
     "output_type": "stream",
     "text": [
      "35\n"
     ]
    }
   ],
   "source": [
    "# = operator\n",
    "x = 35\n",
    "print(x)"
   ]
  },
  {
   "cell_type": "code",
   "execution_count": 14,
   "id": "d9b09502",
   "metadata": {},
   "outputs": [
    {
     "name": "stdout",
     "output_type": "stream",
     "text": [
      "10\n",
      "10\n"
     ]
    }
   ],
   "source": [
    "# += operator\n",
    "x = 5\n",
    "x = x + 5 # is the same as x += 5\n",
    "print(x)\n",
    "x = 5\n",
    "x += 5 # Use this as this is Pythonic.....\n",
    "print(x)"
   ]
  },
  {
   "cell_type": "code",
   "execution_count": 15,
   "id": "13d26bb1",
   "metadata": {},
   "outputs": [
    {
     "name": "stdout",
     "output_type": "stream",
     "text": [
      "0\n",
      "0\n"
     ]
    }
   ],
   "source": [
    "# -= operator\n",
    "x = 5\n",
    "x = x - 5 # is the same as x -= 5\n",
    "print(x)\n",
    "x = 5\n",
    "x -= 5 # Use this as this is Pythonic.....\n",
    "print(x)"
   ]
  },
  {
   "cell_type": "code",
   "execution_count": 16,
   "id": "9c52051f",
   "metadata": {},
   "outputs": [
    {
     "name": "stdout",
     "output_type": "stream",
     "text": [
      "25\n",
      "25\n"
     ]
    }
   ],
   "source": [
    "# *= operator\n",
    "x = 5\n",
    "x = x * 5 # is the same as x *= 5\n",
    "print(x)\n",
    "x = 5\n",
    "x *= 5 # Use this as this is Pythonic.....\n",
    "print(x)"
   ]
  },
  {
   "cell_type": "code",
   "execution_count": 17,
   "id": "b18c6312",
   "metadata": {},
   "outputs": [
    {
     "name": "stdout",
     "output_type": "stream",
     "text": [
      "1.0\n",
      "1.0\n"
     ]
    }
   ],
   "source": [
    "# /= operator\n",
    "x = 5\n",
    "x = x / 5 # is the same as x /= 5\n",
    "print(x)\n",
    "x = 5\n",
    "x /= 5 # Use this as this is Pythonic.....\n",
    "print(x)"
   ]
  },
  {
   "cell_type": "code",
   "execution_count": 18,
   "id": "d9503661",
   "metadata": {},
   "outputs": [
    {
     "name": "stdout",
     "output_type": "stream",
     "text": [
      "2\n",
      "2\n"
     ]
    }
   ],
   "source": [
    "# //= operator\n",
    "x = 5\n",
    "x = x // 2 # is the same as x //= 2\n",
    "print(x)\n",
    "x = 5\n",
    "x //= 2 # Use this as this is Pythonic.....\n",
    "print(x)"
   ]
  },
  {
   "cell_type": "code",
   "execution_count": 19,
   "id": "9120f5d2",
   "metadata": {},
   "outputs": [
    {
     "name": "stdout",
     "output_type": "stream",
     "text": [
      "25\n",
      "25\n"
     ]
    }
   ],
   "source": [
    "# **= operator\n",
    "x = 5\n",
    "x = x ** 2 # is the same as x **= 2\n",
    "print(x)\n",
    "x = 5\n",
    "x **= 2 # Use this as this is Pythonic.....\n",
    "print(x)"
   ]
  },
  {
   "cell_type": "code",
   "execution_count": null,
   "id": "05e94b7f",
   "metadata": {},
   "outputs": [],
   "source": [
    "# Other assignment operators less used in basics\n",
    "# >>= operator, <<= operator, &= operator, |= operator and ^= operator"
   ]
  },
  {
   "cell_type": "markdown",
   "id": "5c848fc2",
   "metadata": {},
   "source": [
    "##### type 3 Comparison operators"
   ]
  },
  {
   "cell_type": "code",
   "execution_count": null,
   "id": "9a746a67",
   "metadata": {},
   "outputs": [],
   "source": [
    "#Python Comparison Operators\n",
    "# Comparison operators are used to compare two values which returns a boolean."
   ]
  },
  {
   "cell_type": "code",
   "execution_count": 32,
   "id": "1ec9b84f",
   "metadata": {},
   "outputs": [
    {
     "name": "stdout",
     "output_type": "stream",
     "text": [
      "True\n",
      "False\n"
     ]
    }
   ],
   "source": [
    "# == Equal operator\n",
    "x = 5\n",
    "y = 5\n",
    "print(x == y)\n",
    "x = 10\n",
    "y = 5\n",
    "print(x == y)"
   ]
  },
  {
   "cell_type": "code",
   "execution_count": 33,
   "id": "a77e911f",
   "metadata": {},
   "outputs": [
    {
     "name": "stdout",
     "output_type": "stream",
     "text": [
      "False\n",
      "True\n"
     ]
    }
   ],
   "source": [
    "#!= Not equal operator\n",
    "x = 5\n",
    "y = 5\n",
    "print(x != y)\n",
    "x = 10\n",
    "y = 5\n",
    "print(x != y)"
   ]
  },
  {
   "cell_type": "code",
   "execution_count": 34,
   "id": "51429223",
   "metadata": {},
   "outputs": [
    {
     "name": "stdout",
     "output_type": "stream",
     "text": [
      "False\n",
      "True\n"
     ]
    }
   ],
   "source": [
    "# > Greater than operator\n",
    "x = 5\n",
    "y = 5\n",
    "print(x > y)\n",
    "x = 10\n",
    "y = 5\n",
    "print(x > y)"
   ]
  },
  {
   "cell_type": "code",
   "execution_count": 35,
   "id": "715cd6ef",
   "metadata": {},
   "outputs": [
    {
     "name": "stdout",
     "output_type": "stream",
     "text": [
      "True\n",
      "True\n"
     ]
    }
   ],
   "source": [
    "# >= Greater than or equal to operator \n",
    "x = 5\n",
    "y = 5\n",
    "print(x >= y)\n",
    "x = 10\n",
    "y = 5\n",
    "print(x >= y)"
   ]
  },
  {
   "cell_type": "code",
   "execution_count": 36,
   "id": "91ed581d",
   "metadata": {},
   "outputs": [
    {
     "name": "stdout",
     "output_type": "stream",
     "text": [
      "False\n",
      "False\n"
     ]
    }
   ],
   "source": [
    "# < Less than operator\n",
    "x = 5\n",
    "y = 5\n",
    "print(x < y)\n",
    "x = 10\n",
    "y = 5\n",
    "print(x < y)"
   ]
  },
  {
   "cell_type": "code",
   "execution_count": 37,
   "id": "ef9db961",
   "metadata": {},
   "outputs": [
    {
     "name": "stdout",
     "output_type": "stream",
     "text": [
      "True\n",
      "False\n"
     ]
    }
   ],
   "source": [
    "# <= Less than or equal to Operator\n",
    "x = 5\n",
    "y = 5\n",
    "print(x <= y)\n",
    "x = 10\n",
    "y = 5\n",
    "print(x <= y)"
   ]
  },
  {
   "cell_type": "markdown",
   "id": "ad303cc9",
   "metadata": {},
   "source": [
    "##### type 4 Python Logical Operators\n",
    "Logical operators are used to combine conditional statements in python to filter based on the requirements. Example: We need to make sure that the number is equal to 5 and also the number is greater than 2\n"
   ]
  },
  {
   "cell_type": "code",
   "execution_count": 40,
   "id": "2026fb19",
   "metadata": {},
   "outputs": [
    {
     "name": "stdout",
     "output_type": "stream",
     "text": [
      "True\n",
      "False\n"
     ]
    }
   ],
   "source": [
    "# and logical operator- Returns True if both statements are true\n",
    "x = 2 \n",
    "print(x < 5 and  x == 2)\n",
    "x = 3\n",
    "print(x < 5 and  x == 2)"
   ]
  },
  {
   "cell_type": "code",
   "execution_count": 41,
   "id": "fcfedd24",
   "metadata": {},
   "outputs": [
    {
     "data": {
      "text/plain": [
       "True"
      ]
     },
     "execution_count": 41,
     "metadata": {},
     "output_type": "execute_result"
    }
   ],
   "source": [
    "# or logical operator, Returns True if one of the statements is true\n",
    "x = 4\n",
    "x < 5 or x < 4"
   ]
  },
  {
   "cell_type": "code",
   "execution_count": 43,
   "id": "decbf18c",
   "metadata": {},
   "outputs": [
    {
     "name": "stdout",
     "output_type": "stream",
     "text": [
      "False\n",
      "True\n"
     ]
    }
   ],
   "source": [
    "# not Reverse the result, returns False if the result is true\n",
    "x = 4\n",
    "print(not(x < 5 and x < 10))\n",
    "x = 11\n",
    "print(not(x < 5 and x < 10))"
   ]
  },
  {
   "cell_type": "markdown",
   "id": "b922ec1b",
   "metadata": {},
   "source": [
    "##### type 5 Python Identity Operators"
   ]
  },
  {
   "cell_type": "code",
   "execution_count": null,
   "id": "784e03cd",
   "metadata": {},
   "outputs": [],
   "source": [
    "# Identity operators are used to compare the objects, not if they are equal, but if they are actually the same object, with the same memory location"
   ]
  },
  {
   "cell_type": "code",
   "execution_count": 1,
   "id": "dd443483",
   "metadata": {},
   "outputs": [
    {
     "data": {
      "text/plain": [
       "True"
      ]
     },
     "execution_count": 1,
     "metadata": {},
     "output_type": "execute_result"
    }
   ],
   "source": [
    "# is Returns True if both variables are the same object\n",
    "x = 5\n",
    "y = 5 \n",
    "x is y"
   ]
  },
  {
   "cell_type": "code",
   "execution_count": 3,
   "id": "85a443ff",
   "metadata": {},
   "outputs": [
    {
     "data": {
      "text/plain": [
       "True"
      ]
     },
     "execution_count": 3,
     "metadata": {},
     "output_type": "execute_result"
    }
   ],
   "source": [
    "#is not Returns True if both variables are not the same object x is not y\n",
    "x = 5\n",
    "y = 6\n",
    "x is not y"
   ]
  },
  {
   "cell_type": "markdown",
   "id": "e7db1598",
   "metadata": {},
   "source": [
    "##### type 6 Membership operators"
   ]
  },
  {
   "cell_type": "code",
   "execution_count": null,
   "id": "f1873c4b",
   "metadata": {},
   "outputs": [],
   "source": [
    "# Membership operators are used to test if a sequence is presented in an object"
   ]
  },
  {
   "cell_type": "code",
   "execution_count": 4,
   "id": "9b8f22df",
   "metadata": {},
   "outputs": [
    {
     "data": {
      "text/plain": [
       "True"
      ]
     },
     "execution_count": 4,
     "metadata": {},
     "output_type": "execute_result"
    }
   ],
   "source": [
    "# in  Returns True if a sequence with the specified value is present in the object\n",
    "x = \"star\"\n",
    "y = \"I am a star\"\n",
    "x in y"
   ]
  },
  {
   "cell_type": "code",
   "execution_count": 5,
   "id": "79f8ecb5",
   "metadata": {},
   "outputs": [
    {
     "data": {
      "text/plain": [
       "True"
      ]
     },
     "execution_count": 5,
     "metadata": {},
     "output_type": "execute_result"
    }
   ],
   "source": [
    "# not in Returns True if a sequence with the specified value is not present in the object\n",
    "x = \"silver\"\n",
    "y = \"I am a star\"\n",
    "x not in y"
   ]
  },
  {
   "cell_type": "markdown",
   "id": "9c6f290d",
   "metadata": {},
   "source": [
    "##### type 7 Bitwise operators "
   ]
  },
  {
   "cell_type": "markdown",
   "id": "0daef79c",
   "metadata": {},
   "source": [
    "##### Python Bitwise Operators\n",
    "Used in memory management....."
   ]
  },
  {
   "cell_type": "code",
   "execution_count": null,
   "id": "41a6f0f9",
   "metadata": {},
   "outputs": [],
   "source": [
    "# Excrcises"
   ]
  },
  {
   "cell_type": "code",
   "execution_count": null,
   "id": "58f95ea2",
   "metadata": {},
   "outputs": [],
   "source": [
    "#1 Multiply 100 with 5 and divide the product by 10 stor in result and print the result."
   ]
  },
  {
   "cell_type": "code",
   "execution_count": null,
   "id": "3894f6f6",
   "metadata": {},
   "outputs": [],
   "source": [
    "#2  Enter the missing keyword in the following code\n",
    "fruits = [\"apple\", \"banana\"]\n",
    "if \"apple\"  ? fruits:\n",
    "  print(\"Yes, apple is a fruit!\")"
   ]
  },
  {
   "cell_type": "code",
   "execution_count": null,
   "id": "962d94ea",
   "metadata": {},
   "outputs": [],
   "source": [
    "#3 Use the correct comparison not equal to operator between 100 and 105."
   ]
  },
  {
   "cell_type": "code",
   "execution_count": null,
   "id": "a0b9be06",
   "metadata": {},
   "outputs": [],
   "source": [
    "#4 Both the conditions should be true you will use what\n",
    "x = 10\n",
    "if x == 10  ? x == 4:\n",
    "  print(\"At least one of the statements is true\")"
   ]
  },
  {
   "cell_type": "code",
   "execution_count": null,
   "id": "18cae232",
   "metadata": {},
   "outputs": [],
   "source": [
    "#4 One conditions should be true you will use what\n",
    "x = 10\n",
    "if x == 10  ? 4 == 4:\n",
    "  print(\"At least one of the statements is true\")"
   ]
  }
 ],
 "metadata": {
  "kernelspec": {
   "display_name": "Python 3 (ipykernel)",
   "language": "python",
   "name": "python3"
  },
  "language_info": {
   "codemirror_mode": {
    "name": "ipython",
    "version": 3
   },
   "file_extension": ".py",
   "mimetype": "text/x-python",
   "name": "python",
   "nbconvert_exporter": "python",
   "pygments_lexer": "ipython3",
   "version": "3.9.7"
  }
 },
 "nbformat": 4,
 "nbformat_minor": 5
}
