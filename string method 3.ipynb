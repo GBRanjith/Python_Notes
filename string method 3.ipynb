{
 "cells": [
  {
   "cell_type": "markdown",
   "id": "0de57f54",
   "metadata": {},
   "source": [
    "# 11.index()"
   ]
  },
  {
   "cell_type": "code",
   "execution_count": null,
   "id": "0ae080d4",
   "metadata": {},
   "outputs": [],
   "source": [
    "\"\"\"\"\"The index() method finds the first occurrence of the specified value.\n",
    "\n",
    "The index() method raises an exception if the value is not found."
   ]
  },
  {
   "cell_type": "code",
   "execution_count": 26,
   "id": "ad7d20fa",
   "metadata": {},
   "outputs": [
    {
     "name": "stdout",
     "output_type": "stream",
     "text": [
      "1\n"
     ]
    }
   ],
   "source": [
    "x=\"python\"\n",
    "result=x.index('y')\n",
    "print(result)\n"
   ]
  },
  {
   "cell_type": "markdown",
   "id": "1733d1f7",
   "metadata": {},
   "source": [
    "# 12.isalnum()"
   ]
  },
  {
   "cell_type": "code",
   "execution_count": null,
   "id": "dbc7c0fb",
   "metadata": {},
   "outputs": [],
   "source": [
    "\"\"\"\"\" The isalnum() method returns True if all the characters are alphanumeric, meaning alphabet letter (a-z) and numbers (0-9).\n",
    "\n",
    "Example of characters that are not alphanumeric: (space)!#%&? etc."
   ]
  },
  {
   "cell_type": "code",
   "execution_count": 30,
   "id": "ab17d8e0",
   "metadata": {},
   "outputs": [
    {
     "name": "stdout",
     "output_type": "stream",
     "text": [
      "False\n"
     ]
    }
   ],
   "source": [
    "x=\"123 vikki\"\n",
    "result=x.isalnum()\n",
    "print(result)"
   ]
  },
  {
   "cell_type": "markdown",
   "id": "1e1cbf00",
   "metadata": {},
   "source": [
    "# 13.isalpha()"
   ]
  },
  {
   "cell_type": "code",
   "execution_count": null,
   "id": "ce14cf27",
   "metadata": {},
   "outputs": [],
   "source": [
    "\"\"\"\"\"The isalpha() method returns True if all the characters are alphabet letters (a-z).\n",
    "\n",
    "Example of characters that are not alphabet letters: (space)!#%&? etc."
   ]
  },
  {
   "cell_type": "code",
   "execution_count": 32,
   "id": "5c65a36b",
   "metadata": {},
   "outputs": [
    {
     "name": "stdout",
     "output_type": "stream",
     "text": [
      "False\n"
     ]
    }
   ],
   "source": [
    "y=\"i love python\"\n",
    "result=y.isalpha()\n",
    "print(result)"
   ]
  },
  {
   "cell_type": "markdown",
   "id": "6debee8b",
   "metadata": {},
   "source": [
    "# 14.isdecimal()"
   ]
  },
  {
   "cell_type": "code",
   "execution_count": null,
   "id": "89cd2072",
   "metadata": {},
   "outputs": [],
   "source": [
    "\"\"\"\"\"The isdecimal() method returns True if all the characters are decimals (0-9).\n",
    "\n",
    "This method is used on unicode objects."
   ]
  },
  {
   "cell_type": "code",
   "execution_count": 35,
   "id": "8c2a8bfc",
   "metadata": {},
   "outputs": [
    {
     "name": "stdout",
     "output_type": "stream",
     "text": [
      "True\n"
     ]
    }
   ],
   "source": [
    "m=\"143\"\n",
    "sentance=m.isdecimal()\n",
    "print(sentance)"
   ]
  },
  {
   "cell_type": "markdown",
   "id": "50acdcda",
   "metadata": {},
   "source": [
    "# 15.isdigit()"
   ]
  },
  {
   "cell_type": "code",
   "execution_count": null,
   "id": "a7833d8c",
   "metadata": {},
   "outputs": [],
   "source": [
    "\"\"\"\"\"The isdigit() method returns True if all the characters are digits, otherwise False.\n",
    "\n",
    "Exponents, like ², are also considered to be a digit."
   ]
  },
  {
   "cell_type": "code",
   "execution_count": 37,
   "id": "1a8a0092",
   "metadata": {},
   "outputs": [
    {
     "name": "stdout",
     "output_type": "stream",
     "text": [
      "False\n"
     ]
    }
   ],
   "source": [
    "t=\"123.45\"\n",
    "result=t.isdigit()\n",
    "print(result)"
   ]
  },
  {
   "cell_type": "code",
   "execution_count": null,
   "id": "3828b710",
   "metadata": {},
   "outputs": [],
   "source": []
  },
  {
   "cell_type": "code",
   "execution_count": null,
   "id": "b32403cf",
   "metadata": {},
   "outputs": [],
   "source": []
  }
 ],
 "metadata": {
  "kernelspec": {
   "display_name": "Python 3 (ipykernel)",
   "language": "python",
   "name": "python3"
  },
  "language_info": {
   "codemirror_mode": {
    "name": "ipython",
    "version": 3
   },
   "file_extension": ".py",
   "mimetype": "text/x-python",
   "name": "python",
   "nbconvert_exporter": "python",
   "pygments_lexer": "ipython3",
   "version": "3.9.13"
  }
 },
 "nbformat": 4,
 "nbformat_minor": 5
}
