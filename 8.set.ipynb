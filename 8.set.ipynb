{
 "cells": [
  {
   "cell_type": "code",
   "execution_count": null,
   "id": "d7c11692",
   "metadata": {},
   "outputs": [],
   "source": [
    "\"\"\"\n",
    "--------------------------------------------------list--------------------------------------\n",
    "remove()\n",
    "\n",
    "---------------------------------------------------set---------------------------------------\n",
    "\n",
    "symmetric_difference()\n",
    "\n",
    "symmetric_difference_update()\n",
    "\n",
    "\"\"\""
   ]
  },
  {
   "cell_type": "code",
   "execution_count": null,
   "id": "a3d25181",
   "metadata": {},
   "outputs": [],
   "source": [
    "#List and set methods\n",
    "\n",
    "\n",
    "#list\n",
    "\n",
    "\n",
    "#--------------------------------------------remove()----------------------------------------------------------\n",
    "\"\"\"\n",
    "=>it is used to remove specific from list\n",
    "\n",
    "=>Syntax----------list.remove(elmnt)\n",
    "\n",
    "                  elmnt----Required. Any type (string, number, list etc.) The element you want to remove.\n",
    "\"\"\"\n",
    "#---------------------------------------------Example----------------------------------------------------------\n",
    "\n",
    "a=['chennai','kumbakonam','Thanjavur']\n",
    "\n",
    "print(a)\n",
    "\n",
    "a.remove('chennai')\n",
    "\n",
    "print(a)"
   ]
  },
  {
   "cell_type": "code",
   "execution_count": null,
   "id": "1e16cf5a",
   "metadata": {},
   "outputs": [],
   "source": [
    "# set methods\n",
    "\n",
    "#-------------------------------------------Symmetric_difference()----------------------------------------\n",
    "\n",
    "\"\"\"\n",
    "\n",
    "=> The symmetric_difference() method returns a set that contains all items from both set, \n",
    "   but not the items that are present in both sets.\n",
    "\n",
    "   Meaning: The returned set contains a mix of items that are not present in both sets.\n",
    "   \n",
    "=>Syntax---------set.symmetric_difference(set)\n",
    "\n",
    "                 set-----Required. The set to check for matches in.\n",
    "                 \n",
    "\"\"\"\n",
    "#--------------------------------------------Example-----------------------------------------------------\n",
    "\n",
    "Set_1={'white','black','orange','green'}\n",
    "\n",
    "Set_2={'pink','brown','white','black'}\n",
    "\n",
    "Set_3=Set_1.symmetric_difference(Set_2)\n",
    "\n",
    "print(Set_3)\n",
    "\n",
    "\n"
   ]
  },
  {
   "cell_type": "code",
   "execution_count": null,
   "id": "828ea147",
   "metadata": {},
   "outputs": [],
   "source": [
    "#-------------------------------------------symmetric_difference_update()---------------------------------\n",
    "\"\"\"\n",
    "=> The symmetric_difference_update() method updates the original set by removing items that are present in both sets, \n",
    "   and inserting the other items.\n",
    "\n",
    "=>Syntax------------set.symmetric_difference_update(set)\n",
    "         \n",
    "                    set----Required. The set to check for matches in.\n",
    "\"\"\"\n",
    "\n",
    "#---------------------------------------------------Example------------------------------------------------\n",
    "\n",
    "Set_1={'white','black','orange','green'}\n",
    "\n",
    "Set_2={'pink','brown','white','black'}\n",
    "\n",
    "Set_1.symmetric_difference_update(Set_2)\n",
    "\n",
    "print(Set_1)\n"
   ]
  }
 ],
 "metadata": {
  "kernelspec": {
   "display_name": "Python 3 (ipykernel)",
   "language": "python",
   "name": "python3"
  },
  "language_info": {
   "codemirror_mode": {
    "name": "ipython",
    "version": 3
   },
   "file_extension": ".py",
   "mimetype": "text/x-python",
   "name": "python",
   "nbconvert_exporter": "python",
   "pygments_lexer": "ipython3",
   "version": "3.9.13"
  }
 },
 "nbformat": 4,
 "nbformat_minor": 5
}
