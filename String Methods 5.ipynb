{
 "cells": [
  {
   "cell_type": "markdown",
   "id": "f26824d9",
   "metadata": {},
   "source": [
    "# 21. istitle()"
   ]
  },
  {
   "cell_type": "markdown",
   "id": "3357f392",
   "metadata": {},
   "source": [
    "The istitle() method returns True if all words in a text start with a upper case letter, AND the rest of the word are lower case letters, otherwise False.\n",
    "\n",
    "Symbols and numbers are ignored.\n",
    "\n",
    "**Syntax:   string.istitle()**"
   ]
  },
  {
   "cell_type": "code",
   "execution_count": 1,
   "id": "cd4dccdd",
   "metadata": {},
   "outputs": [
    {
     "name": "stdout",
     "output_type": "stream",
     "text": [
      "True\n"
     ]
    }
   ],
   "source": [
    "# Check if each word start with an upper case letter:\n",
    "\n",
    "txt = \"Hello, And Welcome To My World!\"\n",
    "\n",
    "x = txt.istitle()\n",
    "\n",
    "print(x)"
   ]
  },
  {
   "cell_type": "code",
   "execution_count": 3,
   "id": "8c2b5d19",
   "metadata": {},
   "outputs": [
    {
     "name": "stdout",
     "output_type": "stream",
     "text": [
      "False\n",
      "True\n",
      "True\n",
      "True\n"
     ]
    }
   ],
   "source": [
    "#Check if each word start with an upper case letter\n",
    "\n",
    "a = \"HELLO, AND WELCOME TO MY WORLD\"\n",
    "b = \"Hello\"\n",
    "c = \"22 Names\"\n",
    "d = \"This Is %'!?\"\n",
    "\n",
    "print(a.istitle())\n",
    "print(b.istitle())\n",
    "print(c.istitle())\n",
    "print(d.istitle())"
   ]
  },
  {
   "cell_type": "markdown",
   "id": "08ff0f80",
   "metadata": {},
   "source": [
    " # 22. isupper()"
   ]
  },
  {
   "cell_type": "markdown",
   "id": "58bd9e32",
   "metadata": {},
   "source": [
    "The isupper() method returns True if all the characters are in upper case, otherwise False.\n",
    "\n",
    "Numbers, symbols and spaces are not checked, only alphabet characters.\n",
    "\n",
    "**Syntax: string.isupper()**"
   ]
  },
  {
   "cell_type": "code",
   "execution_count": 4,
   "id": "3fcaf403",
   "metadata": {},
   "outputs": [
    {
     "name": "stdout",
     "output_type": "stream",
     "text": [
      "False\n",
      "False\n",
      "True\n"
     ]
    }
   ],
   "source": [
    "#Check if all the characters in the texts are in upper case:\n",
    "\n",
    "a = \"Hello World!\"\n",
    "b = \"hello 123\"\n",
    "c = \"MY NAME IS PETER\"\n",
    "\n",
    "print(a.isupper())\n",
    "print(b.isupper())\n",
    "print(c.isupper())"
   ]
  },
  {
   "cell_type": "markdown",
   "id": "0cba79eb",
   "metadata": {},
   "source": [
    "# 23. join()"
   ]
  },
  {
   "cell_type": "markdown",
   "id": "df260f44",
   "metadata": {},
   "source": [
    "The join() method takes all items in an iterable and joins them into one string.\n",
    "\n",
    "A string must be specified as the separator.\n",
    "\n",
    "**Syntax:string.join(iterable)**\n",
    "\n",
    "iterable ->Required. Any iterable object where all the returned values are strings"
   ]
  },
  {
   "cell_type": "code",
   "execution_count": 5,
   "id": "4e246f6b",
   "metadata": {},
   "outputs": [
    {
     "name": "stdout",
     "output_type": "stream",
     "text": [
      "John#Peter#Vicky\n"
     ]
    }
   ],
   "source": [
    "#Join all items in a list into a string, using a hash character as separator:\n",
    "\n",
    "list = [\"John\", \"Peter\", \"Vicky\"]\n",
    "\n",
    "x = \"#\".join(list)\n",
    "\n",
    "print(x)"
   ]
  },
  {
   "cell_type": "code",
   "execution_count": 8,
   "id": "81e17392",
   "metadata": {},
   "outputs": [
    {
     "name": "stdout",
     "output_type": "stream",
     "text": [
      "nameTESTcountry\n"
     ]
    }
   ],
   "source": [
    "#Join all items in a dictionary into a string, using the word \"TEST\" as separator:\n",
    "\n",
    "myDict = {\"name\": \"John\", \"country\": \"Norway\"}\n",
    "mySeparator = \"TEST\"\n",
    "\n",
    "x = mySeparator.join(myDict)\n",
    "\n",
    "print(x)\n"
   ]
  },
  {
   "cell_type": "markdown",
   "id": "ba63ed18",
   "metadata": {},
   "source": [
    "# 24. ljust()"
   ]
  },
  {
   "cell_type": "markdown",
   "id": "3982dd1b",
   "metadata": {},
   "source": [
    "The ljust() method will left align the string, using a specified character (space is default) as the fill character.\n",
    "\n",
    "**Syntax: string.ljust(length, character)**\n",
    "\n",
    "*length\tRequired. If length is less than or equal to the length of the string, the original string is returned.\n",
    "*character\tOptional. A character to fill the missing space (to the right of the string). Default is \" \" (space)"
   ]
  },
  {
   "cell_type": "code",
   "execution_count": 6,
   "id": "c335ea1e",
   "metadata": {},
   "outputs": [
    {
     "name": "stdout",
     "output_type": "stream",
     "text": [
      "banana               is my favorite fruit.\n"
     ]
    }
   ],
   "source": [
    "#Return a 20 characters long, left justified version of the word \"banana\":\n",
    "\n",
    "txt = \"banana\"\n",
    "\n",
    "x = txt.ljust(20)\n",
    "\n",
    "print(x, \"is my favorite fruit.\")"
   ]
  },
  {
   "cell_type": "code",
   "execution_count": 7,
   "id": "aaf363d9",
   "metadata": {},
   "outputs": [
    {
     "name": "stdout",
     "output_type": "stream",
     "text": [
      "bananaOOOOOOOOOOOOOO\n"
     ]
    }
   ],
   "source": [
    "#Using the letter \"O\" as the padding character:\n",
    "\n",
    "txt = \"banana\"\n",
    "\n",
    "x = txt.ljust(20, \"O\")\n",
    "\n",
    "print(x)"
   ]
  },
  {
   "cell_type": "markdown",
   "id": "71aa5401",
   "metadata": {},
   "source": [
    "# 25. lower()"
   ]
  },
  {
   "cell_type": "markdown",
   "id": "311da4d0",
   "metadata": {},
   "source": [
    "The lower() method returns a string where all characters are lower case.\n",
    "\n",
    " Symbols and Numbers are ignored.\n",
    "\n",
    "**Syntax : string.lower()**"
   ]
  },
  {
   "cell_type": "code",
   "execution_count": null,
   "id": "ccd0afc3",
   "metadata": {},
   "outputs": [],
   "source": [
    "#Lower case the string:\n",
    "\n",
    "txt = \"Hello my FRIENDS\"\n",
    "\n",
    "x = txt.lower()\n",
    "\n",
    "print(x)"
   ]
  }
 ],
 "metadata": {
  "kernelspec": {
   "display_name": "Python 3 (ipykernel)",
   "language": "python",
   "name": "python3"
  },
  "language_info": {
   "codemirror_mode": {
    "name": "ipython",
    "version": 3
   },
   "file_extension": ".py",
   "mimetype": "text/x-python",
   "name": "python",
   "nbconvert_exporter": "python",
   "pygments_lexer": "ipython3",
   "version": "3.9.13"
  }
 },
 "nbformat": 4,
 "nbformat_minor": 5
}
