{
 "cells": [
  {
   "cell_type": "markdown",
   "id": "0c8da8c2",
   "metadata": {},
   "source": [
    "##### Python Lists"
   ]
  },
  {
   "cell_type": "markdown",
   "id": "36db3102",
   "metadata": {},
   "source": [
    "##### Introduction for collections in Python ,list\n",
    "1. A list is a single variable where multiple items are stored in it.\n",
    "2. Collections of data/ arrays are stored in python using:\n",
    "    - Python lists : Ordered,changeable and allows duplicate members.\n",
    "    - Python Tuple: Ordered,unchangeable and allows duplicate members.\n",
    "    - Python Set : Unordered, unchangeable,unindexed,no duplicate members.\n",
    "    - Python dictionary: Ordered,changeable, no duplicate members.\n",
    "    All these above mentioned collections have different qualities and usage.\n",
    "    We will discuss these characteritics in detail at the end."
   ]
  },
  {
   "cell_type": "markdown",
   "id": "d184b8dd",
   "metadata": {},
   "source": [
    "Characteristics of list in Python:\n",
    "1. Ordered\n",
    "2. Changeable \n",
    "3. Allows duplicate members"
   ]
  },
  {
   "cell_type": "code",
   "execution_count": 78,
   "id": "5f966484",
   "metadata": {},
   "outputs": [
    {
     "name": "stdout",
     "output_type": "stream",
     "text": [
      "first item:  Sriram\n",
      "second item:  Arjun\n",
      "third item:  Vishnu\n",
      "fourth item:  Sriram\n",
      "fifth item:  Arjun\n",
      "sixth item:  Vishnu\n",
      "last item:  Vishnu\n",
      "second last item:  Arjun\n",
      "third last item:  Sriram\n",
      "fourth last item:  Vishnu\n",
      "fifth last item:  Arjun\n",
      "sixth last item:  Sriram\n"
     ]
    }
   ],
   "source": [
    "# 1 Ordered\n",
    "# lists are ordered - items in the list have a defined order, and that order will not change.\n",
    "# When new items when added to a list, the new items will be placed at the end of the list.\n",
    "# Ordered means presence of indexing\n",
    "name_list = ['Sriram','Arjun','Vishnu','Sriram','Arjun','Vishnu']\n",
    "# positive index\n",
    "print(\"first item: \",name_list[0]) # first item\n",
    "print(\"second item: \",name_list[1]) # second item\n",
    "print(\"third item: \",name_list[2]) # third item\n",
    "print(\"fourth item: \",name_list[3]) # fourth item\n",
    "print(\"fifth item: \",name_list[4]) # fifth item\n",
    "print(\"sixth item: \",name_list[5]) # sixth item\n",
    "# negative index\n",
    "print(\"last item: \",name_list[-1]) # last item\n",
    "print(\"second last item: \",name_list[-2]) # second last item\n",
    "print(\"third last item: \" ,name_list[-3]) # third last item\n",
    "print(\"fourth last item: \",name_list[-4]) # fourth last item\n",
    "print(\"fifth last item: \",name_list[-5]) #fifth last item\n",
    "print(\"sixth last item: \" ,name_list[-6]) # sixth last item"
   ]
  },
  {
   "cell_type": "code",
   "execution_count": 79,
   "id": "c5627a77",
   "metadata": {},
   "outputs": [
    {
     "name": "stdout",
     "output_type": "stream",
     "text": [
      "['Sriram', 'Arjun', 'Vishnu', 'Sriram', 'Arjun', 'Vishnu']\n",
      "['Vossum', 'Arjun', 'Vishnu', 'Sriram', 'Arjun', 'Vishnu']\n"
     ]
    }
   ],
   "source": [
    "# 2 Changeable\n",
    "# The items in the Python list can be changed, replaced, inserted, removed in other words it is mutable.....\n",
    "name_list = ['Sriram','Arjun','Vishnu','Sriram','Arjun','Vishnu']\n",
    "print(name_list)\n",
    "name_list[0]=\"Vossum\"\n",
    "print(name_list)"
   ]
  },
  {
   "cell_type": "code",
   "execution_count": null,
   "id": "53e14f26",
   "metadata": {},
   "outputs": [],
   "source": [
    "# 3 Allows duplicate items\n",
    "name_list = ['Sriram','Arjun','Vishnu','Sriram','Arjun','Vishnu']\n",
    "print(name_list)"
   ]
  },
  {
   "cell_type": "code",
   "execution_count": 80,
   "id": "889bfdf2",
   "metadata": {},
   "outputs": [
    {
     "name": "stdout",
     "output_type": "stream",
     "text": [
      "['strawberry', 'avacado', 'cherry']\n",
      "[1, 5, 7, 9, 3]\n",
      "[True, False, False]\n",
      "[1, 5, 7, 9, 3, ['apple', 'banana', 'cherry']]\n",
      "[1, 5, 7, 9, 3, ('apple', 'banana', 'cherry')]\n",
      "[1, 5, 7, 9, 3, {'1': 'apple', '2': 'banana', '3': 'cherry'}]\n"
     ]
    }
   ],
   "source": [
    "#4 List items can be of any data type.\n",
    "#Example: str, int,bool data types,list, tuple, set, dict \n",
    "list1 = [\"strawberry\", \"avacado\", \"cherry\"]\n",
    "print(list1)\n",
    "list2 = [1, 5, 7, 9, 3]\n",
    "print(list2)\n",
    "list3 = [True, False, False]\n",
    "print(list3)\n",
    "list4 = [1, 5, 7, 9, 3,[\"apple\", \"banana\", \"cherry\"]]\n",
    "print(list4)\n",
    "list5 = [1, 5, 7, 9, 3,(\"apple\", \"banana\", \"cherry\")]\n",
    "print(list5)\n",
    "list6 = [1, 5, 7, 9, 3,{\"1\":\"apple\", \"2\":\"banana\", \"3\":\"cherry\"}]\n",
    "print(list6)"
   ]
  },
  {
   "cell_type": "markdown",
   "id": "0ed5d4b8",
   "metadata": {},
   "source": [
    "##### Find the length of the Python list"
   ]
  },
  {
   "cell_type": "code",
   "execution_count": 81,
   "id": "a0e110d7",
   "metadata": {},
   "outputs": [
    {
     "name": "stdout",
     "output_type": "stream",
     "text": [
      "6\n"
     ]
    }
   ],
   "source": [
    "list6 = [1, 5, 7, 9, 3,{\"1\":\"apple\", \"2\":\"banana\", \"3\":\"cherry\"}]\n",
    "print(len(list6))"
   ]
  },
  {
   "cell_type": "markdown",
   "id": "ad117aeb",
   "metadata": {},
   "source": [
    "##### General - type() verify if it is a list"
   ]
  },
  {
   "cell_type": "code",
   "execution_count": 82,
   "id": "6158504c",
   "metadata": {},
   "outputs": [
    {
     "name": "stdout",
     "output_type": "stream",
     "text": [
      "<class 'list'>\n"
     ]
    }
   ],
   "source": [
    "print(type(list6))"
   ]
  },
  {
   "cell_type": "markdown",
   "id": "ea8f785f",
   "metadata": {},
   "source": [
    "##### Creating a list in Python"
   ]
  },
  {
   "cell_type": "code",
   "execution_count": null,
   "id": "a4626515",
   "metadata": {},
   "outputs": [],
   "source": [
    "# Lists are created using square brackets or list() constructor."
   ]
  },
  {
   "cell_type": "code",
   "execution_count": 1,
   "id": "cb6011a4",
   "metadata": {},
   "outputs": [
    {
     "name": "stdout",
     "output_type": "stream",
     "text": [
      "['Kitkat', 'Five star', 'Snickers']\n"
     ]
    }
   ],
   "source": [
    "# Method 1- square brackets\n",
    "chocolate_list = [\"Kitkat\", \"Five star\", \"Snickers\"]\n",
    "print(chocolate_list)\n",
    "# \"Kitkat\", \"Five star\", \"Snickers\" are items in the list \n",
    "# chocolate_list is the variable in which the entire list is stored"
   ]
  },
  {
   "cell_type": "code",
   "execution_count": 2,
   "id": "80664eec",
   "metadata": {},
   "outputs": [
    {
     "name": "stdout",
     "output_type": "stream",
     "text": [
      "['chicken', 'biriyani', 'friderice']\n"
     ]
    }
   ],
   "source": [
    "#1 Exercise\n",
    "# Create a new list of your favourite food with method 1\n",
    "food=[\"chicken\",\"biriyani\",\"friderice\"]\n",
    "print(food)"
   ]
  },
  {
   "cell_type": "code",
   "execution_count": 3,
   "id": "04062497",
   "metadata": {},
   "outputs": [
    {
     "name": "stdout",
     "output_type": "stream",
     "text": [
      "['Kitkat', 'Five star', 'Snickers']\n"
     ]
    }
   ],
   "source": [
    "# Method 2 - list()\n",
    "# we can use a list constructor to make a new list\n",
    "chocolate_list = list((\"Kitkat\", \"Five star\", \"Snickers\")) # note the double round-brackets instead of using square brackets when creating a list using list constructor...\n",
    "print(chocolate_list)"
   ]
  },
  {
   "cell_type": "code",
   "execution_count": 5,
   "id": "b41bc48a",
   "metadata": {},
   "outputs": [
    {
     "name": "stdout",
     "output_type": "stream",
     "text": [
      "['Bigil', 'thunivu', 'vaathi']\n"
     ]
    }
   ],
   "source": [
    "#2 Exercise\n",
    "# Create a new list of your favourite movies with method 2\n",
    "movies=list((\"Bigil\",\"thunivu\",\"vaathi\"))\n",
    "print(movies)"
   ]
  },
  {
   "cell_type": "markdown",
   "id": "55b35b8f",
   "metadata": {},
   "source": [
    "##### Accessing a list in Python"
   ]
  },
  {
   "cell_type": "code",
   "execution_count": null,
   "id": "a4d471f2",
   "metadata": {},
   "outputs": [],
   "source": [
    "# How to access?\n",
    "# All items in the list are indexed from 0 (known as index number) and you can access them by referring to the index number"
   ]
  },
  {
   "cell_type": "markdown",
   "id": "98064749",
   "metadata": {},
   "source": [
    "##### Access using positive index "
   ]
  },
  {
   "cell_type": "code",
   "execution_count": null,
   "id": "209066b2",
   "metadata": {},
   "outputs": [],
   "source": [
    "#Postive indexing means the index starts from the start/beginning \n",
    "# 0 index refers to the first item, \n",
    "# 1 index refers to the second item,\n",
    "# 2 index refers to the third item etc."
   ]
  },
  {
   "cell_type": "code",
   "execution_count": 6,
   "id": "23eb909b",
   "metadata": {},
   "outputs": [
    {
     "name": "stdout",
     "output_type": "stream",
     "text": [
      "Snickers\n"
     ]
    }
   ],
   "source": [
    "# print the third item in the list\n",
    "chocolate_list = [\"Kitkat\", \"Five star\", \"Snickers\"]\n",
    "print(chocolate_list[2]) # Use square brackets with the list_variable_name and give te correct index number......"
   ]
  },
  {
   "cell_type": "code",
   "execution_count": 7,
   "id": "23c1aba6",
   "metadata": {},
   "outputs": [
    {
     "name": "stdout",
     "output_type": "stream",
     "text": [
      "Five star\n"
     ]
    }
   ],
   "source": [
    "# 3 Exercise\n",
    "# print the second item in the list\n",
    "chocolate_list = [\"Kitkat\", \"Five star\", \"Snickers\"]\n",
    "print(chocolate_list[1])"
   ]
  },
  {
   "cell_type": "markdown",
   "id": "819101c0",
   "metadata": {},
   "source": [
    "##### Access using negative index "
   ]
  },
  {
   "cell_type": "code",
   "execution_count": null,
   "id": "7ffe2a86",
   "metadata": {},
   "outputs": [],
   "source": [
    "#Negative indexing means the index starts from the end \n",
    "#-1 index refers to the last item, \n",
    "#-2 index refers to the second last item,\n",
    "#-3 index refers to the third last item"
   ]
  },
  {
   "cell_type": "code",
   "execution_count": 8,
   "id": "4ec1ee96",
   "metadata": {},
   "outputs": [
    {
     "name": "stdout",
     "output_type": "stream",
     "text": [
      "Snickers\n"
     ]
    }
   ],
   "source": [
    "# print the last item in the list using negative index\n",
    "chocolate_list = [\"Kitkat\", \"Five star\", \"Snickers\"]\n",
    "print(chocolate_list[-1]) # Use square brackets with the list_variable_name and give te correct index number......"
   ]
  },
  {
   "cell_type": "code",
   "execution_count": 9,
   "id": "3d39fa51",
   "metadata": {},
   "outputs": [
    {
     "name": "stdout",
     "output_type": "stream",
     "text": [
      "Kitkat\n"
     ]
    }
   ],
   "source": [
    "# 4 Exercise\n",
    "# print the first item in the list using negative index\n",
    "chocolate_list = [\"Kitkat\", \"Five star\", \"Snickers\"]\n",
    "print(chocolate_list[-3])"
   ]
  },
  {
   "cell_type": "markdown",
   "id": "a29f8cff",
   "metadata": {},
   "source": [
    "##### Range of indexes - Positive indexing"
   ]
  },
  {
   "cell_type": "code",
   "execution_count": null,
   "id": "5c4af94a",
   "metadata": {},
   "outputs": [],
   "source": [
    "# Purpose: Create a new list from existing list"
   ]
  },
  {
   "cell_type": "code",
   "execution_count": 10,
   "id": "04c3b26c",
   "metadata": {},
   "outputs": [
    {
     "name": "stdout",
     "output_type": "stream",
     "text": [
      "['Snickers', 'Milky Way', 'Hershleys']\n"
     ]
    }
   ],
   "source": [
    "chocolate_list = [\"Kitkat\", \"Five star\", \"Snickers\",\"Milky Way\",\"Hershleys\",\"Toblereno\"]\n",
    "new_chocolate = chocolate_list[2:5] # 2 is the start index -included, 5 is the end index and it will not get included, \n",
    "# chocolate_list is the existing list and new_chocolate is the new list created.....\n",
    "print(new_chocolate)"
   ]
  },
  {
   "cell_type": "code",
   "execution_count": 11,
   "id": "978c5a86",
   "metadata": {},
   "outputs": [
    {
     "name": "stdout",
     "output_type": "stream",
     "text": [
      "['Kitkat', 'Five star']\n"
     ]
    }
   ],
   "source": [
    "# 5 Exercise\n",
    "# Create a new list from the below list from 0 to 2\n",
    "chocolate_list = [\"Kitkat\", \"Five star\", \"Snickers\",\"Milky Way\",\"Hershleys\",\"Toblereno\"]\n",
    "update=chocolate_list[0:2]\n",
    "print(update)"
   ]
  },
  {
   "cell_type": "code",
   "execution_count": null,
   "id": "bb60dc46",
   "metadata": {},
   "outputs": [],
   "source": [
    "# If you leave out the start value or start index, the range will start at the first index which is 0 in positive indexing....."
   ]
  },
  {
   "cell_type": "code",
   "execution_count": 12,
   "id": "853ba5fa",
   "metadata": {},
   "outputs": [
    {
     "name": "stdout",
     "output_type": "stream",
     "text": [
      "Kitkat\n",
      "Hershleys\n",
      "Toblereno\n",
      "['Kitkat', 'Five star', 'Snickers', 'Milky Way', 'Hershleys']\n"
     ]
    }
   ],
   "source": [
    "chocolate_list = [\"Kitkat\", \"Five star\", \"Snickers\",\"Milky Way\",\"Hershleys\",\"Toblereno\"]\n",
    "print(chocolate_list[0])\n",
    "print(chocolate_list[4])\n",
    "print(chocolate_list[5])\n",
    "new_chocolate = chocolate_list[:5] # so the new_chocolate list starts at 0 index and ends at 5 but does not include the 5 index\n",
    "print(new_chocolate)"
   ]
  },
  {
   "cell_type": "code",
   "execution_count": 13,
   "id": "f0d9bc96",
   "metadata": {},
   "outputs": [
    {
     "name": "stdout",
     "output_type": "stream",
     "text": [
      "['Kitkat', 'Five star', 'Snickers', 'Milky Way', 'Hershleys']\n"
     ]
    }
   ],
   "source": [
    "# 6 Exercise\n",
    "# Create a new list from the below list from the beginning to second last item\n",
    "chocolate_list = [\"Kitkat\", \"Five star\", \"Snickers\",\"Milky Way\",\"Hershleys\",\"Toblereno\"]\n",
    "print(chocolate_list[:5])"
   ]
  },
  {
   "cell_type": "code",
   "execution_count": 14,
   "id": "dc933cec",
   "metadata": {},
   "outputs": [
    {
     "name": "stdout",
     "output_type": "stream",
     "text": [
      "Snickers\n",
      "Toblereno\n",
      "['Snickers', 'Milky Way', 'Hershleys', 'Toblereno']\n"
     ]
    }
   ],
   "source": [
    "# leave out the end value to include till the last index\n",
    "chocolate_list = [\"Kitkat\", \"Five star\", \"Snickers\",\"Milky Way\",\"Hershleys\",\"Toblereno\"]\n",
    "print(chocolate_list[2])\n",
    "print(chocolate_list[-1])\n",
    "new_chocolate = chocolate_list[2:]# so the new list starts at 2 index till the last index \n",
    "print(new_chocolate)"
   ]
  },
  {
   "cell_type": "code",
   "execution_count": 16,
   "id": "8bc4a5af",
   "metadata": {},
   "outputs": [
    {
     "name": "stdout",
     "output_type": "stream",
     "text": [
      "['Snickers', 'Milky Way', 'Hershleys', 'Toblereno']\n"
     ]
    }
   ],
   "source": [
    "# 7 Exercise\n",
    "# Create a new list from the below list from the 2 index to the last\n",
    "chocolate_list = [\"Kitkat\", \"Five star\", \"Snickers\",\"Milky Way\",\"Hershleys\",\"Toblereno\"]\n",
    "new_list=chocolate_list[2:]\n",
    "print(new_list)"
   ]
  },
  {
   "cell_type": "markdown",
   "id": "55697760",
   "metadata": {},
   "source": [
    "##### Range of indexing - Negative indexing"
   ]
  },
  {
   "cell_type": "code",
   "execution_count": 17,
   "id": "8ca65f79",
   "metadata": {},
   "outputs": [
    {
     "name": "stdout",
     "output_type": "stream",
     "text": [
      "['Snickers', 'Milky Way', 'Hershleys']\n"
     ]
    }
   ],
   "source": [
    "# Specify negative indexes if you want to start the search from the end of the list.....\n",
    "# This example returns the items from \"Snickers\" (-4) to, but NOT including \"Toblereno\" (-1):\n",
    "chocolate_list = [\"Kitkat\", \"Five star\", \"Snickers\",\"Milky Way\",\"Hershleys\",\"Toblereno\"]\n",
    "print(chocolate_list[-4:-1]) #follow the straightsequence"
   ]
  },
  {
   "cell_type": "code",
   "execution_count": 20,
   "id": "4379916e",
   "metadata": {},
   "outputs": [
    {
     "name": "stdout",
     "output_type": "stream",
     "text": [
      "[]\n",
      "['Snickers', 'Milky Way', 'Hershleys']\n"
     ]
    }
   ],
   "source": [
    "# 8 Exercise\n",
    "# Why this leads to error - empty list is formed......\n",
    "new_chocolate = chocolate_list[-1:-4]\n",
    "print(new_chocolate)\n",
    "print(chocolate_list[-4:-1]) \n",
    "# answer: print(chocolate_list[-4:-1]) "
   ]
  },
  {
   "cell_type": "markdown",
   "id": "6b1d1799",
   "metadata": {},
   "source": [
    "##### Check if some item exist in the list"
   ]
  },
  {
   "cell_type": "code",
   "execution_count": 23,
   "id": "914517cd",
   "metadata": {},
   "outputs": [
    {
     "name": "stdout",
     "output_type": "stream",
     "text": [
      "Yes, 'Kitkat' is in the chocolate list\n"
     ]
    }
   ],
   "source": [
    "chocolate_list = [\"Kitkat\", \"Five star\", \"Snickers\",\"Milky Way\",\"Hershleys\",\"Toblereno\"]\n",
    "if \"Kitkat\" in chocolate_list: # remember case sensitivity in strings\n",
    "  print(\"Yes, 'Kitkat' is in the chocolate list\")"
   ]
  },
  {
   "cell_type": "markdown",
   "id": "ab439c42",
   "metadata": {},
   "source": [
    "##### Change Item Values in a List "
   ]
  },
  {
   "cell_type": "code",
   "execution_count": 24,
   "id": "46790d7d",
   "metadata": {},
   "outputs": [
    {
     "name": "stdout",
     "output_type": "stream",
     "text": [
      "['Kitkat', 'Five star', 'Snickers', 'Milky Way', 'Hershleys', 'Toblereno']\n",
      "['Kitkat', 'Mars', 'Snickers', 'Milky Way', 'Hershleys', 'Toblereno']\n"
     ]
    }
   ],
   "source": [
    "#To change the value of a specific item, refer to the index number and then give the new value - overwriting\n",
    "chocolate_list = [\"Kitkat\", \"Five star\", \"Snickers\",\"Milky Way\",\"Hershleys\",\"Toblereno\"]\n",
    "print(chocolate_list)\n",
    "chocolate_list[1] = \"Mars\"\n",
    "print(chocolate_list)"
   ]
  },
  {
   "cell_type": "code",
   "execution_count": 26,
   "id": "4fa9a4ad",
   "metadata": {},
   "outputs": [
    {
     "name": "stdout",
     "output_type": "stream",
     "text": [
      "['Kitkat', 'Five star', 'Snickers', 'Milky Way', 'Hershleys', 'Toblereno']\n",
      "['Kitkat', 'Five star', 'Cadbury Fuse', 'Milky Way', 'Hershleys', 'Toblereno']\n"
     ]
    },
    {
     "data": {
      "text/plain": [
       "'\\nAnswer:\\nprint(chocolate_list)\\nindex = chocolate_list.index(\"Snickers\")\\nchocolate_list[index] = \\'Cadbury Fuse\\'\\nprint(chocolate_list)\\n'"
      ]
     },
     "execution_count": 26,
     "metadata": {},
     "output_type": "execute_result"
    }
   ],
   "source": [
    "# 9 Exercise\n",
    "# Find the index of 'Snickers' in the list and replace it with 'Cadbury Fuse'\n",
    "# Hint: .index() list pre defined method\n",
    "chocolate_list = [\"Kitkat\", \"Five star\", \"Snickers\",\"Milky Way\",\"Hershleys\",\"Toblereno\"]\n",
    "print(chocolate_list)\n",
    "a=chocolate_list.index(\"Snickers\")\n",
    "chocolate_list[a]=\"Cadbury Fuse\"\n",
    "print(chocolate_list)\n",
    "\"\"\"\n",
    "Answer:\n",
    "print(chocolate_list)\n",
    "index = chocolate_list.index(\"Snickers\")\n",
    "chocolate_list[index] = 'Cadbury Fuse'\n",
    "print(chocolate_list)\n",
    "\"\"\""
   ]
  },
  {
   "cell_type": "markdown",
   "id": "93f0820e",
   "metadata": {},
   "source": [
    "##### Change a range of Item values"
   ]
  },
  {
   "cell_type": "code",
   "execution_count": 27,
   "id": "674eebe0",
   "metadata": {},
   "outputs": [
    {
     "name": "stdout",
     "output_type": "stream",
     "text": [
      "['Kitkat', 'Five star', 'Snickers', 'Milky Way', 'Hershleys', 'Toblereno']\n",
      "['M&M', 'Amul', 'Snickers', 'Milky Way', 'Hershleys', 'Toblereno']\n"
     ]
    }
   ],
   "source": [
    "# Change the values \"Kitkat\" and \"Five star\" with the values \"M&M\" and \"Amul\":\n",
    "chocolate_list = [\"Kitkat\", \"Five star\", \"Snickers\",\"Milky Way\",\"Hershleys\",\"Toblereno\"]\n",
    "print(chocolate_list)\n",
    "chocolate_list[0:2] = [\"M&M\",\"Amul\"]\n",
    "print(chocolate_list)"
   ]
  },
  {
   "cell_type": "code",
   "execution_count": 30,
   "id": "5359fae1",
   "metadata": {},
   "outputs": [
    {
     "name": "stdout",
     "output_type": "stream",
     "text": [
      "['banana', 'apple', 'cherry']\n",
      "['watermelon', 'cherry']\n"
     ]
    }
   ],
   "source": [
    "# Inserting less items than you replace, the new items will be inserted where you specified, and the remaining items will move accordingly:\n",
    "fruit_list = [\"banana\",\"apple\", \"cherry\"]\n",
    "print(fruit_list)\n",
    "fruit_list[0:2] = [\"watermelon\"] # error - correcta mpount of values\n",
    "print(fruit_list)"
   ]
  },
  {
   "cell_type": "markdown",
   "id": "2d5a7d3e",
   "metadata": {},
   "source": [
    "##### Python - Adding Items in a List"
   ]
  },
  {
   "cell_type": "markdown",
   "id": "310b4eb8",
   "metadata": {},
   "source": [
    "##### Insert items "
   ]
  },
  {
   "cell_type": "code",
   "execution_count": 32,
   "id": "4d18d8ec",
   "metadata": {},
   "outputs": [
    {
     "name": "stdout",
     "output_type": "stream",
     "text": [
      "['banana', 'apple', 'cherry']\n",
      "['banana', 'apple', 'watermelon', 'cherry']\n"
     ]
    }
   ],
   "source": [
    "#Inserting a new list item means we are not replacing any of the existing values......\n",
    "#insert() method is used and the index is specified......\n",
    "#Insert \"watermelon\" as the third item.....\n",
    "fruit_list = [\"banana\",\"apple\", \"cherry\"]\n",
    "print(fruit_list)\n",
    "fruit_list.insert(2, \"watermelon\")\n",
    "print(fruit_list) # cherry moves accordingly"
   ]
  },
  {
   "cell_type": "code",
   "execution_count": 33,
   "id": "4e9a638f",
   "metadata": {},
   "outputs": [
    {
     "name": "stdout",
     "output_type": "stream",
     "text": [
      "['banana', 'apple', 'cherry']\n",
      "['banana', 'strawberry', 'watermelon', 'cherry']\n"
     ]
    }
   ],
   "source": [
    "# something like replace and insert\n",
    "fruit_list = [\"banana\",\"apple\", \"cherry\"]\n",
    "print(fruit_list)\n",
    "fruit_list[1:2] = [\"strawberry\", \"watermelon\"] # here we are replacing only one time because we have mentione 1:2 meaning index 1 only \n",
    "# Excess item \"watermelon\" is added next in order and the remaing item \"cherry\" has moved to last\n",
    "# this is how it works when you give excess items\n",
    "print(fruit_list)"
   ]
  },
  {
   "cell_type": "markdown",
   "id": "ae8b58e1",
   "metadata": {},
   "source": [
    "##### Append Items"
   ]
  },
  {
   "cell_type": "code",
   "execution_count": 34,
   "id": "960fb1e2",
   "metadata": {},
   "outputs": [
    {
     "name": "stdout",
     "output_type": "stream",
     "text": [
      "['Kitkat', 'Five star', 'Snickers', 'Milky Way', 'Hershleys', 'Toblereno']\n",
      "['Kitkat', 'Five star', 'Snickers', 'Milky Way', 'Hershleys', 'Toblereno', ['banana', 'apple', 'cherry']]\n",
      "['Kitkat', 'Five star', 'Snickers', 'Milky Way', 'Hershleys', 'Toblereno', ['banana', 'apple', 'cherry'], 'orange']\n"
     ]
    }
   ],
   "source": [
    "# Adding items to the end of the list uses append method\n",
    "# append these fruit_list to chocolate list\n",
    "fruit_list = [\"banana\",\"apple\", \"cherry\"]\n",
    "chocolate_list = [\"Kitkat\", \"Five star\", \"Snickers\",\"Milky Way\",\"Hershleys\",\"Toblereno\"]\n",
    "print(chocolate_list)\n",
    "chocolate_list.append(fruit_list)\n",
    "print(chocolate_list)\n",
    "chocolate_list.append(\"orange\") # append always adds to the end\n",
    "print(chocolate_list)"
   ]
  },
  {
   "cell_type": "markdown",
   "id": "7bb41b31",
   "metadata": {},
   "source": [
    "##### Extend items"
   ]
  },
  {
   "cell_type": "code",
   "execution_count": 35,
   "id": "3fa98b27",
   "metadata": {},
   "outputs": [
    {
     "name": "stdout",
     "output_type": "stream",
     "text": [
      "['Kitkat', 'Five star', 'Snickers', 'Milky Way', 'Hershleys', 'Toblereno']\n",
      "['Kitkat', 'Five star', 'Snickers', 'Milky Way', 'Hershleys', 'Toblereno', 'banana', 'apple', 'cherry']\n",
      "['Kitkat', 'Five star', 'Snickers', 'Milky Way', 'Hershleys', 'Toblereno', 'banana', 'apple', 'cherry', 'orange']\n"
     ]
    }
   ],
   "source": [
    "#['Kitkat', 'Five star', 'Snickers', 'Milky Way', 'Hershleys', 'Toblereno', ['banana', 'apple', 'cherry'], 'orange']\n",
    "# see the above list ['banana', 'apple', 'cherry'] is added as a list when using append()\n",
    "fruit_list = [\"banana\",\"apple\", \"cherry\"]\n",
    "chocolate_list = [\"Kitkat\", \"Five star\", \"Snickers\",\"Milky Way\",\"Hershleys\",\"Toblereno\"]\n",
    "print(chocolate_list)\n",
    "chocolate_list.extend(fruit_list)\n",
    "print(chocolate_list)\n",
    "chocolate_list.append(\"orange\") # append always adds to the end\n",
    "print(chocolate_list)"
   ]
  },
  {
   "cell_type": "code",
   "execution_count": 36,
   "id": "b33c902b",
   "metadata": {},
   "outputs": [
    {
     "name": "stdout",
     "output_type": "stream",
     "text": [
      "['Kitkat', 'Five star', 'Snickers', 'Milky Way', 'Hershleys', 'Toblereno']\n",
      "['Kitkat', 'Five star', 'Snickers', 'Milky Way', 'Hershleys', 'Toblereno', 'banana', 'apple', 'cherry']\n"
     ]
    }
   ],
   "source": [
    "# any Iterable like tuple, sets, works fine with extend\n",
    "fruit_list_tuple = (\"banana\",\"apple\", \"cherry\")\n",
    "chocolate_list = [\"Kitkat\", \"Five star\", \"Snickers\",\"Milky Way\",\"Hershleys\",\"Toblereno\"]\n",
    "print(chocolate_list)\n",
    "chocolate_list.extend(fruit_list_tuple)\n",
    "print(chocolate_list)"
   ]
  },
  {
   "cell_type": "code",
   "execution_count": 40,
   "id": "ca1b353c",
   "metadata": {},
   "outputs": [
    {
     "name": "stdout",
     "output_type": "stream",
     "text": [
      "['Kitkat', 'Five star', 'Snickers', 'Milky Way', 'Hershleys', 'Toblereno', ['banana', 'avacado', 'cherry'], 'orange']\n"
     ]
    },
    {
     "data": {
      "text/plain": [
       "list"
      ]
     },
     "execution_count": 40,
     "metadata": {},
     "output_type": "execute_result"
    }
   ],
   "source": [
    "# 9 exercise\n",
    "# Access 'apple' from the list find the index of the 'apple' and replace it with 'avacado'\n",
    "chocolate_list = ['Kitkat', 'Five star', 'Snickers', 'Milky Way', 'Hershleys', 'Toblereno', ['banana', 'apple', 'cherry'], 'orange']\n",
    "chocolate_list[6][1] = 'avacado'\n",
    "print(chocolate_list)\n",
    "type(chocolate_list[6])"
   ]
  },
  {
   "cell_type": "markdown",
   "id": "e740b90c",
   "metadata": {},
   "source": [
    "##### Delete Operation / Remove operation in a Python List"
   ]
  },
  {
   "cell_type": "markdown",
   "id": "29036706",
   "metadata": {},
   "source": [
    "##### Remove Specified Item"
   ]
  },
  {
   "cell_type": "code",
   "execution_count": 41,
   "id": "eff9841f",
   "metadata": {},
   "outputs": [
    {
     "name": "stdout",
     "output_type": "stream",
     "text": [
      "['Kitkat', 'Five star', 'Snickers', 'Milky Way', 'Hershleys', 'Toblereno', 'banana', 'apple', 'cherry']\n",
      "['Kitkat', 'Five star', 'Snickers', 'Milky Way', 'Hershleys', 'Toblereno', 'apple', 'cherry']\n"
     ]
    }
   ],
   "source": [
    "# remove() method removes the specified item.\n",
    "sweets_list = ['Kitkat', 'Five star', 'Snickers', 'Milky Way', 'Hershleys', 'Toblereno', 'banana', 'apple', 'cherry']\n",
    "print(sweets_list)\n",
    "sweets_list.remove(\"banana\") # case sensitive\n",
    "print(sweets_list)"
   ]
  },
  {
   "cell_type": "code",
   "execution_count": 42,
   "id": "350e16f0",
   "metadata": {},
   "outputs": [
    {
     "name": "stdout",
     "output_type": "stream",
     "text": [
      "['Kitkat', 'Five star', 'Snickers', 'Milky Way', 'Hershleys', 'Toblereno', 'banana', 'banana', 'apple', 'cherry']\n",
      "['Kitkat', 'Five star', 'Snickers', 'Milky Way', 'Hershleys', 'Toblereno', 'banana', 'apple', 'cherry']\n"
     ]
    }
   ],
   "source": [
    "# when there are duplicates\n",
    "# it removes the first \"banana\" it find in the list\n",
    "sweets_list = ['Kitkat', 'Five star', 'Snickers', 'Milky Way', 'Hershleys', 'Toblereno', 'banana','banana','apple', 'cherry']\n",
    "print(sweets_list)\n",
    "sweets_list.remove(\"banana\")\n",
    "print(sweets_list)"
   ]
  },
  {
   "cell_type": "code",
   "execution_count": 44,
   "id": "1877217b",
   "metadata": {},
   "outputs": [
    {
     "name": "stdout",
     "output_type": "stream",
     "text": [
      "['Kitkat', 'Five star', 'Snickers', 'Milky Way', 'Hershleys', 'Toblereno', 'apple', 'cherry']\n"
     ]
    }
   ],
   "source": [
    "# 10 exercise \n",
    "# remove the 2 'banana' using remove() method\n",
    "sweets_list = ['Kitkat', 'Five star', 'Snickers', 'Milky Way', 'Hershleys', 'Toblereno', 'banana','banana','apple', 'cherry']\n",
    "sweets_list.remove(\"banana\")\n",
    "sweets_list.remove(\"banana\")\n",
    "print(sweets_list)"
   ]
  },
  {
   "cell_type": "markdown",
   "id": "564dfeb7",
   "metadata": {},
   "source": [
    "##### Remove Specified Index - pop()"
   ]
  },
  {
   "cell_type": "code",
   "execution_count": 46,
   "id": "762d5420",
   "metadata": {},
   "outputs": [
    {
     "name": "stdout",
     "output_type": "stream",
     "text": [
      "['Kitkat', 'Five star', 'Snickers', 'Milky Way', 'Hershleys', 'Toblereno', 'banana', 'banana', 'apple', 'cherry']\n",
      "['Kitkat', 'Snickers', 'Milky Way', 'Hershleys', 'Toblereno', 'banana', 'banana', 'apple', 'cherry']\n",
      "['Kitkat', 'Snickers', 'Milky Way', 'Hershleys', 'Toblereno', 'banana', 'banana', 'apple']\n"
     ]
    }
   ],
   "source": [
    "sweets_list = ['Kitkat', 'Five star', 'Snickers', 'Milky Way', 'Hershleys', 'Toblereno', 'banana','banana','apple', 'cherry']\n",
    "print(sweets_list)\n",
    "sweets_list.pop(1)\n",
    "print(sweets_list)\n",
    "sweets_list.pop() # dont mention the index to remove the last item\n",
    "print(sweets_list)"
   ]
  },
  {
   "cell_type": "markdown",
   "id": "24c3170f",
   "metadata": {},
   "source": [
    "##### Delete the last item - pop() - Dont mention any index"
   ]
  },
  {
   "cell_type": "code",
   "execution_count": 48,
   "id": "e0bd973e",
   "metadata": {},
   "outputs": [
    {
     "name": "stdout",
     "output_type": "stream",
     "text": [
      "['Kitkat', 'Five star', 'Snickers', 'Milky Way', 'Hershleys', 'Toblereno', 'banana', 'banana', 'apple', 'cherry']\n",
      "['Kitkat', 'Five star', 'Snickers', 'Milky Way', 'Hershleys', 'Toblereno', 'banana', 'banana', 'apple']\n"
     ]
    }
   ],
   "source": [
    "# if you dont mention any index in pop() method it removes the last item in the list\n",
    "sweets_list = ['Kitkat', 'Five star', 'Snickers', 'Milky Way', 'Hershleys', 'Toblereno', 'banana','banana','apple', 'cherry']\n",
    "print(sweets_list)\n",
    "sweets_list.pop() # \"cherry\" will be removed\n",
    "print(sweets_list)"
   ]
  },
  {
   "cell_type": "markdown",
   "id": "89980ee9",
   "metadata": {},
   "source": [
    "##### Remove Specified Index - del keyword "
   ]
  },
  {
   "cell_type": "code",
   "execution_count": 47,
   "id": "e8810199",
   "metadata": {},
   "outputs": [
    {
     "name": "stdout",
     "output_type": "stream",
     "text": [
      "['Kitkat', 'Five star', 'Snickers', 'Milky Way', 'Hershleys', 'Toblereno', 'banana', 'banana', 'apple', 'cherry']\n",
      "['Kitkat', 'Snickers', 'Milky Way', 'Hershleys', 'Toblereno', 'banana', 'banana', 'apple', 'cherry']\n"
     ]
    }
   ],
   "source": [
    "sweets_list = ['Kitkat', 'Five star', 'Snickers', 'Milky Way', 'Hershleys', 'Toblereno', 'banana','banana','apple', 'cherry']\n",
    "print(sweets_list)\n",
    "del sweets_list[1]\n",
    "print(sweets_list)"
   ]
  },
  {
   "cell_type": "markdown",
   "id": "8160a739",
   "metadata": {},
   "source": [
    "##### Clear the List"
   ]
  },
  {
   "cell_type": "code",
   "execution_count": 49,
   "id": "b3a9cee5",
   "metadata": {},
   "outputs": [
    {
     "name": "stdout",
     "output_type": "stream",
     "text": [
      "['Kitkat', 'Five star', 'Snickers', 'Milky Way', 'Hershleys', 'Toblereno', 'banana', 'banana', 'apple', 'cherry']\n",
      "[]\n"
     ]
    }
   ],
   "source": [
    "#clear() method empties the list but the list still remains, but it has no content. (empty list)\n",
    "sweets_list = ['Kitkat', 'Five star', 'Snickers', 'Milky Way', 'Hershleys', 'Toblereno', 'banana','banana','apple', 'cherry']\n",
    "print(sweets_list)\n",
    "sweets_list.clear() # whole list is emptied\n",
    "print(sweets_list)"
   ]
  },
  {
   "cell_type": "markdown",
   "id": "0422ad97",
   "metadata": {},
   "source": [
    "##### Delete the entire list - Deleting entire list"
   ]
  },
  {
   "cell_type": "code",
   "execution_count": 50,
   "id": "c0eb6dfc",
   "metadata": {},
   "outputs": [
    {
     "name": "stdout",
     "output_type": "stream",
     "text": [
      "['Kitkat', 'Five star', 'Snickers', 'Milky Way', 'Hershleys', 'Toblereno', 'banana', 'banana', 'apple', 'cherry']\n"
     ]
    },
    {
     "ename": "NameError",
     "evalue": "name 'sweets_list' is not defined",
     "output_type": "error",
     "traceback": [
      "\u001b[1;31m---------------------------------------------------------------------------\u001b[0m",
      "\u001b[1;31mNameError\u001b[0m                                 Traceback (most recent call last)",
      "\u001b[1;32m~\\AppData\\Local\\Temp\\ipykernel_11396\\3615357648.py\u001b[0m in \u001b[0;36m<module>\u001b[1;34m\u001b[0m\n\u001b[0;32m      2\u001b[0m \u001b[0mprint\u001b[0m\u001b[1;33m(\u001b[0m\u001b[0msweets_list\u001b[0m\u001b[1;33m)\u001b[0m\u001b[1;33m\u001b[0m\u001b[1;33m\u001b[0m\u001b[0m\n\u001b[0;32m      3\u001b[0m \u001b[1;32mdel\u001b[0m \u001b[0msweets_list\u001b[0m \u001b[1;31m# whole list is deleted\u001b[0m\u001b[1;33m\u001b[0m\u001b[1;33m\u001b[0m\u001b[0m\n\u001b[1;32m----> 4\u001b[1;33m \u001b[0mprint\u001b[0m\u001b[1;33m(\u001b[0m\u001b[0msweets_list\u001b[0m\u001b[1;33m)\u001b[0m\u001b[1;33m\u001b[0m\u001b[1;33m\u001b[0m\u001b[0m\n\u001b[0m",
      "\u001b[1;31mNameError\u001b[0m: name 'sweets_list' is not defined"
     ]
    }
   ],
   "source": [
    "sweets_list = ['Kitkat', 'Five star', 'Snickers', 'Milky Way', 'Hershleys', 'Toblereno', 'banana','banana','apple', 'cherry']\n",
    "print(sweets_list)\n",
    "del sweets_list # whole list is deleted\n",
    "print(sweets_list)"
   ]
  },
  {
   "cell_type": "markdown",
   "id": "7434e42c",
   "metadata": {},
   "source": [
    "##### Looping in Python lists"
   ]
  },
  {
   "cell_type": "code",
   "execution_count": 51,
   "id": "4ca4466f",
   "metadata": {},
   "outputs": [
    {
     "name": "stdout",
     "output_type": "stream",
     "text": [
      "1\n",
      "5\n",
      "7\n",
      "9\n",
      "3\n",
      "{'1': 'apple', '2': 'banana', '3': 'cherry'}\n"
     ]
    }
   ],
   "source": [
    "# In Python we use for loops to loop in a python list \n",
    "list6 = [1, 5, 7, 9, 3,{\"1\":\"apple\", \"2\":\"banana\", \"3\":\"cherry\"}]\n",
    "for x in list6:\n",
    "    print(x)"
   ]
  },
  {
   "cell_type": "markdown",
   "id": "cff86817",
   "metadata": {},
   "source": [
    "#####  Loop Through the Index Numbers - Python list"
   ]
  },
  {
   "cell_type": "code",
   "execution_count": 54,
   "id": "316debc5",
   "metadata": {},
   "outputs": [
    {
     "name": "stdout",
     "output_type": "stream",
     "text": [
      "range(0, 6)\n",
      "<class 'range'>\n",
      "6\n",
      "1\n",
      "5\n",
      "7\n",
      "9\n",
      "3\n",
      "{'1': 'apple', '2': 'banana', '3': 'cherry'}\n"
     ]
    }
   ],
   "source": [
    "# In python we can loop through a list using list index numbers. \n",
    "# We use the range() and len() .....\n",
    "list6 = [1, 5, 7, 9, 3,{\"1\":\"apple\", \"2\":\"banana\", \"3\":\"cherry\"}]\n",
    "range_list = range(len(list6))\n",
    "print(range_list)\n",
    "print(type(range_list))\n",
    "print(len(list6))\n",
    "for i in range(len(list6)):\n",
    "    print(list6[i])"
   ]
  },
  {
   "cell_type": "markdown",
   "id": "d82ba2ef",
   "metadata": {},
   "source": [
    "##### Using a While Loop in Python lists"
   ]
  },
  {
   "cell_type": "code",
   "execution_count": 53,
   "id": "7033ffb6",
   "metadata": {},
   "outputs": [
    {
     "name": "stdout",
     "output_type": "stream",
     "text": [
      "1\n",
      "5\n",
      "7\n",
      "9\n",
      "3\n",
      "{'1': 'apple', '2': 'banana', '3': 'cherry'}\n"
     ]
    }
   ],
   "source": [
    "# Use the len() function to determine the length of the list, then start at 0 and loop your way through the list items by referring to their indexes.\n",
    "# Remember to increase the index by 1 after each iteration.\n",
    "list6 = [1, 5, 7, 9, 3,{\"1\":\"apple\", \"2\":\"banana\", \"3\":\"cherry\"}]\n",
    "i = 0\n",
    "while i < len(list6):\n",
    "  print(list6[i])\n",
    "  i = i + 1"
   ]
  },
  {
   "cell_type": "markdown",
   "id": "33c428b8",
   "metadata": {},
   "source": [
    "###### List comprehension"
   ]
  },
  {
   "cell_type": "code",
   "execution_count": 55,
   "id": "7607289e",
   "metadata": {},
   "outputs": [
    {
     "name": "stdout",
     "output_type": "stream",
     "text": [
      "['avacado', 'pineapple', 'apple', 'banana', 'orange', 'mango', 'strawberry', 'grapes']\n"
     ]
    }
   ],
   "source": [
    "# long form\n",
    "fruits = [\"avacado\",\"pineapple\",\"apple\", \"banana\", \"cherry\",\"orange\", \"kiwi\", \"mango\",\"strawberry\",\"blueberry\",\"grapes\"]\n",
    "a_list_long = []\n",
    "for x in fruits:\n",
    "    if \"a\" in x:\n",
    "        a_list_long.append(x)\n",
    "print(a_list_long)"
   ]
  },
  {
   "cell_type": "code",
   "execution_count": 56,
   "id": "a1be235b",
   "metadata": {},
   "outputs": [
    {
     "name": "stdout",
     "output_type": "stream",
     "text": [
      "['avacado', 'pineapple', 'apple', 'banana', 'orange', 'mango', 'strawberry', 'grapes']\n"
     ]
    }
   ],
   "source": [
    "# short form ----- list comprehension\n",
    "# Syntax: newlist = [expression for item in list if condition == True]\n",
    "fruits = [\"avacado\",\"pineapple\",\"apple\", \"banana\", \"cherry\",\"orange\", \"kiwi\", \"mango\",\"strawberry\",\"blueberry\",\"grapes\"]\n",
    "a_list_short = [x for x in fruits if \"a\" in x]\n",
    "print(a_list_short)"
   ]
  },
  {
   "cell_type": "code",
   "execution_count": 57,
   "id": "6fa1c60c",
   "metadata": {},
   "outputs": [
    {
     "data": {
      "text/plain": [
       "True"
      ]
     },
     "execution_count": 57,
     "metadata": {},
     "output_type": "execute_result"
    }
   ],
   "source": [
    "a_list_short == a_list_long"
   ]
  },
  {
   "cell_type": "code",
   "execution_count": 58,
   "id": "04f978b5",
   "metadata": {},
   "outputs": [
    {
     "name": "stdout",
     "output_type": "stream",
     "text": [
      "['banana', 'strawberry']\n"
     ]
    },
    {
     "data": {
      "text/plain": [
       "'\\nnew_list = [x for x in fruits if \"b\" in x and \"a\" in x]\\nprint(new_list)\\n'"
      ]
     },
     "execution_count": 58,
     "metadata": {},
     "output_type": "execute_result"
    }
   ],
   "source": [
    "# 11 Exercise Make a new list from the fruits list if \"b\" and \"a\" in fruit name\n",
    "fruits = [\"avacado\",\"pineapple\",\"apple\", \"banana\", \"cherry\",\"orange\", \"kiwi\", \"mango\",\"strawberry\",\"blueberry\",\"grapes\"]\n",
    "a_list_short = [x for x in fruits if \"a\" in x and \"b\" in x]\n",
    "print(a_list_short)\n",
    "\n",
    "\n",
    "\n",
    "# Don't see the answer\n",
    "\"\"\"\n",
    "new_list = [x for x in fruits if \"b\" in x and \"a\" in x]\n",
    "print(new_list)\n",
    "\"\"\""
   ]
  },
  {
   "cell_type": "code",
   "execution_count": 62,
   "id": "21b8f993",
   "metadata": {},
   "outputs": [
    {
     "name": "stdout",
     "output_type": "stream",
     "text": [
      "['AVACADO', 'PINEAPPLE', 'APPLE', 'BANANA', 'CHERRY', 'ORANGE', 'KIWI', 'MANGO', 'STRAWBERRY', 'BLUEBERRY', 'GRAPES']\n"
     ]
    },
    {
     "data": {
      "text/plain": [
       "'\\nnewlist = [x.upper() for x in fruits]\\nprint(newlist)\\n\\n'"
      ]
     },
     "execution_count": 62,
     "metadata": {},
     "output_type": "execute_result"
    }
   ],
   "source": [
    "# 12 Change each fruit in the list to upper case\n",
    "fruits = [\"avacado\",\"pineapple\",\"apple\", \"banana\", \"cherry\",\"orange\", \"kiwi\", \"mango\",\"strawberry\",\"blueberry\",\"grapes\"]\n",
    "a_list_short = [x.upper() for x in fruits ]\n",
    "\n",
    "print(a_list_short)\n",
    "\"\"\"\n",
    "newlist = [x.upper() for x in fruits]\n",
    "print(newlist)\n",
    "\n",
    "\"\"\""
   ]
  },
  {
   "cell_type": "code",
   "execution_count": 63,
   "id": "18424866",
   "metadata": {},
   "outputs": [
    {
     "name": "stdout",
     "output_type": "stream",
     "text": [
      "['avacado', 'pineapple', 'apple', 'banana', 'cherry', 'orange', 'kiwi', 'mango', 'strawberry', 'blueberry', 'grapes']\n"
     ]
    },
    {
     "data": {
      "text/plain": [
       "'\\nnewlist = [x.lower() for x in fruits]\\nprint(newlist)\\n'"
      ]
     },
     "execution_count": 63,
     "metadata": {},
     "output_type": "execute_result"
    }
   ],
   "source": [
    "# 13 Change each fruit in the list to lower case\n",
    "fruits =['AVACADO', 'PINEAPPLE', 'APPLE', 'BANANA', 'CHERRY', 'ORANGE', 'KIWI', 'MANGO', 'STRAWBERRY', 'BLUEBERRY', 'GRAPES']\n",
    "\n",
    "newlist=[fruit.lower() for fruit in fruits]\n",
    "print(newlist)\n",
    "\n",
    "\"\"\"\n",
    "newlist = [x.lower() for x in fruits]\n",
    "print(newlist)\n",
    "\"\"\""
   ]
  },
  {
   "cell_type": "code",
   "execution_count": 64,
   "id": "e9d96f12",
   "metadata": {},
   "outputs": [
    {
     "name": "stdout",
     "output_type": "stream",
     "text": [
      "[2, 4, 6, 8, 10, 12, 14, 16, 18, 20, 88]\n"
     ]
    },
    {
     "data": {
      "text/plain": [
       "'\\nnewlist = [x for x in number_list if x < 100 and x % 2==0]\\nprint(newlist)\\n'"
      ]
     },
     "execution_count": 64,
     "metadata": {},
     "output_type": "execute_result"
    }
   ],
   "source": [
    "# 14 For the list of numbers below create a new list using list comprehension where the numbers in the ne w list should be less than 100 and even number.\n",
    "number_list = [1,2,4,5,6,7,8,10,12,14,15,16,17,18,20,23,25,88,99,102,106,108,108,109]\n",
    "\n",
    "new_list= [x for x in number_list if x<100 and x%2==0]\n",
    "print(new_list)\n",
    "\n",
    "\"\"\"\n",
    "newlist = [x for x in number_list if x < 100 and x % 2==0]\n",
    "print(newlist)\n",
    "\"\"\""
   ]
  },
  {
   "cell_type": "code",
   "execution_count": 66,
   "id": "1f8eb8fc",
   "metadata": {},
   "outputs": [
    {
     "name": "stdout",
     "output_type": "stream",
     "text": [
      "[1, 4, 16, 25, 36, 49, 64, 100, 144, 196, 225, 256, 289, 324, 400, 529, 625, 7744, 9801, 10404, 11236, 11664, 11664, 11881]\n"
     ]
    },
    {
     "data": {
      "text/plain": [
       "'\\nnewlist = [x**2 for x in number_list]\\nprint(newlist)\\n'"
      ]
     },
     "execution_count": 66,
     "metadata": {},
     "output_type": "execute_result"
    }
   ],
   "source": [
    "# 14 Create a new list of square numbers from number_list \n",
    "number_list = [1,2,4,5,6,7,8,10,12,14,15,16,17,18,20,23,25,88,99,102,106,108,108,109]\n",
    "mylist=[x**2 for x in number_list]\n",
    "print(mylist)\n",
    "\n",
    "\n",
    "\"\"\"\n",
    "newlist = [x**2 for x in number_list]\n",
    "print(newlist)\n",
    "\"\"\""
   ]
  },
  {
   "cell_type": "markdown",
   "id": "cd1d8a98",
   "metadata": {},
   "source": [
    "##### Sort lists"
   ]
  },
  {
   "cell_type": "markdown",
   "id": "3c40ff67",
   "metadata": {},
   "source": [
    "###### Sort List Alphanumerically - ascending order - default"
   ]
  },
  {
   "cell_type": "code",
   "execution_count": 67,
   "id": "03bc2e1e",
   "metadata": {},
   "outputs": [
    {
     "name": "stdout",
     "output_type": "stream",
     "text": [
      "['apple', 'avacado', 'banana', 'blueberry', 'cherry', 'grapes', 'kiwi', 'mango', 'orange', 'pineapple', 'strawberry']\n"
     ]
    }
   ],
   "source": [
    "fruits = [\"avacado\",\"pineapple\",\"apple\", \"banana\", \"cherry\",\"orange\", \"kiwi\", \"mango\",\"strawberry\",\"blueberry\",\"grapes\"]\n",
    "fruits.sort()\n",
    "print(fruits)"
   ]
  },
  {
   "cell_type": "markdown",
   "id": "f220ba2c",
   "metadata": {},
   "source": [
    "###### Sort List Alphanumerically - descending order "
   ]
  },
  {
   "cell_type": "code",
   "execution_count": 68,
   "id": "aa171b42",
   "metadata": {},
   "outputs": [
    {
     "name": "stdout",
     "output_type": "stream",
     "text": [
      "['strawberry', 'pineapple', 'orange', 'mango', 'kiwi', 'grapes', 'cherry', 'blueberry', 'banana', 'avacado', 'apple']\n"
     ]
    }
   ],
   "source": [
    "# Works only when all our strings in the list\n",
    "fruits = [\"avacado\",\"pineapple\",\"apple\", \"banana\", \"cherry\",\"orange\", \"kiwi\", \"mango\",\"strawberry\",\"blueberry\",\"grapes\"]\n",
    "fruits.sort(reverse = True)\n",
    "print(fruits)"
   ]
  },
  {
   "cell_type": "markdown",
   "id": "e1e2daff",
   "metadata": {},
   "source": [
    "###### Sort the list numerically - acending order - default"
   ]
  },
  {
   "cell_type": "code",
   "execution_count": 69,
   "id": "dcb404df",
   "metadata": {},
   "outputs": [
    {
     "name": "stdout",
     "output_type": "stream",
     "text": [
      "[1, 3, 4, 4, 5, 7, 8, 9, 78, 89, 89, 90, 999]\n"
     ]
    }
   ],
   "source": [
    "# Works only when all our integers in the list\n",
    "unordered_number_list = [8,89,9,7,3,1,4,4,5,78,90,89,999]\n",
    "unordered_number_list.sort()\n",
    "print(unordered_number_list)"
   ]
  },
  {
   "cell_type": "markdown",
   "id": "d080cef2",
   "metadata": {},
   "source": [
    "###### Sort the list numerically - descending order "
   ]
  },
  {
   "cell_type": "code",
   "execution_count": 70,
   "id": "0caa6373",
   "metadata": {},
   "outputs": [
    {
     "name": "stdout",
     "output_type": "stream",
     "text": [
      "[999, 90, 89, 89, 78, 9, 8, 7, 5, 4, 4, 3, 1]\n"
     ]
    }
   ],
   "source": [
    "# Works only when all our integers in the list\n",
    "unordered_number_list = [8,89,9,7,3,1,4,4,5,78,90,89,999]\n",
    "unordered_number_list.sort(reverse = True)\n",
    "print(unordered_number_list)"
   ]
  },
  {
   "cell_type": "markdown",
   "id": "ae05abb7",
   "metadata": {},
   "source": [
    "##### Case Insensitive Sort "
   ]
  },
  {
   "cell_type": "code",
   "execution_count": 71,
   "id": "204dfb65",
   "metadata": {},
   "outputs": [
    {
     "name": "stdout",
     "output_type": "stream",
     "text": [
      "['APPLE', 'AVACADO', 'BANANA', 'BLUEBERRY', 'CHERRY', 'GRAPES', 'KIWI', 'MANGO', 'ORANGE', 'PINEAPPLE', 'STRAWBERRY', 'apple', 'avacado', 'banana', 'blueberry', 'cherry', 'grapes', 'kiwi', 'mango', 'orange', 'pineapple', 'strawberry']\n"
     ]
    }
   ],
   "source": [
    "# capital letters are sorted before lower case letters\n",
    "# because of case sensitivity\n",
    "fruits = [\"avacado\",\"pineapple\",\"apple\", \"banana\", \"cherry\",\"orange\", \"kiwi\", \"mango\",\"strawberry\",\"blueberry\",\"grapes\",'AVACADO', 'PINEAPPLE', 'APPLE', 'BANANA', 'CHERRY', 'ORANGE', 'KIWI', 'MANGO', 'STRAWBERRY', 'BLUEBERRY', 'GRAPES']\n",
    "fruits.sort()\n",
    "print(fruits)"
   ]
  },
  {
   "cell_type": "code",
   "execution_count": 72,
   "id": "aaba3361",
   "metadata": {},
   "outputs": [
    {
     "name": "stdout",
     "output_type": "stream",
     "text": [
      "['apple', 'APPLE', 'avacado', 'AVACADO', 'banana', 'BANANA', 'blueberry', 'BLUEBERRY', 'cherry', 'CHERRY', 'grapes', 'GRAPES', 'kiwi', 'KIWI', 'mango', 'MANGO', 'orange', 'ORANGE', 'pineapple', 'PINEAPPLE', 'strawberry', 'STRAWBERRY']\n"
     ]
    }
   ],
   "source": [
    "fruits = [\"avacado\",\"pineapple\",\"apple\", \"banana\", \"cherry\",\"orange\", \"kiwi\", \"mango\",\"strawberry\",\"blueberry\",\"grapes\",'AVACADO', 'PINEAPPLE', 'APPLE', 'BANANA', 'CHERRY', 'ORANGE', 'KIWI', 'MANGO', 'STRAWBERRY', 'BLUEBERRY', 'GRAPES']\n",
    "fruits.sort(key = str.lower)\n",
    "print(fruits)"
   ]
  },
  {
   "cell_type": "markdown",
   "id": "8f23fdfc",
   "metadata": {},
   "source": [
    "###### Reverse order of the list without sorting"
   ]
  },
  {
   "cell_type": "code",
   "execution_count": 73,
   "id": "8cdaa5aa",
   "metadata": {},
   "outputs": [
    {
     "name": "stdout",
     "output_type": "stream",
     "text": [
      "['grapes', 'blueberry', 'strawberry', 'mango', 'kiwi', 'orange', 'cherry', 'banana', 'apple', 'pineapple', 'avacado']\n"
     ]
    }
   ],
   "source": [
    "fruits = [\"avacado\",\"pineapple\",\"apple\", \"banana\", \"cherry\",\"orange\", \"kiwi\", \"mango\",\"strawberry\",\"blueberry\",\"grapes\"]\n",
    "fruits.reverse()\n",
    "print(fruits)"
   ]
  },
  {
   "cell_type": "markdown",
   "id": "b02c802d",
   "metadata": {},
   "source": [
    "##### Copy Lists"
   ]
  },
  {
   "cell_type": "code",
   "execution_count": null,
   "id": "780a25f6",
   "metadata": {},
   "outputs": [],
   "source": [
    "# What you can't do , you cant copy a list like :\n",
    "# list_1 = list_2\n",
    "# because it will reference to the same memory\n",
    "# any changes done in list 2 will affect list 1"
   ]
  },
  {
   "cell_type": "code",
   "execution_count": 74,
   "id": "d8b6b4e8",
   "metadata": {},
   "outputs": [
    {
     "name": "stdout",
     "output_type": "stream",
     "text": [
      "['avacado', 'pineapple', 'apple', 'banana', 'cherry', 'orange', 'kiwi', 'mango', 'strawberry', 'blueberry', 'grapes']\n",
      "['avacado', 'pineapple', 'apple', 'banana', 'cherry', 'orange', 'kiwi', 'mango', 'strawberry', 'blueberry', 'grapes']\n",
      "True\n",
      "['avacado', 'pineapple', 'apple', 'banana', 'cherry', 'orange', 'kiwi', 'mango', 'strawberry', 'blueberry', 'grapes']\n",
      "['avacado', 'chocolate', 'apple', 'banana', 'cherry', 'orange', 'kiwi', 'mango', 'strawberry', 'blueberry', 'grapes']\n"
     ]
    }
   ],
   "source": [
    "# method 1 - copy() method\n",
    "fruits = [\"avacado\",\"pineapple\",\"apple\", \"banana\", \"cherry\",\"orange\", \"kiwi\", \"mango\",\"strawberry\",\"blueberry\",\"grapes\"]\n",
    "new_fruit_list = fruits.copy()\n",
    "print(fruits)\n",
    "print(new_fruit_list)\n",
    "print(new_fruit_list == fruits)\n",
    "new_fruit_list[1] = \"chocolate\"\n",
    "print(fruits)\n",
    "print(new_fruit_list)"
   ]
  },
  {
   "cell_type": "code",
   "execution_count": 75,
   "id": "fd03b797",
   "metadata": {},
   "outputs": [
    {
     "name": "stdout",
     "output_type": "stream",
     "text": [
      "['avacado', 'pineapple', 'apple', 'banana', 'cherry', 'orange', 'kiwi', 'mango', 'strawberry', 'blueberry', 'grapes']\n",
      "['avacado', 'pineapple', 'apple', 'banana', 'cherry', 'orange', 'kiwi', 'mango', 'strawberry', 'blueberry', 'grapes']\n",
      "True\n",
      "['avacado', 'pineapple', 'apple', 'banana', 'cherry', 'orange', 'kiwi', 'mango', 'strawberry', 'blueberry', 'grapes']\n",
      "['avacado', 'chocolate', 'apple', 'banana', 'cherry', 'orange', 'kiwi', 'mango', 'strawberry', 'blueberry', 'grapes']\n"
     ]
    }
   ],
   "source": [
    "# method 2 - list() method\n",
    "fruits = [\"avacado\",\"pineapple\",\"apple\", \"banana\", \"cherry\",\"orange\", \"kiwi\", \"mango\",\"strawberry\",\"blueberry\",\"grapes\"]\n",
    "new_fruit_list = list(fruits)\n",
    "print(fruits)\n",
    "print(new_fruit_list)\n",
    "print(new_fruit_list == fruits)\n",
    "new_fruit_list[1] = \"chocolate\"\n",
    "print(fruits)\n",
    "print(new_fruit_list)"
   ]
  },
  {
   "cell_type": "markdown",
   "id": "e744ffda",
   "metadata": {},
   "source": [
    "##### Join lists"
   ]
  },
  {
   "cell_type": "markdown",
   "id": "a168dcea",
   "metadata": {},
   "source": [
    "##### Join two or more lists"
   ]
  },
  {
   "cell_type": "code",
   "execution_count": 76,
   "id": "96689998",
   "metadata": {},
   "outputs": [
    {
     "name": "stdout",
     "output_type": "stream",
     "text": [
      "['a', 'b', 'c', 'o', 'm', 'l', 's', 7, 1, 7, 2, 3, 8, 3.14, 5, 5, 5, 5]\n"
     ]
    }
   ],
   "source": [
    "# method 1 Use + operator on lists\n",
    "first_list = [\"a\", \"b\", \"c\",\"o\",\"m\",\"l\",\"s\"]\n",
    "second_list = [7,1,7, 2, 3,8,3.14,5,5,5,5]\n",
    "third_list = first_list + second_list\n",
    "print(third_list)"
   ]
  },
  {
   "cell_type": "code",
   "execution_count": 77,
   "id": "bd0afc57",
   "metadata": {},
   "outputs": [
    {
     "name": "stdout",
     "output_type": "stream",
     "text": [
      "['a', 'b', 'c', 'o', 'm', 'l', 's', 7, 1, 7, 2, 3, 8, 3.14, 5, 5, 5, 5]\n"
     ]
    }
   ],
   "source": [
    "# method 2 -extend\n",
    "first_list = [\"a\", \"b\", \"c\",\"o\",\"m\",\"l\",\"s\"]\n",
    "second_list = [7,1,7, 2, 3,8,3.14,5,5,5,5]\n",
    "first_list.extend(second_list)\n",
    "third_list = first_list.copy()\n",
    "print(third_list)"
   ]
  },
  {
   "cell_type": "markdown",
   "id": "2c9657a8",
   "metadata": {},
   "source": [
    "##### Assignement part 3 - List methods\n",
    "1. append()\n",
    "2. clear()\t\n",
    "3. copy()\t\n",
    "4. count()\t\n",
    "5. extend()\t\n",
    "6. index()\t\n",
    "7. insert()\t\n",
    "8. pop()\t\n",
    "9. remove()\t\n",
    "10. reverse()\t\n",
    "11. sort()\t"
   ]
  },
  {
   "cell_type": "markdown",
   "id": "d7579ed6",
   "metadata": {},
   "source": [
    "##### Python Tuples"
   ]
  },
  {
   "cell_type": "markdown",
   "id": "6dfb2c79",
   "metadata": {},
   "source": [
    "##### Characteristics of Python tuples"
   ]
  },
  {
   "cell_type": "markdown",
   "id": "d022b3d9",
   "metadata": {},
   "source": [
    "1. Tuples are like Python lists used to store multiple items in a single variable.\n",
    "2. Tuple is one among-the data types in Python used to store collections of data, the others are List, Set, and Dictionary.\n",
    "3. A tuple is a collection which is ordered and unchangeable.\n",
    "4. Allows duplicate items.\n",
    "5. Only difference between Python lists and Python tuples is that Python tuples are unchangeable/you cant modify a tuple after creation but you can combine two tuples or by converting them to a list and back to a tuple..... - explained in point 3"
   ]
  },
  {
   "cell_type": "code",
   "execution_count": 105,
   "id": "88773faf",
   "metadata": {},
   "outputs": [
    {
     "name": "stdout",
     "output_type": "stream",
     "text": [
      "('strawberry', 'pineberry', 'blueberry')\n"
     ]
    }
   ],
   "source": [
    "#1 Tuples are like Python lists used to store multiple items in a single variable.\n",
    "tuple_1 = (\"strawberry\", \"pineberry\", \"blueberry\")\n",
    "print(tuple_1)"
   ]
  },
  {
   "cell_type": "code",
   "execution_count": 106,
   "id": "04d81e9f",
   "metadata": {},
   "outputs": [
    {
     "name": "stdout",
     "output_type": "stream",
     "text": [
      "['strawberry', 'pineberry', 'blueberry']\n",
      "<class 'list'>\n",
      "('strawberry', 'pineberry', 'blueberry')\n",
      "<class 'tuple'>\n"
     ]
    }
   ],
   "source": [
    "#2 Tuple is one among-the data types in Python used to store collections of data, the others are List, Set, and Dictionary.\n",
    "list_1 = [\"strawberry\", \"pineberry\", \"blueberry\"]\n",
    "print(list_1)\n",
    "print(type(list_1))\n",
    "tuple_1 = (\"strawberry\", \"pineberry\", \"blueberry\")\n",
    "print(tuple_1)\n",
    "print(type(tuple_1))"
   ]
  },
  {
   "cell_type": "code",
   "execution_count": 107,
   "id": "cb184a16",
   "metadata": {},
   "outputs": [
    {
     "name": "stdout",
     "output_type": "stream",
     "text": [
      "('strawberry', 'pineberry', 'blueberry')\n",
      "<class 'tuple'>\n",
      "strawberry\n",
      "pineberry\n",
      "blueberry\n"
     ]
    }
   ],
   "source": [
    "#3 A tuple is a collection which is ordered and unchangeable.\n",
    "# ordered means it is indexed in sequence\n",
    "tuple_1 = (\"strawberry\", \"pineberry\", \"blueberry\")\n",
    "print(tuple_1)\n",
    "print(type(tuple_1))\n",
    "print(tuple_1[0])\n",
    "print(tuple_1[1])\n",
    "print(tuple_1[2])"
   ]
  },
  {
   "cell_type": "code",
   "execution_count": 108,
   "id": "e3823b46",
   "metadata": {},
   "outputs": [
    {
     "ename": "TypeError",
     "evalue": "'tuple' object does not support item assignment",
     "output_type": "error",
     "traceback": [
      "\u001b[1;31m---------------------------------------------------------------------------\u001b[0m",
      "\u001b[1;31mTypeError\u001b[0m                                 Traceback (most recent call last)",
      "\u001b[1;32m~\\AppData\\Local\\Temp\\ipykernel_11396\\1724099396.py\u001b[0m in \u001b[0;36m<module>\u001b[1;34m\u001b[0m\n\u001b[0;32m      1\u001b[0m \u001b[1;31m# unchangeable means it cant be modified\u001b[0m\u001b[1;33m\u001b[0m\u001b[1;33m\u001b[0m\u001b[0m\n\u001b[1;32m----> 2\u001b[1;33m \u001b[0mtuple_1\u001b[0m\u001b[1;33m[\u001b[0m\u001b[1;36m0\u001b[0m\u001b[1;33m]\u001b[0m \u001b[1;33m=\u001b[0m \u001b[1;34m\"chocolate\"\u001b[0m\u001b[1;33m\u001b[0m\u001b[1;33m\u001b[0m\u001b[0m\n\u001b[0m",
      "\u001b[1;31mTypeError\u001b[0m: 'tuple' object does not support item assignment"
     ]
    }
   ],
   "source": [
    "# unchangeable means it cant be modified\n",
    "tuple_1[0] = \"chocolate\""
   ]
  },
  {
   "cell_type": "code",
   "execution_count": 109,
   "id": "b5b64015",
   "metadata": {},
   "outputs": [
    {
     "name": "stdout",
     "output_type": "stream",
     "text": [
      "('strawberry', 'pineberry', 'blueberrystrawberry', 'pineberry', 'blueberry')\n",
      "<class 'tuple'>\n",
      "strawberry\n",
      "pineberry\n"
     ]
    }
   ],
   "source": [
    "#4 Allows duplicate items.\n",
    "tuple_1 = (\"strawberry\", \"pineberry\", \"blueberry\"\"strawberry\", \"pineberry\", \"blueberry\")\n",
    "print(tuple_1)\n",
    "print(type(tuple_1))\n",
    "print(tuple_1[0])\n",
    "print(tuple_1[3])"
   ]
  },
  {
   "cell_type": "code",
   "execution_count": null,
   "id": "52c31b6a",
   "metadata": {},
   "outputs": [],
   "source": [
    "#Only difference between Python lists and Python tuples is that Python tuples are unchangeable/you cant modify a tuple after creation but you can combine two tuples or by converting them to a list and back to a tuple..... - explained in point 3"
   ]
  },
  {
   "cell_type": "markdown",
   "id": "8bf4aef6",
   "metadata": {},
   "source": [
    "##### Create a tuple with ()"
   ]
  },
  {
   "cell_type": "code",
   "execution_count": 83,
   "id": "162c64f0",
   "metadata": {},
   "outputs": [
    {
     "name": "stdout",
     "output_type": "stream",
     "text": [
      "('strawberry', 'pineberry', 'blueberry')\n"
     ]
    }
   ],
   "source": [
    "# method 1 - () brackets\n",
    "tuple_1 = (\"strawberry\", \"pineberry\", \"blueberry\")\n",
    "print(tuple_1)"
   ]
  },
  {
   "cell_type": "code",
   "execution_count": 84,
   "id": "ab794c34",
   "metadata": {},
   "outputs": [
    {
     "name": "stdout",
     "output_type": "stream",
     "text": [
      "('strawberry', 'pineberry', 'blueberry')\n"
     ]
    }
   ],
   "source": [
    "# method 2 - tuple() - tuple constructor\n",
    "tuple_1 = tuple((\"strawberry\", \"pineberry\", \"blueberry\")) # double round-brackets when you use a constructor\n",
    "print(tuple_1)"
   ]
  },
  {
   "cell_type": "markdown",
   "id": "5bb456d6",
   "metadata": {},
   "source": [
    "##### type() function"
   ]
  },
  {
   "cell_type": "code",
   "execution_count": 85,
   "id": "61396e31",
   "metadata": {},
   "outputs": [
    {
     "name": "stdout",
     "output_type": "stream",
     "text": [
      "('strawberry', 'pineberry', 'blueberry')\n",
      "<class 'tuple'>\n"
     ]
    }
   ],
   "source": [
    "tuple_1 = tuple((\"strawberry\", \"pineberry\", \"blueberry\")) # double round-brackets when you use a constructor\n",
    "print(tuple_1)\n",
    "print(type(tuple_1))"
   ]
  },
  {
   "cell_type": "markdown",
   "id": "3e059183",
   "metadata": {},
   "source": [
    "##### Create a tuple with one item - special case"
   ]
  },
  {
   "cell_type": "code",
   "execution_count": 86,
   "id": "e46cc8c3",
   "metadata": {},
   "outputs": [
    {
     "name": "stdout",
     "output_type": "stream",
     "text": [
      "<class 'list'>\n"
     ]
    }
   ],
   "source": [
    "list_1 = [\"strawberry\"]\n",
    "print(type(list_1))"
   ]
  },
  {
   "cell_type": "code",
   "execution_count": 87,
   "id": "493e19ee",
   "metadata": {},
   "outputs": [
    {
     "name": "stdout",
     "output_type": "stream",
     "text": [
      "<class 'str'>\n"
     ]
    }
   ],
   "source": [
    "tuple_1 = (\"strawberry\") # This will be considered as a string\n",
    "print(type(tuple_1))"
   ]
  },
  {
   "cell_type": "code",
   "execution_count": 88,
   "id": "97aabe19",
   "metadata": {},
   "outputs": [
    {
     "name": "stdout",
     "output_type": "stream",
     "text": [
      "<class 'tuple'>\n"
     ]
    }
   ],
   "source": [
    "tuple_1 = (\"strawberry\",) # This will be considered as a tuple because comma was added\n",
    "print(type(tuple_1))"
   ]
  },
  {
   "cell_type": "markdown",
   "id": "e044073e",
   "metadata": {},
   "source": [
    "##### Find the length of the tuple"
   ]
  },
  {
   "cell_type": "code",
   "execution_count": 89,
   "id": "ac9e3f5e",
   "metadata": {},
   "outputs": [
    {
     "name": "stdout",
     "output_type": "stream",
     "text": [
      "('strawberry', 'pineberry', 'blueberrystrawberry', 'pineberry', 'blueberry')\n",
      "5\n"
     ]
    }
   ],
   "source": [
    "#use len() method - works on lists as well......\n",
    "tuple_1 = (\"strawberry\", \"pineberry\", \"blueberry\"\"strawberry\", \"pineberry\", \"blueberry\")\n",
    "print(tuple_1)\n",
    "print(len(tuple_1))"
   ]
  },
  {
   "cell_type": "markdown",
   "id": "769df7ef",
   "metadata": {},
   "source": [
    "#### A tuple can have many datatypes"
   ]
  },
  {
   "cell_type": "code",
   "execution_count": 90,
   "id": "e82eca0f",
   "metadata": {},
   "outputs": [
    {
     "name": "stdout",
     "output_type": "stream",
     "text": [
      "('strawberry', 'pineberry', 'blueberry')\n"
     ]
    }
   ],
   "source": [
    "# str\n",
    "tuple_1 = (\"strawberry\", \"pineberry\", \"blueberry\")\n",
    "print(tuple_1)"
   ]
  },
  {
   "cell_type": "code",
   "execution_count": 91,
   "id": "442260e3",
   "metadata": {},
   "outputs": [
    {
     "name": "stdout",
     "output_type": "stream",
     "text": [
      "(1, 2, 3, 4)\n"
     ]
    }
   ],
   "source": [
    "# int\n",
    "tuple_2 = (1,2,3,4)\n",
    "print(tuple_2)"
   ]
  },
  {
   "cell_type": "code",
   "execution_count": 92,
   "id": "d018bd1d",
   "metadata": {},
   "outputs": [
    {
     "name": "stdout",
     "output_type": "stream",
     "text": [
      "(True, False, True)\n"
     ]
    }
   ],
   "source": [
    "# bool\n",
    "tuple_3 = (True, False, True)\n",
    "print(tuple_3)"
   ]
  },
  {
   "cell_type": "code",
   "execution_count": 93,
   "id": "0cd0135c",
   "metadata": {},
   "outputs": [
    {
     "name": "stdout",
     "output_type": "stream",
     "text": [
      "(True, False, True, [1, 2, 3, 4])\n",
      "<class 'list'>\n"
     ]
    }
   ],
   "source": [
    "# list\n",
    "tuple_4 = (True, False, True,[1,2,3,4])\n",
    "print(tuple_4)\n",
    "print(type(tuple_4[3]))"
   ]
  },
  {
   "cell_type": "code",
   "execution_count": 94,
   "id": "db4a2fe8",
   "metadata": {},
   "outputs": [
    {
     "name": "stdout",
     "output_type": "stream",
     "text": [
      "(True, False, True, (1, 2, 3, 4))\n",
      "<class 'tuple'>\n"
     ]
    }
   ],
   "source": [
    "# tuple\n",
    "tuple_5 = (True, False, True,(1,2,3,4))\n",
    "print(tuple_5)\n",
    "print(type(tuple_5[3]))"
   ]
  },
  {
   "cell_type": "code",
   "execution_count": 95,
   "id": "d0aae68a",
   "metadata": {},
   "outputs": [
    {
     "name": "stdout",
     "output_type": "stream",
     "text": [
      "(True, False, True, {1: 2, 3: 4})\n",
      "<class 'dict'>\n",
      "(True, False, True, {'dark chocolate', 'milk chocolate', 'white chocolate'})\n",
      "<class 'set'>\n"
     ]
    }
   ],
   "source": [
    "#dictionary and set as well\n",
    "tuple_6 = (True, False, True,{1:2,3:4})\n",
    "print(tuple_6)\n",
    "print(type(tuple_6[3]))\n",
    "tuple_7 = (True, False, True,{\"dark chocolate\", \"milk chocolate\", \"white chocolate\"})\n",
    "print(tuple_7)\n",
    "print(type(tuple_7[3]))"
   ]
  },
  {
   "cell_type": "code",
   "execution_count": 96,
   "id": "ddd38ca1",
   "metadata": {},
   "outputs": [
    {
     "name": "stdout",
     "output_type": "stream",
     "text": [
      "(True, False, True, {'dark chocolate', 'milk chocolate', 'white chocolate'})\n",
      "True\n",
      "False\n",
      "True\n",
      "{'dark chocolate', 'milk chocolate', 'white chocolate'}\n"
     ]
    }
   ],
   "source": [
    "# Accessing the tuple is same as accessing a list with square brackets and index in it.\n",
    "# positive index\n",
    "tuple_7 = (True, False, True,{\"dark chocolate\", \"milk chocolate\", \"white chocolate\"})\n",
    "print(tuple_7)\n",
    "print(tuple_7[0])\n",
    "print(tuple_7[1])\n",
    "print(tuple_7[2])\n",
    "print(tuple_7[3])"
   ]
  },
  {
   "cell_type": "code",
   "execution_count": 97,
   "id": "ad927e9c",
   "metadata": {},
   "outputs": [
    {
     "name": "stdout",
     "output_type": "stream",
     "text": [
      "(True, False, True, {'dark chocolate', 'milk chocolate', 'white chocolate'})\n",
      "{'dark chocolate', 'milk chocolate', 'white chocolate'}\n",
      "True\n",
      "False\n",
      "True\n"
     ]
    }
   ],
   "source": [
    "# negative index\n",
    "tuple_7 = (True, False, True,{\"dark chocolate\", \"milk chocolate\", \"white chocolate\"})\n",
    "print(tuple_7)\n",
    "print(tuple_7[-1])\n",
    "print(tuple_7[-2])\n",
    "print(tuple_7[-3])\n",
    "print(tuple_7[-4])"
   ]
  },
  {
   "cell_type": "code",
   "execution_count": 98,
   "id": "d5d94f50",
   "metadata": {},
   "outputs": [
    {
     "name": "stdout",
     "output_type": "stream",
     "text": [
      "(True, False, True, {'dark chocolate', 'milk chocolate', 'white chocolate'})\n",
      "(True, False)\n",
      "(True, False)\n",
      "(True, {'dark chocolate', 'milk chocolate', 'white chocolate'})\n",
      "(True, False, True)\n"
     ]
    }
   ],
   "source": [
    "# range of indices\n",
    "tuple_7 = (True, False, True,{\"dark chocolate\", \"milk chocolate\", \"white chocolate\"})\n",
    "print(tuple_7)\n",
    "print(tuple_7[0:2])\n",
    "print(tuple_7[:2])\n",
    "print(tuple_7[2:])\n",
    "print(tuple_7[-4:-1])"
   ]
  },
  {
   "cell_type": "code",
   "execution_count": 99,
   "id": "01d0a86e",
   "metadata": {},
   "outputs": [
    {
     "name": "stdout",
     "output_type": "stream",
     "text": [
      "()\n"
     ]
    }
   ],
   "source": [
    "# This does not work when using negative index\n",
    "print(tuple_7[-1:-4]) # empty tuple is returned"
   ]
  },
  {
   "cell_type": "markdown",
   "id": "5677f7ce",
   "metadata": {},
   "source": [
    "##### Update tuple"
   ]
  },
  {
   "cell_type": "code",
   "execution_count": null,
   "id": "9569dbf3",
   "metadata": {},
   "outputs": [],
   "source": [
    "# Unchangeable characteristic of tuple.\n",
    "# Only difference between Python lists and Python tuples is that Python tuples are unchangeable/you cant modify a tuple after creation but you can combine two tuples or by converting them to a list and back to a tuple..... - explained in point 3"
   ]
  },
  {
   "cell_type": "markdown",
   "id": "4d63f19e",
   "metadata": {},
   "source": [
    "##### Update Tuple Values"
   ]
  },
  {
   "cell_type": "code",
   "execution_count": 100,
   "id": "f8761bb1",
   "metadata": {},
   "outputs": [
    {
     "name": "stdout",
     "output_type": "stream",
     "text": [
      "<class 'tuple'>\n",
      "<class 'list'>\n",
      "<class 'tuple'>\n",
      "('dark chocolate', 'kiwi', 'white chocolate')\n"
     ]
    }
   ],
   "source": [
    "x = (\"dark chocolate\", \"milk chocolate\", \"white chocolate\")\n",
    "print(type(x))\n",
    "y = list(x) # convert tuple to a list , different variable because the original ist should be unaltered - remember copy()\n",
    "print(type(y))\n",
    "y[1] = \"kiwi\" # change whatever in the list\n",
    "x = tuple(y) # convert back to tuple\n",
    "print(type(x))\n",
    "print(x)"
   ]
  },
  {
   "cell_type": "markdown",
   "id": "ec17fc32",
   "metadata": {},
   "source": [
    "###### Adding Items"
   ]
  },
  {
   "cell_type": "code",
   "execution_count": 101,
   "id": "2f8a499c",
   "metadata": {},
   "outputs": [
    {
     "name": "stdout",
     "output_type": "stream",
     "text": [
      "('dark chocolate', 'milk chocolate', 'white chocolate')\n",
      "('dark chocolate', 'milk chocolate', 'white chocolate', 'orange')\n"
     ]
    }
   ],
   "source": [
    "# method 1 - convert into a list\n",
    "x = (\"dark chocolate\", \"milk chocolate\", \"white chocolate\")\n",
    "print(x)\n",
    "y = list(x)\n",
    "y.append(\"orange\")\n",
    "x = tuple(y)\n",
    "print(x)"
   ]
  },
  {
   "cell_type": "code",
   "execution_count": 102,
   "id": "6835e6cb",
   "metadata": {},
   "outputs": [
    {
     "name": "stdout",
     "output_type": "stream",
     "text": [
      "('dark chocolate', 'milk chocolate', 'white chocolate')\n",
      "('dark chocolate', 'milk chocolate', 'white chocolate', 'orange')\n"
     ]
    }
   ],
   "source": [
    "# method 2 - add tuple to tuple - Join tuples\n",
    "x = (\"dark chocolate\", \"milk chocolate\", \"white chocolate\")\n",
    "print(x)\n",
    "y = (\"orange\",) # should add \",\" for tuple or considered as string\n",
    "x += y # same as x = x+y\n",
    "print(x)"
   ]
  },
  {
   "cell_type": "markdown",
   "id": "b2e2f7cb",
   "metadata": {},
   "source": [
    "##### Multiply Tuples"
   ]
  },
  {
   "cell_type": "code",
   "execution_count": 103,
   "id": "eaf7f047",
   "metadata": {},
   "outputs": [
    {
     "name": "stdout",
     "output_type": "stream",
     "text": [
      "('dark chocolate', 'milk chocolate', 'white chocolate', 'dark chocolate', 'milk chocolate', 'white chocolate')\n"
     ]
    }
   ],
   "source": [
    "# repeating items\n",
    "chocolates = (\"dark chocolate\", \"milk chocolate\", \"white chocolate\")\n",
    "newtuple = chocolates * 2\n",
    "print(newtuple)"
   ]
  },
  {
   "cell_type": "markdown",
   "id": "5c25d10f",
   "metadata": {},
   "source": [
    "##### Unpacking a tuple"
   ]
  },
  {
   "cell_type": "code",
   "execution_count": 104,
   "id": "a5658de1",
   "metadata": {},
   "outputs": [
    {
     "name": "stdout",
     "output_type": "stream",
     "text": [
      "dark chocolate\n",
      "milk chocolate\n",
      "white chocolate\n"
     ]
    }
   ],
   "source": [
    "# In creating a tuple, we normally assign values to it. This is called \"packing\" a tuple.\n",
    "chocolates = (\"dark chocolate\", \"milk chocolate\", \"white chocolate\")\n",
    "(dark,milk,white) = chocolates # just the reverse of packing\n",
    "print(dark)\n",
    "print(milk)\n",
    "print(white)"
   ]
  },
  {
   "cell_type": "markdown",
   "id": "074aae5f",
   "metadata": {},
   "source": [
    "##### Assignement part  4 - Tuple methods\n",
    "1. count()\t\n",
    "2. index()"
   ]
  }
 ],
 "metadata": {
  "kernelspec": {
   "display_name": "Python 3 (ipykernel)",
   "language": "python",
   "name": "python3"
  },
  "language_info": {
   "codemirror_mode": {
    "name": "ipython",
    "version": 3
   },
   "file_extension": ".py",
   "mimetype": "text/x-python",
   "name": "python",
   "nbconvert_exporter": "python",
   "pygments_lexer": "ipython3",
   "version": "3.9.13"
  }
 },
 "nbformat": 4,
 "nbformat_minor": 5
}
