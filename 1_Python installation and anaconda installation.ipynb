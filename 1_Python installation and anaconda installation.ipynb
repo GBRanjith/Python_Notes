{
 "cells": [
  {
   "cell_type": "markdown",
   "id": "b7a0823c",
   "metadata": {},
   "source": [
    "### Python installation"
   ]
  },
  {
   "cell_type": "markdown",
   "id": "3de683ed",
   "metadata": {},
   "source": [
    "##### Step 1\n",
    "##### To download python we should go to its official website\n",
    "link: https://www.python.org/downloads/"
   ]
  },
  {
   "cell_type": "markdown",
   "id": "8f6004af",
   "metadata": {},
   "source": [
    "##### Step 2\n",
    "1. The file gets saved in the computer as arunnable file.\n",
    "2. Check mark add python.exe to the path.\n",
    "3. To check whether python is installed: open command prompt type cmd in windows search bar, execute python command to check the version. Output expected:Python 3.11.0 \n"
   ]
  },
  {
   "cell_type": "code",
   "execution_count": 4,
   "id": "1a16f2ff",
   "metadata": {},
   "outputs": [
    {
     "data": {
      "text/plain": [
       "'3.9.7'"
      ]
     },
     "execution_count": 4,
     "metadata": {},
     "output_type": "execute_result"
    }
   ],
   "source": [
    "# To check the version in Jupyter notebook\n",
    "from platform import python_version\n",
    "python_version()"
   ]
  },
  {
   "cell_type": "markdown",
   "id": "aa21c625",
   "metadata": {},
   "source": [
    "#### Anaconda Installation"
   ]
  },
  {
   "cell_type": "markdown",
   "id": "50d08a18",
   "metadata": {},
   "source": [
    "link: https://www.anaconda.com/products/distribution\n",
    "   (It comes with the default Python 3.9)"
   ]
  },
  {
   "cell_type": "code",
   "execution_count": null,
   "id": "07c50655",
   "metadata": {},
   "outputs": [],
   "source": [
    "# download the 64 bit installer for windows\n",
    "# follow the instructions in the installer"
   ]
  },
  {
   "cell_type": "code",
   "execution_count": null,
   "id": "d526d18b",
   "metadata": {},
   "outputs": [],
   "source": [
    "# open command prompt \n",
    "# type conda --version\n",
    "# In anaconda prompt\n",
    "conda --version\n",
    "# output: conda 4.10.3\n",
    "# environment path variable config: (refer) https://stackoverflow.com/questions/44515769/conda-is-not-recognized-as-internal-or-external-command"
   ]
  },
  {
   "cell_type": "code",
   "execution_count": null,
   "id": "be5685b6",
   "metadata": {},
   "outputs": [],
   "source": [
    "# create virtual environments in anaconda\n",
    "# type conda create -n teachEnv Python=3.10.0  (teachEnv is virtual environment name and can be anything)\n",
    "# then type \"y\"\n",
    "# then type conda activate teachEnv\n",
    "# then the prompt will display : (teachEnv) > in the prompt"
   ]
  },
  {
   "cell_type": "code",
   "execution_count": null,
   "id": "395a5c70",
   "metadata": {},
   "outputs": [],
   "source": [
    "# work inside the environment or deactivate (conda deactivate)\n",
    "# to view conda environments created in our machine: conda env list (anaconda always comes with a base environment)\n",
    "# in order to remove environment conda env remove -n teachEnv\n",
    "# CLS - clear the previous commands from the prompt"
   ]
  },
  {
   "cell_type": "code",
   "execution_count": null,
   "id": "d9c2c846",
   "metadata": {},
   "outputs": [],
   "source": [
    "# install packages: conda install packagename=version (example: conda install numpy=5.0) , proceed: \"y\"\n",
    "# list all the packages in my environment: conda list"
   ]
  },
  {
   "cell_type": "code",
   "execution_count": null,
   "id": "332cfe52",
   "metadata": {},
   "outputs": [],
   "source": [
    "# conda update package_name (conda update pandas)"
   ]
  },
  {
   "cell_type": "code",
   "execution_count": 5,
   "id": "1d34d68c",
   "metadata": {},
   "outputs": [
    {
     "data": {
      "text/plain": [
       "'3.9.7'"
      ]
     },
     "execution_count": 5,
     "metadata": {},
     "output_type": "execute_result"
    }
   ],
   "source": [
    "# conda update python\n",
    "from platform import python_version\n",
    "python_version()"
   ]
  },
  {
   "cell_type": "code",
   "execution_count": null,
   "id": "217fef72",
   "metadata": {},
   "outputs": [],
   "source": [
    "# deinstall packages : conda remove package_name (conda remove pandas)\n",
    "# Find packages: conda search\n",
    "# sometimes you will not find the package by conda so you can use pip,pip is also packet management system\n",
    "# pip install package_name (pip install numpy) so install pip : conda install pip"
   ]
  },
  {
   "cell_type": "code",
   "execution_count": null,
   "id": "997da186",
   "metadata": {},
   "outputs": [],
   "source": [
    "# navigate to Visual studio code from environment"
   ]
  },
  {
   "cell_type": "code",
   "execution_count": null,
   "id": "22849ca4",
   "metadata": {},
   "outputs": [],
   "source": []
  },
  {
   "cell_type": "code",
   "execution_count": null,
   "id": "674f1d1b",
   "metadata": {},
   "outputs": [],
   "source": []
  },
  {
   "cell_type": "code",
   "execution_count": null,
   "id": "2ecedd34",
   "metadata": {},
   "outputs": [],
   "source": []
  },
  {
   "cell_type": "code",
   "execution_count": null,
   "id": "533e9c89",
   "metadata": {},
   "outputs": [],
   "source": []
  }
 ],
 "metadata": {
  "kernelspec": {
   "display_name": "Python 3 (ipykernel)",
   "language": "python",
   "name": "python3"
  },
  "language_info": {
   "codemirror_mode": {
    "name": "ipython",
    "version": 3
   },
   "file_extension": ".py",
   "mimetype": "text/x-python",
   "name": "python",
   "nbconvert_exporter": "python",
   "pygments_lexer": "ipython3",
   "version": "3.9.7"
  }
 },
 "nbformat": 4,
 "nbformat_minor": 5
}
