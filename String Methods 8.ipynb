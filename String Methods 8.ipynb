{
 "cells": [
  {
   "cell_type": "code",
   "execution_count": null,
   "id": "3ea42ace",
   "metadata": {},
   "outputs": [],
   "source": [
    "# \n",
    "\"\"\"\n",
    "-------------------------------------------------string methods-------------------------------\n",
    "split()\n",
    "\n",
    "splitlines()\n",
    "\n",
    "startswith()\n",
    "\n",
    "strip()\n",
    "\n",
    "swapcase()\n",
    "\n",
    "\n",
    "\"\"\"\n"
   ]
  },
  {
   "cell_type": "code",
   "execution_count": null,
   "id": "3026df44",
   "metadata": {},
   "outputs": [],
   "source": [
    "# ----------------------------------------------split()-----------------------------------------------------\n",
    " \n",
    "\"\"\"\n",
    "=> The split() method splits a string into a list.\n",
    "\n",
    "=> Syntax-------string.split(separator, maxsplit)\n",
    "  \n",
    "     separator -  separator--Optional. Specifies the separator to use when splitting the string. \n",
    "                  By default any whitespace is a separator.\n",
    "           \n",
    "     maxsplit  -  Optional.Specifies how many splits to do. Default value is -1, which is \"all occurrences\"         \n",
    " \n",
    "\"\"\"\n",
    "\n",
    "# ---------------------------------------------Example 1-------------------------------------------------\n",
    "\n",
    "a=\"Hii i am Kalaivendhan\"\n",
    "\n",
    "b=\"one-two-three\"\n",
    "\n",
    "x=a.split(\" \",1)\n",
    "y=b.split(\"-\")\n",
    "\n",
    "z=a.split()\n",
    "\n",
    "\n",
    "print(x)\n",
    "print(y)\n",
    "print(z)"
   ]
  },
  {
   "cell_type": "code",
   "execution_count": 1,
   "id": "c0e4c363",
   "metadata": {},
   "outputs": [
    {
     "name": "stdout",
     "output_type": "stream",
     "text": [
      "['Python has using intrepreter concept']\n",
      "['Python', ' has', ' using', ' intrepreter concept']\n",
      "['Python\\n', ' has\\n', ' using\\n', ' intrepreter concept']\n"
     ]
    }
   ],
   "source": [
    "#-------------------------------------------splitlines()---------------------------------------------------\n",
    "\"\"\"\n",
    "=>splits a string into a list. The splitting is done at line breaks.\n",
    "\n",
    "=> Syntax------string.splitlines(keeplinebreaks)\n",
    "\n",
    "               keeplinebreaks---Optional. Specifies if the line breaks should be included (True), or not (False). \n",
    "                                Default value is False\n",
    "\"\"\"\n",
    "\n",
    "#---------------------------------------------Example-------------------------------------------------------\n",
    "\n",
    "a=\"Python has using intrepreter concept\"\n",
    "\n",
    "b=\"Python\\n has\\n using\\n intrepreter concept\"\n",
    "\n",
    "x=a.splitlines()\n",
    "y=b.splitlines()\n",
    "z=b.splitlines(True)\n",
    "\n",
    "print(x)\n",
    "print(y)\n",
    "print(z)"
   ]
  },
  {
   "cell_type": "code",
   "execution_count": 2,
   "id": "3bce0ae8",
   "metadata": {},
   "outputs": [
    {
     "name": "stdout",
     "output_type": "stream",
     "text": [
      "True\n",
      "True\n",
      "False\n",
      "True\n"
     ]
    }
   ],
   "source": [
    "#------------------------------------------startswith()---------------------------------------------------\n",
    "\n",
    "\"\"\"\n",
    "=> The startswith() method returns True if the string starts with the specified value, otherwise False.\n",
    "\n",
    "=> Syntax---------string.startswith(value, start, end)\n",
    "         \n",
    "                  value------Required. The value to check if the string starts with\n",
    "                  \n",
    "                  start------Optional. An Integer specifying at which position to start the search\n",
    "                  \n",
    "                  end--------Optional. An Integer specifying at which position to end the search\n",
    "\"\"\"\n",
    "#------------------------------------------Example--------------------------------------------------------\n",
    "\n",
    "a=\"python task\"\n",
    "\n",
    "x=a.startswith('ta',7,10)\n",
    "\n",
    "y=a.startswith('py',0,5)\n",
    "\n",
    "z=a.startswith('ta')\n",
    "\n",
    "e=a.startswith('py')\n",
    "\n",
    "print(x)\n",
    "print(y)\n",
    "print(z)\n",
    "print(e)\n"
   ]
  },
  {
   "cell_type": "code",
   "execution_count": 3,
   "id": "83b11cd0",
   "metadata": {},
   "outputs": [
    {
     "name": "stdout",
     "output_type": "stream",
     "text": [
      "Python@official\n",
      "Python@official\n",
      "Fun---day\n"
     ]
    }
   ],
   "source": [
    "#-------------------------------------------strip()--------------------------------------------------------\n",
    "\n",
    "\"\"\"\n",
    "=> The strip() method removes any leading (spaces at the beginning) and trailing (spaces at the end) \n",
    "   characters (space is the default leading character to remove).\n",
    "\n",
    "=>Syntax----------string.strip(characters)\n",
    "     \n",
    "                  characters------Optional. A set of characters to remove as leading/trailing characters\n",
    "\"\"\"\n",
    "#-------------------------------------------Example---------------------------------------------------------\n",
    " \n",
    "a=\"    Python@official   \"\n",
    "\n",
    "b=\"...---nnnn...Fun---day....----nnnn\"\n",
    "\n",
    "x=a.strip(\" \")\n",
    "\n",
    "z=a.strip()\n",
    "\n",
    "y=b.strip(\".-n\")\n",
    "\n",
    "print(x)\n",
    "print(z)\n",
    "print(y)"
   ]
  },
  {
   "cell_type": "code",
   "execution_count": 4,
   "id": "c37cb80b",
   "metadata": {},
   "outputs": [
    {
     "name": "stdout",
     "output_type": "stream",
     "text": [
      "HII i AM kALAI\n"
     ]
    }
   ],
   "source": [
    "#-------------------------------------------swapcase()------------------------------------------------------\n",
    "\"\"\"\n",
    "=>The swapcase() method returns a string where all the upper case letters are lower case and vice versa.\n",
    "\n",
    "=>Syntax-------string.swapcase()\n",
    "\n",
    "=>No parameter\n",
    "\n",
    "\"\"\"\n",
    "#------------------------------------------Example----------------------------------------------------------\n",
    "\n",
    "a=\"hii I am Kalai\"\n",
    "\n",
    "x=a.swapcase()\n",
    "print(x)"
   ]
  },
  {
   "cell_type": "code",
   "execution_count": null,
   "id": "2ee36646",
   "metadata": {},
   "outputs": [],
   "source": []
  }
 ],
 "metadata": {
  "kernelspec": {
   "display_name": "Python 3 (ipykernel)",
   "language": "python",
   "name": "python3"
  },
  "language_info": {
   "codemirror_mode": {
    "name": "ipython",
    "version": 3
   },
   "file_extension": ".py",
   "mimetype": "text/x-python",
   "name": "python",
   "nbconvert_exporter": "python",
   "pygments_lexer": "ipython3",
   "version": "3.9.13"
  }
 },
 "nbformat": 4,
 "nbformat_minor": 5
}
