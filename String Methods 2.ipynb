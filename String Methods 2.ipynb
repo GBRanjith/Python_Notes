{
 "cells": [
  {
   "cell_type": "markdown",
   "id": "d77b66ff",
   "metadata": {},
   "source": [
    "# 6.endswith() "
   ]
  },
  {
   "cell_type": "code",
   "execution_count": 3,
   "id": "57cc78f9",
   "metadata": {},
   "outputs": [
    {
     "name": "stdout",
     "output_type": "stream",
     "text": [
      "True , The end of the string literal is : !\n"
     ]
    }
   ],
   "source": [
    "#endswith() method checks if the string ends with a specific character or punctuation etc..\n",
    "#Returns the boolean value.\n",
    "a = \"Hello World !\"\n",
    "b = \"!\"\n",
    "c = a.endswith(b)\n",
    "print(c,\", The end of the string literal is :\",b)"
   ]
  },
  {
   "cell_type": "markdown",
   "id": "e4adc21b",
   "metadata": {},
   "source": [
    "# 7. expandtabs() "
   ]
  },
  {
   "cell_type": "code",
   "execution_count": 5,
   "id": "cbe06b08",
   "metadata": {},
   "outputs": [
    {
     "name": "stdout",
     "output_type": "stream",
     "text": [
      "After using expandtabs() methods : H e l l o   W o r l d   !\n"
     ]
    }
   ],
   "source": [
    "#expandtabs() method is used to Set the tab size but need to mention the index to be tabbed with using \"\\t\" character.\n",
    "a = \"H\\te\\tl\\tl\\to \\tW\\to\\tr\\tl\\td\\t\\t!\"\n",
    "b = a.expandtabs(2)\n",
    "print('After using expandtabs() methods :',b)"
   ]
  },
  {
   "cell_type": "markdown",
   "id": "97aa08ee",
   "metadata": {},
   "source": [
    "# 8.find() "
   ]
  },
  {
   "cell_type": "code",
   "execution_count": 7,
   "id": "c3d399aa",
   "metadata": {},
   "outputs": [
    {
     "name": "stdout",
     "output_type": "stream",
     "text": [
      "The word in the place of 6\n"
     ]
    }
   ],
   "source": [
    "#find() is a method used to locate \"Where in the text is the word\".\n",
    "a = \"Hello World !\"\n",
    "b = a.find('World')\n",
    "print(\"The word in the place of\",b)"
   ]
  },
  {
   "cell_type": "markdown",
   "id": "9f41c08c",
   "metadata": {},
   "source": [
    "# 9.format()"
   ]
  },
  {
   "cell_type": "code",
   "execution_count": 14,
   "id": "c47e586a",
   "metadata": {},
   "outputs": [
    {
     "name": "stdout",
     "output_type": "stream",
     "text": [
      "Hi everyone 'Good Morning', It's already '6:00 PM' wake up.\n"
     ]
    }
   ],
   "source": [
    "#format() method formats the specified value(s) and insert them inside the string's placeholder.\n",
    "#The placeholder is defined using curly brackets: {}\n",
    "a = \"Hello World !\"\n",
    "b,c,d = \"'Good\",\"Morning'\",\"'6:00 PM'\"\n",
    "print(\"Hi everyone {} {}, It's already {} wake up.\".format(b,c,d))"
   ]
  },
  {
   "cell_type": "markdown",
   "id": "220046eb",
   "metadata": {},
   "source": [
    "# 10.format_map() "
   ]
  },
  {
   "cell_type": "code",
   "execution_count": 17,
   "id": "e1a70a28",
   "metadata": {},
   "outputs": [
    {
     "name": "stdout",
     "output_type": "stream",
     "text": [
      "The values are :4,-5\n"
     ]
    }
   ],
   "source": [
    "#format_map() method is similar to str.format(**mapping) except that str.format(**mapping) creates a \n",
    "#new dictionary whereas str.format_map(mapping) doesn't.\n",
    "\n",
    "point = {'x':4,'y':-5}\n",
    "print(\"The values are :\"'{x},{y}'.format_map(point))"
   ]
  }
 ],
 "metadata": {
  "kernelspec": {
   "display_name": "Python 3 (ipykernel)",
   "language": "python",
   "name": "python3"
  },
  "language_info": {
   "codemirror_mode": {
    "name": "ipython",
    "version": 3
   },
   "file_extension": ".py",
   "mimetype": "text/x-python",
   "name": "python",
   "nbconvert_exporter": "python",
   "pygments_lexer": "ipython3",
   "version": "3.9.13"
  }
 },
 "nbformat": 4,
 "nbformat_minor": 5
}
