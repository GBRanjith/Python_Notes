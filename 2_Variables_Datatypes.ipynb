{
 "cells": [
  {
   "cell_type": "markdown",
   "id": "93fb2cae",
   "metadata": {},
   "source": [
    "### Variables and Data types"
   ]
  },
  {
   "cell_type": "markdown",
   "id": "337b4802",
   "metadata": {},
   "source": [
    "### Points to Remember Variables\n",
    "1. Variables are used for storing data values and they acts as containers.\n",
    "2. To create variables/ declare variables there is no command in Python.\n",
    "   When a value is assigned to a variable_name a complete variable is created.<br>\n",
    "   Examples: adding = 50 , message = \"Hello\""
   ]
  },
  {
   "cell_type": "code",
   "execution_count": null,
   "id": "7637dd4c",
   "metadata": {},
   "outputs": [],
   "source": [
    "adding = 50 # = equal sign is an assignement operator\n",
    "message = \"Hello world\"\n",
    "print(adding)\n",
    "print(message)"
   ]
  },
  {
   "cell_type": "markdown",
   "id": "13f52c41",
   "metadata": {},
   "source": [
    "### Python print() function - Output Variables"
   ]
  },
  {
   "cell_type": "code",
   "execution_count": null,
   "id": "71a71bee",
   "metadata": {},
   "outputs": [],
   "source": [
    "message = \"This string will be printed............\"\n",
    "print(message)"
   ]
  },
  {
   "cell_type": "code",
   "execution_count": null,
   "id": "886cc6fa",
   "metadata": {},
   "outputs": [],
   "source": [
    "msg='My name is Ranjith'\n",
    "print(msg)"
   ]
  },
  {
   "cell_type": "code",
   "execution_count": null,
   "id": "c7149ac6",
   "metadata": {},
   "outputs": [],
   "source": [
    "# one cant ouput multiple variables with the print() -method 1 - comma method\n",
    "x = \"Python\"\n",
    "y = \"is\"\n",
    "z = 25\n",
    "\n",
    "print(x, y, z)"
   ]
  },
  {
   "cell_type": "code",
   "execution_count": null,
   "id": "cc7968ff",
   "metadata": {},
   "outputs": [],
   "source": [
    "# one cant ouput multiple variables with the print() -method 1 - + method\n",
    "x = \"Python\"\n",
    "y = \"is\"\n",
    "z = \"the best programming language\"\n",
    "print(x + y + z)\n",
    "# + character works as a mathematical operator also.....\n",
    "x = 5\n",
    "y = 6\n",
    "z = 10.0\n",
    "print(x + y + z) # only integers and floats can be added\n",
    "# dont you try to combine a string and a number with the + operator, Python will give you an error.\n",
    "x = \"Python\"\n",
    "y = 7\n",
    "z = 5\n",
    "print(x , y + z) # This is not possible"
   ]
  },
  {
   "cell_type": "code",
   "execution_count": null,
   "id": "857cd442",
   "metadata": {},
   "outputs": [],
   "source": [
    "# best practise - separate variable with commas in print(), it support different data types\n",
    "x = \"There are\"\n",
    "y = 94\n",
    "z = \"naturally occuring known earth elements to mankind......\"\n",
    "print(x, y, z)"
   ]
  },
  {
   "cell_type": "markdown",
   "id": "af073319",
   "metadata": {},
   "source": [
    "### Getting the  Type of the variable\n",
    "Data type of a variable with the type() function which is pre built function in python which accepts the variable name."
   ]
  },
  {
   "cell_type": "code",
   "execution_count": null,
   "id": "5e181148",
   "metadata": {},
   "outputs": [],
   "source": [
    "print(type(adding))\n",
    "print(type(message))"
   ]
  },
  {
   "cell_type": "markdown",
   "id": "09bead27",
   "metadata": {},
   "source": [
    "3. As Python is dynamically typed, variables need not be declared with any particular data type and it can change/ overwritten to a completely new data type."
   ]
  },
  {
   "cell_type": "code",
   "execution_count": null,
   "id": "c058745f",
   "metadata": {},
   "outputs": [],
   "source": [
    "a = 5       # a is of type int (integer)\n",
    "print(a)\n",
    "print(type(a))\n",
    "a = \"Siva\" # a is now of type str (string)\n",
    "print(a)\n",
    "print(type(a))"
   ]
  },
  {
   "cell_type": "markdown",
   "id": "08fbeae1",
   "metadata": {},
   "source": [
    "### Casting\n",
    "4. You can Specify the data type of a variable by casting in Python."
   ]
  },
  {
   "cell_type": "code",
   "execution_count": null,
   "id": "29e31b2a",
   "metadata": {},
   "outputs": [],
   "source": [
    "a = str(3)    # a will be '3'\n",
    "print(a)\n",
    "print(type(a))\n",
    "b = float(3)    # b will be 3.0\n",
    "print(b)\n",
    "print(type(b))\n",
    "c = int(3.5)  # z will be 3 3 dont convert a float to an integer i data science\n",
    "print(c)\n",
    "print(type(c)) "
   ]
  },
  {
   "cell_type": "markdown",
   "id": "1dc77ff3",
   "metadata": {},
   "source": [
    "### Single Vs Double Quotes for strings\n",
    "5. Any one of he quotes can be used and both are same."
   ]
  },
  {
   "cell_type": "code",
   "execution_count": null,
   "id": "abdd7c0a",
   "metadata": {},
   "outputs": [],
   "source": [
    "message = \"Hello\"\n",
    "print(message)\n",
    "print(type(message))\n",
    "# is the same as\n",
    "message = 'Hello'\n",
    "print(message)\n",
    "print(type(message))\n",
    "message = \"hello\"\n",
    "print(message)\n",
    "print(type(message))"
   ]
  },
  {
   "cell_type": "markdown",
   "id": "e10c55b4",
   "metadata": {},
   "source": [
    "### Case sensitive\n",
    "6. Variable names are case sensitive even a change in single character in lower case or upper case means they are two seperate variable names. <br>\n",
    "Example: store = 7 is not the the same as Store = \"I am not the same as store\""
   ]
  },
  {
   "cell_type": "code",
   "execution_count": null,
   "id": "4a1edaed",
   "metadata": {},
   "outputs": [],
   "source": [
    "store = 7 \n",
    "print(store)\n",
    "print(type(store))\n",
    "# is not the the same as \n",
    "Store = \"I am not the same as store\"\n",
    "print(Store)\n",
    "print(type(Store))"
   ]
  },
  {
   "cell_type": "markdown",
   "id": "c17e060a",
   "metadata": {},
   "source": [
    "###  Rules in Python for Variable names"
   ]
  },
  {
   "cell_type": "markdown",
   "id": "cc759887",
   "metadata": {},
   "source": [
    "Must follow Rules for variable names\n",
    "1. A variable can have short names like a, b ,c, etc. or descriptive names like name, sales_volume,etc.\n",
    "2. Variable name always should start with a letter or underscore character otherwise it is invalid.\n",
    "3. Variable name cannot start with number it will lead to error.\n",
    "4. Variable name contains only alpha-numeric characters and underscores (A-z, 0-9, and _ ).\n",
    "5. As Variable names are case-sensitive (name, Name and NAME are three different variables)"
   ]
  },
  {
   "cell_type": "code",
   "execution_count": null,
   "id": "fc518d20",
   "metadata": {},
   "outputs": [],
   "source": [
    "# Valid variable names:\n",
    "firstvariable = \"Arjun\"\n",
    "print(firstvariable)\n",
    "first_variable = \"Arjun\"\n",
    "print(first_variable)\n",
    "_first_variable = \"Arjun\"\n",
    "print(_first_variable)\n",
    "firstVariable = \"Arjun\"\n",
    "print(firstVariable)\n",
    "FIRSTVARIABLE = \"Arjun\"\n",
    "print(FIRSTVARIABLE)\n",
    "firstvariable1 = \"Arjun\"\n",
    "print(firstvariable1)"
   ]
  },
  {
   "cell_type": "code",
   "execution_count": null,
   "id": "a8908225",
   "metadata": {},
   "outputs": [],
   "source": [
    "# Invalid variable names\n",
    "2firstvar = \"John\" # cant begin with a number\n",
    "first-var = \"John\" # cant use -\n",
    "first var = \"John\" # cant have space\n",
    "# All these will lead to syntax errors"
   ]
  },
  {
   "cell_type": "markdown",
   "id": "84a4e8d6",
   "metadata": {},
   "source": [
    "### Multiple words in variable name\n",
    "8. Multiple words are unavoidable and is needed to be exact and meaningful. You can follow different cases to make it more readible and user friendly."
   ]
  },
  {
   "cell_type": "code",
   "execution_count": null,
   "id": "e42f1c83",
   "metadata": {},
   "outputs": [],
   "source": [
    "# Camel Case\n",
    "# Except the first word all the other words starts with a capital letter.....\n",
    "myFirstVariable = \"Hello\"\n",
    "print(myFirstVariable)"
   ]
  },
  {
   "cell_type": "code",
   "execution_count": null,
   "id": "a198e211",
   "metadata": {},
   "outputs": [],
   "source": [
    "# Pascal Case\n",
    "# All the  words starts with a capital letter.\n",
    "MyFirstVariable = \"Hello\"\n",
    "print(MyFirstVariable)"
   ]
  },
  {
   "cell_type": "code",
   "execution_count": null,
   "id": "1762604c",
   "metadata": {},
   "outputs": [],
   "source": [
    "# Snake Case\n",
    "# Each word is separated by an underscore character as a sign or resemblanse of separation \n",
    "# and only lower case characters are used.....\n",
    "my_first_variable = \"Hello\"\n",
    "print(my_first_variable)"
   ]
  },
  {
   "cell_type": "markdown",
   "id": "34fa38a0",
   "metadata": {},
   "source": [
    "##### Follow PEP 8 – Style Guide for Python Code\n",
    "https://peps.python.org/pep-0008/"
   ]
  },
  {
   "cell_type": "markdown",
   "id": "8e96c441",
   "metadata": {},
   "source": [
    "PEP 8, sometimes spelled PEP8 or PEP-8, is a document that provides guidelines and best practices on how to write Python code. \n",
    "attribution: https://realpython.com/python-pep8/"
   ]
  },
  {
   "cell_type": "markdown",
   "id": "d469d1dc",
   "metadata": {},
   "source": [
    "According to PEP8, function and variable names should be lowercase with words separated by underscores."
   ]
  },
  {
   "cell_type": "markdown",
   "id": "dd04597d",
   "metadata": {},
   "source": [
    "### Assigning many values to the different python variables at the same time\n",
    "9. Python allows you to assign many variables at the same time."
   ]
  },
  {
   "cell_type": "code",
   "execution_count": null,
   "id": "e6a8a50f",
   "metadata": {},
   "outputs": [],
   "source": [
    "x, y, z = \"Chocolate\", \"Icecream\", 50\n",
    "print(x)\n",
    "print(y)\n",
    "print(z)"
   ]
  },
  {
   "cell_type": "markdown",
   "id": "5c8fea4f",
   "metadata": {},
   "source": [
    "### Same Value for Multiple Variables\n",
    "10. In python one can assign the same value to multiple variables in same line."
   ]
  },
  {
   "cell_type": "code",
   "execution_count": null,
   "id": "8048f188",
   "metadata": {},
   "outputs": [],
   "source": [
    "a = b = c = 100\n",
    "print(a)\n",
    "print(b)\n",
    "print(c)"
   ]
  },
  {
   "cell_type": "code",
   "execution_count": null,
   "id": "05b666c3",
   "metadata": {},
   "outputs": [],
   "source": [
    "# advance"
   ]
  },
  {
   "cell_type": "markdown",
   "id": "8c1cc6b7",
   "metadata": {},
   "source": [
    "### Unpack a Collection (List, Tuple etc. similar to arrays)\n",
    "11. If you have a collection of values in a list, tuple etc. Python allows you to extract the values into variables. This is called unpacking."
   ]
  },
  {
   "cell_type": "code",
   "execution_count": null,
   "id": "3ce57671",
   "metadata": {},
   "outputs": [],
   "source": [
    "cakes = [\"black forest\", \"chocolate truffle\", \"pineapple delight\"]\n",
    "cake_1, cake_2, cake_3 = cakes\n",
    "print(cake_1)\n",
    "print(cake_2)\n",
    "print(cake_3)"
   ]
  },
  {
   "cell_type": "code",
   "execution_count": null,
   "id": "0255a981",
   "metadata": {},
   "outputs": [],
   "source": [
    "# The number of variables declared should be equal to the number of items in the list\n",
    "cakes = [\"black forest\", \"chocolate truffle\", \"pineapple delight\"]\n",
    "cake_1, cake_2 = cakes # This will not work because there are three items in the list......\n",
    "print(cake_1)\n",
    "print(cake_2)"
   ]
  },
  {
   "cell_type": "code",
   "execution_count": null,
   "id": "950791c4",
   "metadata": {},
   "outputs": [],
   "source": [
    "# advance # Rule: number of items in array  number of variablenames"
   ]
  },
  {
   "cell_type": "markdown",
   "id": "93c4aae0",
   "metadata": {},
   "source": [
    "##### Python  Global Variables\n",
    "1. Variables that are created/declared outside of a python function are known as global variables.\n",
    "2. Global variables can be used by everyone, both inside of python functions and anywhere outside the code."
   ]
  },
  {
   "cell_type": "code",
   "execution_count": null,
   "id": "9309a6fe",
   "metadata": {},
   "outputs": [],
   "source": [
    "# Use case 1 - Create a variable outside of a python function and use it inside the python function\n",
    "a = \"good\"\n",
    "\n",
    "def new_function():\n",
    "  print(\"I am \" + a)\n",
    "  \n",
    "new_function()"
   ]
  },
  {
   "cell_type": "code",
   "execution_count": null,
   "id": "1189f273",
   "metadata": {},
   "outputs": [],
   "source": [
    "# Use case 2 - create a variable inside a python  function  with the same name as the global variable\n",
    "a = \"good\" # global variable\n",
    "\n",
    "def new_function():\n",
    "  a = \"fantastic\" # the global variable have been overwritten only inside the function \n",
    "  print(\"I am \" + a)\n",
    "\n",
    "new_function() # calling or executing the function\n",
    "\n",
    "print(\"I am \" + a) # outside the python function the global variable is not altered"
   ]
  },
  {
   "cell_type": "code",
   "execution_count": null,
   "id": "2028f26b",
   "metadata": {},
   "outputs": [],
   "source": [
    "# Use case 3 - The global Keyword\n",
    "# Normally, when you create a variable inside a python function that variable is local as seen in previous example and can only be used inside that function.\n",
    "# To create a global variable which can be accessible anywhere inside a python function use the global keyword.\n",
    "x  = \"good\"\n",
    "def new_function():\n",
    "    global x \n",
    "    x = \"great\"\n",
    "    print(\"I am \" + x)\n",
    "\n",
    "new_function()\n",
    "\n",
    "print(\"Python is \" + x)\n",
    "# Error "
   ]
  },
  {
   "cell_type": "code",
   "execution_count": null,
   "id": "e3c58377",
   "metadata": {},
   "outputs": [],
   "source": [
    "x  = 5\n",
    "def change():\n",
    "    # using a global keyword\n",
    "    global x\n",
    " \n",
    "    # increment value of a by 5\n",
    "    x = x + 5\n",
    "    print(\"Value of x inside a function :\", x)\n",
    " \n",
    " \n",
    "change()\n",
    "print(\"Value of x outside a function :\", x)\n",
    "# attribution: https://www.geeksforgeeks.org/global-keyword-in-python/"
   ]
  },
  {
   "cell_type": "code",
   "execution_count": null,
   "id": "964d6d0d",
   "metadata": {},
   "outputs": [],
   "source": [
    "# Use case 4 - Use the global keyword if you want to change a global variable inside a python function.\n",
    "a = \"good\"\n",
    "\n",
    "def new_function():\n",
    "    global a\n",
    "    a = \"fantastic\" # the global variable have been overwritten outside the function also..... \n",
    "    print(\"I am \" + a)\n",
    "\n",
    "new_function() # calling or executing the function\n",
    "\n",
    "print(\"I am \" + a) # since we used the global keyword inside the function the \"a\" outside is overwritten......\n",
    "# compare this with use case 1 to understand better"
   ]
  },
  {
   "cell_type": "markdown",
   "id": "dde62308",
   "metadata": {},
   "source": [
    "### Variables Exercises"
   ]
  },
  {
   "cell_type": "code",
   "execution_count": null,
   "id": "0f388219",
   "metadata": {},
   "outputs": [],
   "source": [
    "#1 Create a variable name cake_flavour and assign the value Black forest as string to it.\n",
    "cake_flavour=\"Black forest\"\n",
    "print(cake_flavour)"
   ]
  },
  {
   "cell_type": "code",
   "execution_count": null,
   "id": "2e7d3e9d",
   "metadata": {},
   "outputs": [],
   "source": [
    "#2 Create a integer and a float variables and add it what will be the resultant type of the \n",
    "a=5\n",
    "b=7.5\n",
    "c=a+b\n",
    "print(c)\n",
    "print(type(c))"
   ]
  },
  {
   "cell_type": "code",
   "execution_count": null,
   "id": "a518fc90",
   "metadata": {},
   "outputs": [],
   "source": [
    "a=5\n",
    "b=7.5\n",
    "c= a + int(b)\n",
    "print(c)\n",
    "print(type(c))"
   ]
  },
  {
   "cell_type": "code",
   "execution_count": null,
   "id": "80c067c0",
   "metadata": {},
   "outputs": [],
   "source": [
    "#3 x =5, u = 20 add these two variables in print() statement\n",
    "x=5\n",
    "u=20\n",
    "print(x+u)"
   ]
  },
  {
   "cell_type": "code",
   "execution_count": null,
   "id": "36fc3011",
   "metadata": {},
   "outputs": [],
   "source": [
    "#4 Remove the unwanted character to make this invalid name valid:\n",
    "my_first_name = \"Arjun\"\n",
    "print(my_first_name)"
   ]
  },
  {
   "cell_type": "code",
   "execution_count": null,
   "id": "d113bc92",
   "metadata": {},
   "outputs": [],
   "source": [
    "#5 a,b,c variables should have float 5.0 as their value\n",
    "a=b=c=5.0\n",
    "print(a)\n",
    "print(b)\n",
    "print(c)"
   ]
  },
  {
   "cell_type": "code",
   "execution_count": null,
   "id": "9972b0eb",
   "metadata": {},
   "outputs": [],
   "source": [
    "#6 how to overwrite a variable inside a python function \n",
    "x=\"good\"\n",
    "def myfunction():\n",
    "    global x\n",
    "    x = \"nice\"\n",
    "    print(\"i am \"+x)\n",
    "myfunction()"
   ]
  },
  {
   "cell_type": "markdown",
   "id": "155176bf",
   "metadata": {},
   "source": [
    "### Python data types"
   ]
  },
  {
   "cell_type": "markdown",
   "id": "8defa57d",
   "metadata": {},
   "source": [
    "##### Built-in Data Types\n",
    "In programming data type is an important concept. <br>\n",
    "Different types of data has different purposes.\n",
    "1. Text or character Type:\tstr (string)\n",
    "2. Numeric Types:\tint, float, complex full form:(integer,float,complex numbers)\n",
    "3. Sequence Types:\tlist, tuple, range \n",
    "4. Mapping Type:\tdict\n",
    "5. Set Types:\tset, frozenset\n",
    "6. Boolean Type:\tbool\n",
    "7. Binary Types:\tbytes, bytearray, memoryview\n",
    "8. None Type:\tNoneType"
   ]
  },
  {
   "cell_type": "code",
   "execution_count": null,
   "id": "9a820f0b",
   "metadata": {},
   "outputs": [],
   "source": [
    "#1 Text or character Type: str (string)\n",
    "x = \"Hi this is Siri\"\n",
    "print(x)\n",
    "print(type(x))"
   ]
  },
  {
   "cell_type": "code",
   "execution_count": null,
   "id": "d114e887",
   "metadata": {},
   "outputs": [],
   "source": [
    "#2 Numeric Types: int, float, complex\n",
    "x = 50\n",
    "print(x)\n",
    "print(type(x))\n",
    "x = 50.6\n",
    "print(x)\n",
    "print(type(x))\n",
    "x = 5j\n",
    "print(x)\n",
    "print(type(x))"
   ]
  },
  {
   "cell_type": "code",
   "execution_count": null,
   "id": "e4cefbea",
   "metadata": {},
   "outputs": [],
   "source": [
    "#3  Sequence Types: list, tuple, range\n",
    "x = [\"kitkat\", \"hershleys\", \"cadbury\"] #list\n",
    "print(x)\n",
    "print(type(x))\n",
    "x = (\"kitkat\", \"hershleys\", \"cadbury\") #tuple\n",
    "print(x)\n",
    "print(type(x))\n",
    "x = range(6) #range\n",
    "print(x)\n",
    "print(type(x))"
   ]
  },
  {
   "cell_type": "code",
   "execution_count": null,
   "id": "cd79495b",
   "metadata": {},
   "outputs": [],
   "source": [
    "#4 Mapping Type: dict\n",
    "x = {\"name\" : \"Arjun\", \"age\" : 16}\n",
    "print(x)\n",
    "print(type(x))"
   ]
  },
  {
   "cell_type": "code",
   "execution_count": null,
   "id": "32a42c65",
   "metadata": {},
   "outputs": [],
   "source": [
    "#5 Set Types: set, frozenset\n",
    "x = {\"kitkat\", \"cadbury\", \"hershleys\"} # set\n",
    "print(x)\n",
    "print(type(x))\n",
    "x = frozenset({\"apple\", \"cadbury\", \"hershleys\"}) # frozen set\n",
    "print(x)\n",
    "print(type(x))"
   ]
  },
  {
   "cell_type": "code",
   "execution_count": null,
   "id": "54d710c4",
   "metadata": {},
   "outputs": [],
   "source": [
    "#6 Boolean Type: bool\n",
    "x = True #boolean False\n",
    "print(x)\n",
    "print(type(x))"
   ]
  },
  {
   "cell_type": "code",
   "execution_count": null,
   "id": "2ed12428",
   "metadata": {},
   "outputs": [],
   "source": [
    "#7 Binary Types: bytes, bytearray, memoryview\n",
    "x = b\"Hello\"#bytes\n",
    "print(x)\n",
    "print(type(x))\n",
    "x = bytearray(5)#bytearray\n",
    "print(x)\n",
    "print(type(x))\n",
    "x = memoryview(bytes(5))#memoryview\n",
    "print(x)\n",
    "print(type(x))"
   ]
  },
  {
   "cell_type": "code",
   "execution_count": null,
   "id": "7f2044cb",
   "metadata": {},
   "outputs": [],
   "source": [
    "#8 None Type: NoneType\n",
    "x = None #NoneType\n",
    "print(x)\n",
    "print(type(x))"
   ]
  },
  {
   "cell_type": "code",
   "execution_count": null,
   "id": "f852eca9",
   "metadata": {},
   "outputs": [],
   "source": [
    "#Setting to a  Specific data Type\n",
    "#If you want to specify the data type, you can use the following constructor functions which are prefined functions which are built in python.....\n",
    "\n",
    "x = str(\"Hello Everyone Good will Happen to everyone\") #str\n",
    "print(x)\n",
    "print(type(x))\n",
    "x = int(50) #int\n",
    "print(x)\n",
    "print(type(x))\n",
    "x = float(70.5) #float\n",
    "print(x)\n",
    "print(type(x))\n",
    "x = complex(5j) #complex\n",
    "print(x)\n",
    "print(type(x))\n",
    "x = list((\"rosewood\", \"hawthorn\", \"holly\")) #list\n",
    "print(x)\n",
    "print(type(x))\n",
    "x = tuple((\"rosewood\", \"hawthorn\", \"holly\")) #tuple\n",
    "print(x)\n",
    "print(type(x))\n",
    "x = range(6) #range\n",
    "print(x)\n",
    "print(type(x))\n",
    "x = dict(name=\"Arjun\", age=16) #dict\n",
    "print(x)\n",
    "print(type(x))\n",
    "x = set((\"rosewood\", \"hawthorn\", \"holly\")) #set\n",
    "print(x)\n",
    "print(type(x))\n",
    "x = frozenset((\"rosewood\", \"hawthorn\", \"holly\")) #frozenset\n",
    "print(x)\n",
    "print(type(x))\n",
    "x = bool(5) #bool\n",
    "print(x)\n",
    "print(type(x))\n",
    "x = bytes(5) #bytes\n",
    "print(x)\n",
    "print(type(x))\n",
    "x = bytearray(5) #bytearray\n",
    "print(x)\n",
    "print(type(x))\n",
    "x = memoryview(bytes(5)) #memoryview\n",
    "print(x)\n",
    "print(type(x))"
   ]
  },
  {
   "cell_type": "code",
   "execution_count": null,
   "id": "492e6811",
   "metadata": {},
   "outputs": [],
   "source": [
    "# Assignement 1 Part 1 Write each data type above and explain why it is very important in Python and give a use case"
   ]
  },
  {
   "cell_type": "markdown",
   "id": "fe299632",
   "metadata": {},
   "source": [
    "##### Important data types in detail......"
   ]
  },
  {
   "cell_type": "markdown",
   "id": "c1437dda",
   "metadata": {},
   "source": [
    "##### Python Numbers\n",
    "There are 3 numeric types in Python:\n",
    "1. int - integer or whole number\n",
    "2. float - decimal number\n",
    "3. complex - complex numeber\n"
   ]
  },
  {
   "cell_type": "code",
   "execution_count": null,
   "id": "412ea0e2",
   "metadata": {},
   "outputs": [],
   "source": [
    "# characteristics of integers\n",
    "# An integer is a whole number\n",
    "# It is either positive or negative without decimals.\n",
    "# Integers have unlimited length.\n",
    "x = 5\n",
    "y = 77777777777777777755\n",
    "z = -56789\n",
    "print(type(x))\n",
    "print(type(y))\n",
    "print(type(z))"
   ]
  },
  {
   "cell_type": "code",
   "execution_count": null,
   "id": "d8d7db47",
   "metadata": {},
   "outputs": [],
   "source": [
    "# characteristics of float\n",
    "# A float is a decimal number\n",
    "# It is either positive or negative having one or more decimals.\n",
    "x = 5.60\n",
    "y = 3.14\n",
    "z = -55.98\n",
    "print(type(x))\n",
    "print(type(y))\n",
    "print(type(z))"
   ]
  },
  {
   "cell_type": "code",
   "execution_count": null,
   "id": "34448048",
   "metadata": {},
   "outputs": [],
   "source": [
    "# using scientific numbers in float\n",
    "x = 55e3\n",
    "y = 15E4\n",
    "z = -55.5e105\n",
    "print(x)\n",
    "print(y)\n",
    "print(z)\n",
    "print(type(x))\n",
    "print(type(y))\n",
    "print(type(z))"
   ]
  },
  {
   "cell_type": "code",
   "execution_count": null,
   "id": "13d33afe",
   "metadata": {},
   "outputs": [],
   "source": [
    "# complex numbers more info: https://www.cuemath.com/numbers/complex-numbers/\n",
    "x = 5+9j\n",
    "y = 9j\n",
    "z = -99j\n",
    "print(x)\n",
    "print(y)\n",
    "print(z)\n",
    "print(type(x))\n",
    "print(type(y))\n",
    "print(type(z))"
   ]
  },
  {
   "cell_type": "markdown",
   "id": "e9e988fa",
   "metadata": {},
   "source": [
    "##### Type Conversion\n",
    "You can convert from every numeric data type to another with the int(), float(), and complex() methods which are prebuilt methods."
   ]
  },
  {
   "cell_type": "code",
   "execution_count": null,
   "id": "c3e937a4",
   "metadata": {},
   "outputs": [],
   "source": [
    "u = 5    # int\n",
    "v = 5.7  # float\n",
    "w = 5  # complex\n",
    "print(u)\n",
    "print(v)\n",
    "print(w)\n",
    "print(type(u))\n",
    "print(type(v))\n",
    "print(type(w))\n",
    "#convert from int to float:\n",
    "a = float(u)\n",
    "#convert from float to int: \n",
    "b = int(v) # can lead to mathematical data loss\n",
    "#convert from int to complex:\n",
    "c = complex(w)\n",
    "print(a)\n",
    "print(b)\n",
    "print(c)\n",
    "print(type(a))\n",
    "print(type(b))\n",
    "print(type(c))"
   ]
  },
  {
   "cell_type": "markdown",
   "id": "a8d905d7",
   "metadata": {},
   "source": [
    "##### Generate Random members\n",
    "1. One purpose to generate random numbers is for testing purposes or generating samples and it is very useful.\n",
    "2. Python does not have a random() function but it has entire module dedicated for the purpose."
   ]
  },
  {
   "cell_type": "code",
   "execution_count": null,
   "id": "e954f2a7",
   "metadata": {},
   "outputs": [],
   "source": [
    "# random.range used to get some random number between 1 to 100\n",
    "import random\n",
    "print(random.randrange(1, 100))"
   ]
  },
  {
   "cell_type": "markdown",
   "id": "847545dc",
   "metadata": {},
   "source": [
    "##### Python string"
   ]
  },
  {
   "cell_type": "markdown",
   "id": "f1265ae0",
   "metadata": {},
   "source": [
    "##### 1 Create a string"
   ]
  },
  {
   "cell_type": "markdown",
   "id": "0f43e51e",
   "metadata": {},
   "source": [
    "1. Strings in python can be created by using either single quotation marks or double quotation marks.\n",
    "2. 'good' is the same as \"good\".You can display a string with the print() function."
   ]
  },
  {
   "cell_type": "code",
   "execution_count": null,
   "id": "c5cc3602",
   "metadata": {},
   "outputs": [],
   "source": [
    "print(\"good\")\n",
    "print('good')"
   ]
  },
  {
   "cell_type": "markdown",
   "id": "fb206048",
   "metadata": {},
   "source": [
    "##### 2 Assign string to a variable by equal sign\n",
    "1.  In order to assign a string to a variable it is done with the variable name followed by an equal sign and the string."
   ]
  },
  {
   "cell_type": "code",
   "execution_count": null,
   "id": "c1a7ebe3",
   "metadata": {},
   "outputs": [],
   "source": [
    "x = \"good\"\n",
    "print(x)\n",
    "print(type(x))"
   ]
  },
  {
   "cell_type": "markdown",
   "id": "05523ab4",
   "metadata": {},
   "source": [
    "##### Multiline Strings\n",
    "1. Multiline string can also be assigned to a variable by using three quotes......"
   ]
  },
  {
   "cell_type": "code",
   "execution_count": null,
   "id": "43a0f2a1",
   "metadata": {},
   "outputs": [],
   "source": [
    "# three double quotes\n",
    "a = \"\"\"This is a multi line string\n",
    "it can extend many lines\n",
    "multiline strings are mainly used for documenation purposes as comments.\"\"\"\n",
    "print(a)\n",
    "# three single quotes\n",
    "a = '''This is a multi line string\n",
    "it can extend many lines\n",
    "multiline strings are mainly used for documenation purposes as comments.'''\n",
    "print(\" \")\n",
    "print(a)\n",
    "# both are the same"
   ]
  },
  {
   "cell_type": "markdown",
   "id": "bd0af6d3",
   "metadata": {},
   "source": [
    "##### Strings are Arrays\n",
    "Strings in Python are arrays of bytes representing unicode characters. more info: https://www.ibm.com/docs/en/db2/11.5?topic=support-unicode-character-encoding\n",
    "\n",
    "Python does not have a character data type,a single character is considered simply a string with a length of 1.\n",
    "\n",
    "Access elements of string using square brackets and denoting its position with an index....."
   ]
  },
  {
   "cell_type": "code",
   "execution_count": null,
   "id": "1029d57d",
   "metadata": {},
   "outputs": [],
   "source": [
    "a = \"Good Morning, Everyone!\"\n",
    "# index always starts with 0 and from the end as -1\n",
    "print(a[0])\n",
    "print(a[1])\n",
    "print(a[2])\n",
    "print(a[3])\n",
    "print(a[4]) # space is also a character and has an index\n",
    "# access from the last\n",
    "print(a[-1])\n",
    "print(a[-2])\n",
    "print(a[-3])\n",
    "print(a[-4])\n",
    "print(a[-5])"
   ]
  },
  {
   "cell_type": "code",
   "execution_count": null,
   "id": "33142ac9",
   "metadata": {},
   "outputs": [],
   "source": [
    "length_string = len(a)\n",
    "print(length_string)"
   ]
  },
  {
   "cell_type": "markdown",
   "id": "d5b2d294",
   "metadata": {},
   "source": [
    "##### Looping Through a String\n",
    "Since strings are arrays we can loop through them easily."
   ]
  },
  {
   "cell_type": "code",
   "execution_count": null,
   "id": "35ce83bf",
   "metadata": {},
   "outputs": [],
   "source": [
    "for x in \"black forest cake\":\n",
    "  print(x) # it means for each character in the the array of the string print "
   ]
  },
  {
   "cell_type": "markdown",
   "id": "81a25922",
   "metadata": {},
   "source": [
    "##### String Length\n",
    "Use the len() function to find the length of the string......"
   ]
  },
  {
   "cell_type": "code",
   "execution_count": null,
   "id": "29a630a2",
   "metadata": {},
   "outputs": [],
   "source": [
    "a = \"Good morning, World!\"\n",
    "print(len(a))"
   ]
  },
  {
   "cell_type": "code",
   "execution_count": null,
   "id": "fd27125e",
   "metadata": {},
   "outputs": [],
   "source": [
    "# we can also store the length to a variable\n",
    "b = len(a)\n",
    "print(b)\n",
    "print(type(b))"
   ]
  },
  {
   "cell_type": "markdown",
   "id": "981cc10b",
   "metadata": {},
   "source": [
    "##### Check any character in a String\n",
    "1. Use the keyword in.\n",
    "2. It i case sensitive in order. Example: You is not the same as you"
   ]
  },
  {
   "cell_type": "code",
   "execution_count": null,
   "id": "5334702b",
   "metadata": {},
   "outputs": [],
   "source": [
    "text = \"Coding can be learnt in Youtube\"\n",
    "print(\"You\" in text)\n",
    "print(\"you\" in text)\n",
    "print(\"Youtube\" in text)\n",
    "print(\"learnt\" in text)\n",
    "print(\"learn\" in text)\n",
    "print(\"and\" in text)"
   ]
  },
  {
   "cell_type": "code",
   "execution_count": null,
   "id": "6e3e7b67",
   "metadata": {},
   "outputs": [],
   "source": [
    "# using it with an if statement\n",
    "text = \"Coding can be learnt in Youtube\"\n",
    "if \"learnt\" in text:\n",
    "  print(\"Yes, 'learnt' is present.\")\n",
    "# we will lean more about if else statements in the upcoming classes"
   ]
  },
  {
   "cell_type": "markdown",
   "id": "b1da7219",
   "metadata": {},
   "source": [
    "##### Check if not  a character in a string\n",
    "1. If a certain phrase or character is NOT present in a string we can use the keyword \"not in\"."
   ]
  },
  {
   "cell_type": "code",
   "execution_count": null,
   "id": "99ddb99c",
   "metadata": {},
   "outputs": [],
   "source": [
    "text = \"Coding can be learnt in Youtube\"\n",
    "print(\"paid\" not in text)\n",
    "# It returns a boolean"
   ]
  },
  {
   "cell_type": "code",
   "execution_count": null,
   "id": "60144b24",
   "metadata": {},
   "outputs": [],
   "source": [
    "# with if statement\n",
    "text = \"Coding can be learnt in Youtube\"\n",
    "if \"paid\" not in text:\n",
    "  print(\"No, 'paid' is not present.\")"
   ]
  },
  {
   "cell_type": "markdown",
   "id": "d8966271",
   "metadata": {},
   "source": [
    "##### Python - Slicing Strings - cutting strings"
   ]
  },
  {
   "cell_type": "code",
   "execution_count": null,
   "id": "5ea7bc2c",
   "metadata": {},
   "outputs": [],
   "source": [
    "a = \"Hello, Everyone!\"\n",
    "print(a[0:5]) # start index is included last index is not included here 0 index is included but not the last index 5\n",
    "print(a[1:5])"
   ]
  },
  {
   "cell_type": "code",
   "execution_count": null,
   "id": "b2a3d138",
   "metadata": {},
   "outputs": [],
   "source": [
    "#Slice From the Start - leaving out the start index, the range will start from the first character.\n",
    "a = \"Hello, Everyone!\"\n",
    "print(a[:5]) # start index here is not included so it starts from index 0"
   ]
  },
  {
   "cell_type": "code",
   "execution_count": null,
   "id": "e758d167",
   "metadata": {},
   "outputs": [],
   "source": [
    "# Slice To the End- leaving out the end index the range will go to the end.\n",
    "a = \"Hello, Everyone!\"\n",
    "print(a[0:]) # End index here is not included so it goes till last index....."
   ]
  },
  {
   "cell_type": "markdown",
   "id": "87a9d55c",
   "metadata": {},
   "source": [
    "##### Negative Indexing \n",
    "1. It is useful for reversing a string or getting a part of a string in reverse.\n",
    "2. Use negative indexes to start the slice from the end of the string."
   ]
  },
  {
   "cell_type": "code",
   "execution_count": null,
   "id": "3bf66bca",
   "metadata": {},
   "outputs": [],
   "source": [
    "a = \"Hello, Everyone!\"\n",
    "print(a[-1])\n",
    "print(a[-2])\n",
    "print(a[-3])\n",
    "print(a[-5])\n",
    "print(a[-5:-2])"
   ]
  },
  {
   "cell_type": "markdown",
   "id": "70c8e35a",
   "metadata": {},
   "source": [
    "##### Python - Modify Strings"
   ]
  },
  {
   "cell_type": "code",
   "execution_count": null,
   "id": "1809c136",
   "metadata": {},
   "outputs": [],
   "source": [
    "# upper() method returns the string in upper case \n",
    "a = \"Hello, World!\"\n",
    "b = a.upper()\n",
    "print(b)"
   ]
  },
  {
   "cell_type": "code",
   "execution_count": null,
   "id": "360297ea",
   "metadata": {},
   "outputs": [],
   "source": [
    "# lower() method returns the string in lower case \n",
    "a = \"Hello, World!\"\n",
    "b = a.lower()\n",
    "print(b)"
   ]
  },
  {
   "cell_type": "code",
   "execution_count": null,
   "id": "1ffbb9b3",
   "metadata": {},
   "outputs": [],
   "source": [
    "# strip() method returns without any whitespaces\n",
    "# removes whitespace only in the beginnig and end\n",
    "a = \" Hello, World!\"\n",
    "print(a)\n",
    "b = a.strip()\n",
    "print(b)"
   ]
  },
  {
   "cell_type": "code",
   "execution_count": null,
   "id": "acd1b3a9",
   "metadata": {},
   "outputs": [],
   "source": [
    "#replace() method replaces a string with another string\n",
    "a = \"Hello, Everyone!\"\n",
    "print(a)\n",
    "print(a.replace(\"E\", \"J\")) # It is again case-sensitive\n",
    "print(a)\n",
    "print(a.replace(\"e\", \"J\"))\n",
    "print(a)"
   ]
  },
  {
   "cell_type": "code",
   "execution_count": null,
   "id": "6d3dd50c",
   "metadata": {},
   "outputs": [],
   "source": [
    "# Split String- split() method returns a list \n",
    "# where the text between the specified separator becomes the list items. i.e. before and after the seperator\n",
    "a = \"Hello, Everyone!\"\n",
    "print(a.split(\",\")) # returns ['Hello', ' Everyone!']\n",
    "b = a.split(\",\")\n",
    "print(b)"
   ]
  },
  {
   "cell_type": "code",
   "execution_count": null,
   "id": "438db6bc",
   "metadata": {},
   "outputs": [],
   "source": [
    "a = \"Hello, Everyone!\"\n",
    "print(a.split(\" \")) # returns ['Hello', ' Everyone!']\n",
    "b = a.split(\" \")\n",
    "print(b)"
   ]
  },
  {
   "cell_type": "code",
   "execution_count": null,
   "id": "92af14ed",
   "metadata": {},
   "outputs": [],
   "source": [
    "# we can combine or concatenate two strings using the string operator"
   ]
  },
  {
   "cell_type": "code",
   "execution_count": null,
   "id": "038deb14",
   "metadata": {},
   "outputs": [],
   "source": [
    "a = \"Hello\"\n",
    "b = \"Everyone!\"\n",
    "c = a + b # combines or concatenates in order\n",
    "print(c)"
   ]
  },
  {
   "cell_type": "code",
   "execution_count": null,
   "id": "fcd14196",
   "metadata": {},
   "outputs": [],
   "source": [
    "# to add a space\n",
    "a = \"Hello\"\n",
    "b = \"Everyone!\"\n",
    "c = a + \" \" + b\n",
    "print(c)"
   ]
  },
  {
   "cell_type": "markdown",
   "id": "d49d8d54",
   "metadata": {},
   "source": [
    "##### Python format strings"
   ]
  },
  {
   "cell_type": "code",
   "execution_count": null,
   "id": "5a03f183",
   "metadata": {},
   "outputs": [],
   "source": [
    "# Invalid combination\n",
    "age = 16\n",
    "text = \"My name is John, I am \" + age # does not work this way.....\n",
    "print(text)"
   ]
  },
  {
   "cell_type": "code",
   "execution_count": null,
   "id": "7472f5b5",
   "metadata": {},
   "outputs": [],
   "source": [
    "# correct way - use format() method to insert numbers into strings\n",
    "age = 16\n",
    "text = \"My name is Arjun and I am {}\"\n",
    "print(text.format(age))"
   ]
  },
  {
   "cell_type": "code",
   "execution_count": null,
   "id": "b5cad7f9",
   "metadata": {},
   "outputs": [],
   "source": [
    "# correct way - you can add multiple {} and specify in the format() method\n",
    "# The format() method takes unlimited number of arguments, and are placed into the respective placeholders in order.\n",
    "age = 16\n",
    "children = 5\n",
    "text = \"My name is Arjun and I am {} and I have {} children\"\n",
    "print(text.format(age,children))"
   ]
  },
  {
   "cell_type": "code",
   "execution_count": null,
   "id": "6cdaf065",
   "metadata": {},
   "outputs": [],
   "source": [
    "# for clarity use place holders\n",
    "age = 16\n",
    "children = 5\n",
    "text = \"My name is Arjun and I am {0} and I have {1} children\"\n",
    "print(text.format(age,children))\n",
    "age = 16\n",
    "children = 5\n",
    "text = \"My name is Arjun and I am {1} and I have {0} children\"\n",
    "print(text.format(age,children))"
   ]
  },
  {
   "cell_type": "markdown",
   "id": "7d5cc2e3",
   "metadata": {},
   "source": [
    "#### Escape characters\n",
    "1. To insert characters that are illegal in a string, use an escape character.\n",
    "2. An escape character is a backslash \\ and it is followed by the character you want to insert."
   ]
  },
  {
   "cell_type": "code",
   "execution_count": null,
   "id": "0b661023",
   "metadata": {},
   "outputs": [],
   "source": [
    "# It is invalid to insert a \"\"quote string inside a double quote string"
   ]
  },
  {
   "cell_type": "code",
   "execution_count": null,
   "id": "69e3c432",
   "metadata": {},
   "outputs": [],
   "source": [
    "# valid \n",
    "a = \"Hello Everyone, this is 'Sriraam'\"\n",
    "print(a)\n",
    "print(type(a))"
   ]
  },
  {
   "cell_type": "code",
   "execution_count": null,
   "id": "c619fb50",
   "metadata": {},
   "outputs": [],
   "source": [
    "# invalid\n",
    "a = \"Hello Everyone, this is \"Sriraam\"\"\n",
    "print(a)\n",
    "print(type(a))"
   ]
  },
  {
   "cell_type": "code",
   "execution_count": null,
   "id": "11acdaf8",
   "metadata": {},
   "outputs": [],
   "source": [
    "# invalid\n",
    "a = \"Hello Everyone, this is \\\"Sriraam\\\"\"\n",
    "print(a)\n",
    "print(type(a))"
   ]
  },
  {
   "cell_type": "code",
   "execution_count": null,
   "id": "661a9f23",
   "metadata": {},
   "outputs": [],
   "source": [
    "# type 1 \n",
    "# \\' Single Quote\n",
    "text = 'It\\'s awesome.'\n",
    "print(text) "
   ]
  },
  {
   "cell_type": "code",
   "execution_count": null,
   "id": "be93b124",
   "metadata": {},
   "outputs": [],
   "source": [
    "# type 2\n",
    "# \\\\ backslash - To insert one backslash\n",
    "text = \"This will insert one \\\\ because \\\\ is invalid character in a string.\"\n",
    "print(text) "
   ]
  },
  {
   "cell_type": "code",
   "execution_count": null,
   "id": "b8029f32",
   "metadata": {},
   "outputs": [],
   "source": [
    "# type 3\n",
    "# \\n - New Line\n",
    "txt = \"Hello\\nEveryone!\"\n",
    "print(txt) "
   ]
  },
  {
   "cell_type": "code",
   "execution_count": null,
   "id": "7bdeb45b",
   "metadata": {},
   "outputs": [],
   "source": [
    "# type 4\n",
    "# \\r-carriage return\n",
    "text = \"Hello\\rEveryone!\"\n",
    "print(text) "
   ]
  },
  {
   "cell_type": "code",
   "execution_count": null,
   "id": "5cc6e3ed",
   "metadata": {},
   "outputs": [],
   "source": [
    "# type 5\n",
    "# \\t-Tab\n",
    "text = \"Hello\\tEveryone!\"\n",
    "print(text) "
   ]
  },
  {
   "cell_type": "code",
   "execution_count": null,
   "id": "26193b46",
   "metadata": {},
   "outputs": [],
   "source": [
    "# type 6\n",
    "# \\b- Backspace\n",
    "#This example erases one character (backspace):\n",
    "text = \"Hello \\bWorld!\"\n",
    "print(text) \n",
    "text = \"Hello\\bWorld!\"\n",
    "print(text) "
   ]
  },
  {
   "cell_type": "code",
   "execution_count": null,
   "id": "17fa87e4",
   "metadata": {},
   "outputs": [],
   "source": [
    "# there are other less used types as well like \\f-form feed,\\ooo-octal value,\\xhh-Hex value"
   ]
  },
  {
   "cell_type": "markdown",
   "id": "ffb1b614",
   "metadata": {},
   "source": [
    "##### Assignement 1 Part 2 - string methods\n",
    "1. capitalize()\n",
    "2. casefold()\t\n",
    "3. center()\t\n",
    "4. count()\t\n",
    "5. encode()\t\n",
    "6. endswith()\t\n",
    "7. expandtabs()\n",
    "8. find()\t\n",
    "9. format()\t\n",
    "10. format_map()\t\n",
    "11. index()\t\n",
    "12. isalnum()\t\n",
    "13. isalpha()\t\n",
    "14. isdecimal()\t\n",
    "15. isdigit()\t\n",
    "16. isidentifier()\t\n",
    "17. islower()\t\n",
    "18. isnumeric()\t\n",
    "19. isprintable()\t\n",
    "20. isspace()\t\n",
    "21. istitle()\t\n",
    "22. isupper()\t\n",
    "23. join()\t\n",
    "24. ljust()\t\n",
    "25. lower()\t\n",
    "26. lstrip()\t\n",
    "27. maketrans()\t\n",
    "28. partition()\t\n",
    "29. replace()\t\n",
    "30. rfind()\t\n",
    "31. rindex()\t\n",
    "32. rjust()\t\n",
    "33. rpartition()\t\n",
    "34. rsplit()\t\n",
    "35. rstrip()\t\n",
    "36. split()\t\n",
    "37. splitlines()\t\n",
    "38. startswith()\t\n",
    "39. strip()\t\n",
    "40. swapcase()\t\n",
    "41. title()\t\n",
    "42. translate()\t\n",
    "43. upper()\t\n",
    "44. zfill()\t\n",
    "Find atleast 5 more unique string methods and include it......"
   ]
  },
  {
   "cell_type": "markdown",
   "id": "f8cbc261",
   "metadata": {},
   "source": [
    "##### Python boolean"
   ]
  },
  {
   "cell_type": "code",
   "execution_count": null,
   "id": "7a1ebf60",
   "metadata": {},
   "outputs": [],
   "source": [
    "print(100 > 99)\n",
    "print(100 == 99)\n",
    "print(100 < 99)\n",
    "print(100 == 100)"
   ]
  },
  {
   "cell_type": "code",
   "execution_count": null,
   "id": "08a99111",
   "metadata": {},
   "outputs": [],
   "source": [
    "# Using bool( function to evaluate\n",
    "print(bool(\"Hello\"))\n",
    "print(bool(15))"
   ]
  },
  {
   "cell_type": "code",
   "execution_count": null,
   "id": "989588fe",
   "metadata": {},
   "outputs": [],
   "source": [
    "# Most Values are True\n",
    "# Any string is True, except empty strings.\n",
    "# Any number is True, except 0.\n",
    "# Any list, tuple, set, and dictionary are True, except empty ones.\n",
    "print(bool(\"abcde\"))\n",
    "print(bool(\"\"))\n",
    "print(bool(123))\n",
    "print(bool([\"apple\", \"cherry\", \"banana\"]))"
   ]
  },
  {
   "cell_type": "code",
   "execution_count": null,
   "id": "b6c886d5",
   "metadata": {},
   "outputs": [],
   "source": [
    "# false boolean values\n",
    "print(bool(False))\n",
    "print(bool(None))\n",
    "print(bool(0))\n",
    "print(bool(\"\"))\n",
    "print(bool(()))\n",
    "print(bool([]))\n",
    "print(bool({}))"
   ]
  },
  {
   "cell_type": "code",
   "execution_count": null,
   "id": "7d8184b9",
   "metadata": {},
   "outputs": [],
   "source": []
  },
  {
   "cell_type": "code",
   "execution_count": null,
   "id": "ce6e7f42",
   "metadata": {},
   "outputs": [],
   "source": []
  }
 ],
 "metadata": {
  "kernelspec": {
   "display_name": "Python 3 (ipykernel)",
   "language": "python",
   "name": "python3"
  },
  "language_info": {
   "codemirror_mode": {
    "name": "ipython",
    "version": 3
   },
   "file_extension": ".py",
   "mimetype": "text/x-python",
   "name": "python",
   "nbconvert_exporter": "python",
   "pygments_lexer": "ipython3",
   "version": "3.9.13"
  }
 },
 "nbformat": 4,
 "nbformat_minor": 5
}
