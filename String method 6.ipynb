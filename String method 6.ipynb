{
 "cells": [
  {
   "cell_type": "code",
   "execution_count": null,
   "id": "9eb034da",
   "metadata": {},
   "outputs": [],
   "source": [
    "\"\"\"#string methods\n",
    "\n",
    "   lstrip()\n",
    "   maketrans()\n",
    "   partition()\n",
    "   replace()\n",
    "   rfind()\n",
    "   \n",
    "\"\"\"   "
   ]
  },
  {
   "cell_type": "code",
   "execution_count": 1,
   "id": "0b3d498d",
   "metadata": {},
   "outputs": [
    {
     "name": "stdout",
     "output_type": "stream",
     "text": [
      "of all fruits banana      is my favorite\n"
     ]
    }
   ],
   "source": [
    "#lstrip() # string method\n",
    "#The lstrip() method removes any leading characters (space is the default leading character to remove)\n",
    "\n",
    "txt = \"     banana     \" \n",
    "\n",
    "x = txt.lstrip()\n",
    "\n",
    "print(\"of all fruits\", x, \"is my favorite\")\n"
   ]
  },
  {
   "cell_type": "code",
   "execution_count": 2,
   "id": "d5eea05b",
   "metadata": {},
   "outputs": [
    {
     "name": "stdout",
     "output_type": "stream",
     "text": [
      "G i Joe!\n"
     ]
    }
   ],
   "source": [
    "# maketrans() # string method\n",
    "# The maketrans() method returns a mapping table that can be used with the translate() method to replace specified characters.\n",
    "\n",
    "txt = \"Good night Sam!\"\n",
    "x = \"mSa\"\n",
    "y = \"eJo\"\n",
    "z = \"odnght\"\n",
    "mytable = txt.maketrans(x, y, z)\n",
    "print(txt.translate(mytable))\n",
    "# x - Required. If only one parameter is specified, this has to be a dictionary describing how to perform the replace. \n",
    "#If two or more parameters are specified, this parameter has to be a string specifying the characters you want to replace\n",
    "# y - Optional. A string with the same length as parameter x. \n",
    "# Each character in the first parameter will be replaced with the corresponding character in this string.\n",
    "# z - Optional. A string describing which characters to remove from the original string.\n",
    "\n"
   ]
  },
  {
   "cell_type": "code",
   "execution_count": 4,
   "id": "52916662",
   "metadata": {},
   "outputs": [
    {
     "name": "stdout",
     "output_type": "stream",
     "text": [
      "('I could eat ', 'bananas', ' all day')\n"
     ]
    }
   ],
   "source": [
    "# partition() # string method\n",
    "# The partition() method searches for a specified string, and splits the string into a tuple containing three elements.\n",
    "\n",
    "# The first element contains the part before the specified string.\n",
    "\n",
    "# The second element contains the specified string.\n",
    "\n",
    "# The third element contains the part after the string\n",
    "\n",
    "# Note: This method searches for the first occurrence of the specified string.\n",
    "\n",
    "txt = \"I could eat bananas all day\"\n",
    "\n",
    "x = txt.partition(\"bananas\")\n",
    "\n",
    "print(x)"
   ]
  },
  {
   "cell_type": "code",
   "execution_count": 5,
   "id": "4379ebcc",
   "metadata": {},
   "outputs": [
    {
     "name": "stdout",
     "output_type": "stream",
     "text": [
      "three three was a race horse, two two was three too.\n"
     ]
    }
   ],
   "source": [
    "# replace() # string method\n",
    "# The replace() method replaces a specified phrase with another specified phrase.\n",
    "txt = \"one one was a race horse, two two was one too.\"\n",
    "\n",
    "x = txt.replace(\"one\", \"three\")\n",
    "\n",
    "print(x)"
   ]
  },
  {
   "cell_type": "code",
   "execution_count": 6,
   "id": "12e448da",
   "metadata": {},
   "outputs": [
    {
     "name": "stdout",
     "output_type": "stream",
     "text": [
      "8\n"
     ]
    }
   ],
   "source": [
    "# rfind() # string method\n",
    "# value\tRequired. The value to search for\n",
    "# start\tOptional. Where to start the search. Default is 0\n",
    "# end\tOptional. Where to end the search. Default is to the end of the string\n",
    "txt = \"Hello, welcome to my world.\"\n",
    "\n",
    "x = txt.rfind(\"e\", 5, 10)\n",
    "\n",
    "print(x)\n"
   ]
  }
 ],
 "metadata": {
  "kernelspec": {
   "display_name": "Python 3 (ipykernel)",
   "language": "python",
   "name": "python3"
  },
  "language_info": {
   "codemirror_mode": {
    "name": "ipython",
    "version": 3
   },
   "file_extension": ".py",
   "mimetype": "text/x-python",
   "name": "python",
   "nbconvert_exporter": "python",
   "pygments_lexer": "ipython3",
   "version": "3.9.13"
  }
 },
 "nbformat": 4,
 "nbformat_minor": 5
}
