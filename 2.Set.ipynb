{
 "cells": [
  {
   "cell_type": "markdown",
   "id": "0dbabe7a",
   "metadata": {},
   "source": [
    "# 3. difference()"
   ]
  },
  {
   "cell_type": "markdown",
   "id": "2772f948",
   "metadata": {},
   "source": [
    "The **difference()** method returns a set that contains the difference between two sets.\n",
    "\n",
    "Meaning: The returned set contains items that exist only in the first set.\n",
    "\n",
    "Syntax:  **_set.difference(set)_**"
   ]
  },
  {
   "cell_type": "code",
   "execution_count": null,
   "id": "9efc0eda",
   "metadata": {},
   "outputs": [],
   "source": [
    "#Return a set that contains the items that only exist in set x, and not in set y:\n",
    "\n",
    "x={2,7,1,8,6}\n",
    "y={5,2,7,9,4}\n",
    "\n",
    "z=x.difference(y)\n",
    "print(z)\n"
   ]
  },
  {
   "cell_type": "code",
   "execution_count": null,
   "id": "9ce4ab75",
   "metadata": {},
   "outputs": [],
   "source": [
    "x = {\"apple\", \"banana\", \"cherry\"}\n",
    "y = {\"google\", \"microsoft\", \"apple\"}\n",
    "\n",
    "z = x.difference(y)\n",
    "\n",
    "print(z)"
   ]
  },
  {
   "cell_type": "code",
   "execution_count": null,
   "id": "5e6c9b1c",
   "metadata": {},
   "outputs": [],
   "source": [
    "#Reverse the first example. Return a set that contains the items that only exist in set y, and not in set x:\n",
    "\n",
    "x = {\"apple\", \"banana\", \"cherry\"}\n",
    "y = {\"google\", \"microsoft\", \"apple\"}\n",
    "\n",
    "z = y.difference(x)\n",
    "\n",
    "print(z)"
   ]
  },
  {
   "cell_type": "markdown",
   "id": "88685191",
   "metadata": {},
   "source": [
    "# 4.difference_update()"
   ]
  },
  {
   "cell_type": "markdown",
   "id": "521bf4c3",
   "metadata": {},
   "source": [
    "The **difference_update()** method removes the items that exist in both sets.\n",
    "\n",
    "The difference_update() method is different from the difference() method, because the difference() method returns a new set, without the unwanted items, and the difference_update() method removes the unwanted items from the original set.\n",
    "\n",
    "Syntax:  _**set.difference_update(set)**_"
   ]
  },
  {
   "cell_type": "code",
   "execution_count": null,
   "id": "f2d8ce67",
   "metadata": {},
   "outputs": [],
   "source": [
    "#Remove the items that exist in both sets:\n",
    "\n",
    "x = {\"apple\", \"banana\", \"cherry\"}\n",
    "y = {\"google\", \"microsoft\", \"apple\"}\n",
    "\n",
    "x.difference_update(y)\n",
    "\n",
    "print(x)"
   ]
  },
  {
   "cell_type": "markdown",
   "id": "227be227",
   "metadata": {},
   "source": [
    "# 5. discard()"
   ]
  },
  {
   "cell_type": "markdown",
   "id": "cb28b783",
   "metadata": {},
   "source": [
    "The **discard()** method removes the specified item from the set.\n",
    "\n",
    "This method is different from the remove() method, because the remove() method will raise an error if the specified item does not exist, and the discard() method will not raise an error.\n",
    "\n",
    "Syntax:  _**set.discard(value)**_"
   ]
  },
  {
   "cell_type": "code",
   "execution_count": null,
   "id": "a9a4734b",
   "metadata": {},
   "outputs": [],
   "source": [
    "#Remove \"banana\" from the set:\n",
    "\n",
    "fruits = {\"apple\", \"banana\", \"cherry\"}\n",
    "\n",
    "fruits.discard(\"banana\")\n",
    "\n",
    "print(fruits)"
   ]
  },
  {
   "cell_type": "code",
   "execution_count": null,
   "id": "81522159",
   "metadata": {},
   "outputs": [],
   "source": [
    "fruits = {\"apple\", \"banana\", \"cherry\"}\n",
    "$\n",
    "fruits.discard(\"google\")\n",
    "\n",
    "print(fruits)"
   ]
  },
  {
   "cell_type": "code",
   "execution_count": null,
   "id": "4085bb4f",
   "metadata": {},
   "outputs": [],
   "source": []
  },
  {
   "cell_type": "code",
   "execution_count": null,
   "id": "79443a94",
   "metadata": {},
   "outputs": [],
   "source": []
  }
 ],
 "metadata": {
  "kernelspec": {
   "display_name": "Python 3 (ipykernel)",
   "language": "python",
   "name": "python3"
  },
  "language_info": {
   "codemirror_mode": {
    "name": "ipython",
    "version": 3
   },
   "file_extension": ".py",
   "mimetype": "text/x-python",
   "name": "python",
   "nbconvert_exporter": "python",
   "pygments_lexer": "ipython3",
   "version": "3.9.13"
  }
 },
 "nbformat": 4,
 "nbformat_minor": 5
}
