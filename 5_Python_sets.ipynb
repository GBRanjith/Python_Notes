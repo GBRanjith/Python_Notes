{
 "cells": [
  {
   "cell_type": "markdown",
   "id": "46fcfad7",
   "metadata": {},
   "source": [
    "##### Python Sets"
   ]
  },
  {
   "cell_type": "markdown",
   "id": "689aed75",
   "metadata": {},
   "source": [
    "###### Create Python Sets"
   ]
  },
  {
   "cell_type": "code",
   "execution_count": 3,
   "id": "6625424d",
   "metadata": {},
   "outputs": [
    {
     "name": "stdout",
     "output_type": "stream",
     "text": [
      "{'Dairy Mlk - Caramel', 'Dairy Mlk - Silk', 'Dairy Mlk - fruit & Nut', 'Five star', 'Kitkat', 'Dairy Mlk - Oreo'}\n",
      "{'Dairy Mlk - Caramel', 'Dairy Mlk - Silk', 'Dairy Mlk - fruit & Nut', 'Five star', 'Kitkat', 'Dairy Mlk - Oreo'}\n"
     ]
    }
   ],
   "source": [
    "# method 1 {} brackets or Sets are declared with curly brackets.\n",
    "chocolate_set = {\"Five star\", \"Kitkat\", \"Dairy Mlk - fruit & Nut\",\"Dairy Mlk - Silk\",\"Dairy Mlk - Caramel\",\"Dairy Mlk - Oreo\"}\n",
    "print(chocolate_set)"
   ]
  },
  {
   "cell_type": "markdown",
   "id": "abb3cb13",
   "metadata": {},
   "source": [
    "###### type() function"
   ]
  },
  {
   "cell_type": "code",
   "execution_count": 4,
   "id": "93d9fa86",
   "metadata": {},
   "outputs": [
    {
     "name": "stdout",
     "output_type": "stream",
     "text": [
      "<class 'set'>\n",
      "<class 'set'>\n"
     ]
    }
   ],
   "source": [
    "print(type(chocolate_set))"
   ]
  },
  {
   "cell_type": "code",
   "execution_count": 5,
   "id": "ac727eb2",
   "metadata": {},
   "outputs": [
    {
     "name": "stdout",
     "output_type": "stream",
     "text": [
      "{'Dairy Mlk - Caramel', 'Dairy Mlk - fruit & Nut', 'Kitkat', 'Dairy Mlk - Oreo', 'Dairy Mlk - Silk', 'Five star'}\n",
      "<class 'set'>\n",
      "{'Dairy Mlk - Caramel', 'Dairy Mlk - fruit & Nut', 'Kitkat', 'Dairy Mlk - Oreo', 'Dairy Mlk - Silk', 'Five star'}\n",
      "<class 'set'>\n"
     ]
    }
   ],
   "source": [
    "# method 2 - set() constructor\n",
    "chocolate_set = set((\"Five star\", \"Kitkat\", \"Dairy Mlk - fruit & Nut\",\"Dairy Mlk - Silk\",\"Dairy Mlk - Caramel\",\"Dairy Mlk - Oreo\"))\n",
    "# important note: double round-brackets when usimg a constructor\n",
    "print(chocolate_set)\n",
    "print(type(chocolate_set))"
   ]
  },
  {
   "cell_type": "markdown",
   "id": "3ff6e067",
   "metadata": {},
   "source": [
    "###### len()  function"
   ]
  },
  {
   "cell_type": "code",
   "execution_count": 6,
   "id": "5fe7f6f1",
   "metadata": {},
   "outputs": [
    {
     "name": "stdout",
     "output_type": "stream",
     "text": [
      "6\n",
      "6\n"
     ]
    }
   ],
   "source": [
    "chocolate_set = set((\"Five star\", \"Kitkat\", \"Dairy Mlk - fruit & Nut\",\"Dairy Mlk - Silk\",\"Dairy Mlk - Caramel\",\"Dairy Mlk - Oreo\"))\n",
    "print(len(chocolate_set))"
   ]
  },
  {
   "cell_type": "markdown",
   "id": "5a50bea7",
   "metadata": {},
   "source": [
    "##### Access Set Items"
   ]
  },
  {
   "cell_type": "code",
   "execution_count": null,
   "id": "234a22bd",
   "metadata": {},
   "outputs": [],
   "source": [
    "# Sets cannot be accessed by indexing because the items in a set are not indexed"
   ]
  },
  {
   "cell_type": "code",
   "execution_count": 9,
   "id": "43be04fb",
   "metadata": {},
   "outputs": [
    {
     "name": "stdout",
     "output_type": "stream",
     "text": [
      "Dairy Mlk - Caramel\n",
      "Dairy Mlk - Silk\n",
      "Dairy Mlk - fruit & Nut\n",
      "Five star\n",
      "Kitkat\n",
      "Dairy Mlk - Oreo\n",
      "Dairy Mlk - Caramel\n",
      "Dairy Mlk - Silk\n",
      "Dairy Mlk - fruit & Nut\n",
      "Five star\n",
      "Kitkat\n",
      "Dairy Mlk - Oreo\n"
     ]
    }
   ],
   "source": [
    "# method 1 - looping - use for to loop through sets because indexing is not present in sets\n",
    "chocolate_set = {\"Five star\", \"Kitkat\", \"Dairy Mlk - fruit & Nut\",\"Dairy Mlk - Silk\",\"Dairy Mlk - Caramel\",\"Dairy Mlk - Oreo\"}\n",
    "for x in chocolate_set:\n",
    "    print(x)\n",
    "# note it is not in the order we have specified\n",
    "# python uses hash tables for storing items in a set and duplicates are not allowed....."
   ]
  },
  {
   "cell_type": "code",
   "execution_count": 10,
   "id": "ce7553a8",
   "metadata": {},
   "outputs": [
    {
     "name": "stdout",
     "output_type": "stream",
     "text": [
      "True\n",
      "False\n",
      "True\n",
      "True\n",
      "False\n",
      "True\n"
     ]
    }
   ],
   "source": [
    "# method 2 - Finding if a specified value is present in a set  by using the 'in' keyword.\n",
    "chocolate_set = {\"Five star\", \"Kitkat\", \"Dairy Mlk - fruit & Nut\",\"Dairy Mlk - Silk\",\"Dairy Mlk - Caramel\",\"Dairy Mlk - Oreo\"}\n",
    "print(\"Five star\" in chocolate_set)\n",
    "print(\"five Star\" in chocolate_set) # remember case sensitivity\n",
    "print(\"Dairy Mlk - fruit & Nut\" in chocolate_set)"
   ]
  },
  {
   "cell_type": "markdown",
   "id": "206049d7",
   "metadata": {},
   "source": [
    "##### Change set items"
   ]
  },
  {
   "cell_type": "code",
   "execution_count": 11,
   "id": "a7ad02cd",
   "metadata": {},
   "outputs": [
    {
     "name": "stdout",
     "output_type": "stream",
     "text": [
      "[1, 1, 2, 3, 3, 3, 4, 5, 5, 5, 5, 5, 6, 6, 7, 8, 9, 11]\n",
      "<class 'list'>\n",
      "{1, 2, 3, 4, 5, 6, 7, 8, 9, 11}\n",
      "<class 'set'>\n",
      "[1, 2, 3, 4, 5, 6, 7, 8, 9, 11]\n",
      "<class 'list'>\n",
      "[1, 1, 2, 3, 3, 3, 4, 5, 5, 5, 5, 5, 6, 6, 7, 8, 9, 11]\n",
      "<class 'list'>\n",
      "{1, 2, 3, 4, 5, 6, 7, 8, 9, 11}\n",
      "<class 'set'>\n",
      "[1, 2, 3, 4, 5, 6, 7, 8, 9, 11]\n",
      "<class 'list'>\n"
     ]
    }
   ],
   "source": [
    "# since a set does not allow duplicate items converting it to list and back may lead to errors\n",
    "# One of the use cases of a set is to eliminate duplicates\n",
    "# method 1\n",
    "list1 = [1,1,2,3,3,3,4,5,5,5,5,5,6,6,7,8,9,11]\n",
    "print(list1)\n",
    "print(type(list1))\n",
    "list1 = set(list1) # eliminate duplicates from list\n",
    "print(list1)\n",
    "print(type(list1))\n",
    "list1 = list(list1)\n",
    "print(list1)\n",
    "print(type(list1))\n",
    "# on converting to set from list will it be random differing the order orindex of the list"
   ]
  },
  {
   "cell_type": "code",
   "execution_count": 12,
   "id": "c3ada6dd",
   "metadata": {},
   "outputs": [
    {
     "name": "stdout",
     "output_type": "stream",
     "text": [
      "{'Dairy Mlk - Caramel', 'Dairy Mlk - Silk', 'Dairy Mlk - fruit & Nut', 'Five star', 'Kitkat', 'Dairy Mlk - Oreo'}\n",
      "{'Dairy Mlk - Caramel', 'Dairy Mlk - Silk', 'Dairy Mlk - fruit & Nut', 'Five star', 'Cadbury Dairy milk Temptations', 'Kitkat', 'Dairy Mlk - Oreo'}\n",
      "{'Dairy Mlk - Caramel', 'Dairy Mlk - Silk', 'Dairy Mlk - fruit & Nut', 'Five star', 'Kitkat', 'Dairy Mlk - Oreo'}\n",
      "{'Dairy Mlk - Caramel', 'Dairy Mlk - Silk', 'Dairy Mlk - fruit & Nut', 'Five star', 'Cadbury Dairy milk Temptations', 'Kitkat', 'Dairy Mlk - Oreo'}\n"
     ]
    }
   ],
   "source": [
    "# method 2\n",
    "# After a set is created, you cannot change its items, but you can add new items using add() method.\n",
    "chocolate_set = {\"Five star\", \"Kitkat\", \"Dairy Mlk - fruit & Nut\",\"Dairy Mlk - Silk\",\"Dairy Mlk - Caramel\",\"Dairy Mlk - Oreo\"}\n",
    "print(chocolate_set)\n",
    "chocolate_set.add(\"Cadbury Dairy milk Temptations\") # it will not be ordered, the item will belong to the set if it is unique\n",
    "print(chocolate_set)"
   ]
  },
  {
   "cell_type": "code",
   "execution_count": 13,
   "id": "f546f8a6",
   "metadata": {},
   "outputs": [
    {
     "name": "stdout",
     "output_type": "stream",
     "text": [
      "<class 'set'>\n",
      "<class 'set'>\n",
      "{'papaya', 'pineberry', 'strawberry', 'mango', 'blueberry', 'pineapple'}\n",
      "<class 'set'>\n",
      "<class 'set'>\n",
      "{'papaya', 'pineberry', 'strawberry', 'mango', 'blueberry', 'pineapple'}\n"
     ]
    }
   ],
   "source": [
    "# method 3 Adding Sets - use update() method\n",
    "fruits = {\"strawberry\", \"blueberry\", \"pineberry\"}\n",
    "print(type(fruits))\n",
    "tropical_fruits = {\"pineapple\", \"mango\", \"papaya\"}\n",
    "print(type(tropical_fruits))\n",
    "fruits.update(tropical_fruits) # only unduplicate unique values\n",
    "print(fruits)"
   ]
  },
  {
   "cell_type": "code",
   "execution_count": 15,
   "id": "355ce17c",
   "metadata": {},
   "outputs": [
    {
     "name": "stdout",
     "output_type": "stream",
     "text": [
      "<class 'set'>\n",
      "<class 'list'>\n",
      "{'pineberry', 'blueberry', 'mango', 'papaya', 'strawberry', 'pineapple'}\n",
      "<class 'set'>\n",
      "<class 'list'>\n",
      "{'pineberry', 'blueberry', 'mango', 'papaya', 'strawberry', 'pineapple'}\n"
     ]
    }
   ],
   "source": [
    "# method 4 Add Any Iterable/ Collection like tuples, lists, dictionaries \n",
    "fruits = {\"strawberry\", \"blueberry\", \"pineberry\"}\n",
    "print(type(fruits))\n",
    "tropical_fruits = [\"pineapple\", \"mango\", \"papaya\",'strawberry'] # list\n",
    "print(type(tropical_fruits))\n",
    "fruits.update(tropical_fruits) # only unduplicate unique values\n",
    "print(fruits)"
   ]
  },
  {
   "cell_type": "markdown",
   "id": "bc89f655",
   "metadata": {},
   "source": [
    "##### Remove Set items"
   ]
  },
  {
   "cell_type": "code",
   "execution_count": null,
   "id": "8d061136",
   "metadata": {},
   "outputs": [],
   "source": [
    "# remember we cant use index in sets"
   ]
  },
  {
   "cell_type": "code",
   "execution_count": 16,
   "id": "d74b4162",
   "metadata": {},
   "outputs": [
    {
     "name": "stdout",
     "output_type": "stream",
     "text": [
      "{'Dairy Mlk - Caramel', 'Dairy Mlk - Silk', 'Dairy Mlk - fruit & Nut', 'Five star', 'Kitkat', 'Dairy Mlk - Oreo'}\n",
      "{'Dairy Mlk - Caramel', 'Dairy Mlk - Silk', 'Dairy Mlk - fruit & Nut', 'Five star', 'Dairy Mlk - Oreo'}\n",
      "{'Dairy Mlk - Caramel', 'Dairy Mlk - Silk', 'Dairy Mlk - fruit & Nut', 'Five star', 'Kitkat', 'Dairy Mlk - Oreo'}\n",
      "{'Dairy Mlk - Caramel', 'Dairy Mlk - Silk', 'Dairy Mlk - fruit & Nut', 'Five star', 'Dairy Mlk - Oreo'}\n"
     ]
    }
   ],
   "source": [
    "# method 1 - remove() method .....\n",
    "chocolate_set = {\"Five star\", \"Kitkat\", \"Dairy Mlk - fruit & Nut\",\"Dairy Mlk - Silk\",\"Dairy Mlk - Caramel\",\"Dairy Mlk - Oreo\"}\n",
    "print(chocolate_set)\n",
    "chocolate_set.remove(\"Kitkat\") # it will not be ordered, the item will belong to the set if it is unique\n",
    "print(chocolate_set)\n",
    "# Important note: If the item to remove does not exist, remove() will raise an error."
   ]
  },
  {
   "cell_type": "code",
   "execution_count": 17,
   "id": "d2fb32b4",
   "metadata": {},
   "outputs": [
    {
     "name": "stdout",
     "output_type": "stream",
     "text": [
      "{'Dairy Mlk - Caramel', 'Dairy Mlk - Silk', 'Dairy Mlk - fruit & Nut', 'Five star', 'Kitkat', 'Dairy Mlk - Oreo'}\n",
      "{'Dairy Mlk - Caramel', 'Dairy Mlk - Silk', 'Dairy Mlk - fruit & Nut', 'Five star', 'Dairy Mlk - Oreo'}\n",
      "{'Dairy Mlk - Caramel', 'Dairy Mlk - Silk', 'Dairy Mlk - fruit & Nut', 'Five star', 'Kitkat', 'Dairy Mlk - Oreo'}\n",
      "{'Dairy Mlk - Caramel', 'Dairy Mlk - Silk', 'Dairy Mlk - fruit & Nut', 'Five star', 'Dairy Mlk - Oreo'}\n"
     ]
    }
   ],
   "source": [
    "# method 2 - discard() method .....\n",
    "chocolate_set = {\"Five star\", \"Kitkat\", \"Dairy Mlk - fruit & Nut\",\"Dairy Mlk - Silk\",\"Dairy Mlk - Caramel\",\"Dairy Mlk - Oreo\"}\n",
    "print(chocolate_set)\n",
    "chocolate_set.discard(\"Kitkat\") # it will not be ordered, the item will belong to the set if it is unique\n",
    "print(chocolate_set)\n",
    "# Important note: If the item to remove does not exist, discard() will not raise an error."
   ]
  },
  {
   "cell_type": "code",
   "execution_count": 18,
   "id": "1b6fb85d",
   "metadata": {},
   "outputs": [
    {
     "name": "stdout",
     "output_type": "stream",
     "text": [
      "{'Dairy Mlk - Caramel', 'Dairy Mlk - Silk', 'Dairy Mlk - fruit & Nut', 'Five star', 'Kitkat', 'Dairy Mlk - Oreo'}\n",
      "{'Dairy Mlk - Silk', 'Dairy Mlk - fruit & Nut', 'Five star', 'Kitkat', 'Dairy Mlk - Oreo'}\n",
      "Dairy Mlk - Caramel\n",
      "{'Dairy Mlk - Caramel', 'Dairy Mlk - Silk', 'Dairy Mlk - fruit & Nut', 'Five star', 'Kitkat', 'Dairy Mlk - Oreo'}\n",
      "{'Dairy Mlk - Silk', 'Dairy Mlk - fruit & Nut', 'Five star', 'Kitkat', 'Dairy Mlk - Oreo'}\n",
      "Dairy Mlk - Caramel\n"
     ]
    }
   ],
   "source": [
    "# method 3 - pop() method\n",
    "# by default last item will be removed and removed item will be returned\n",
    "# Sets are unordered, so when using the pop() method, you do not know which item that gets removed.\n",
    "chocolate_set = {\"Five star\", \"Kitkat\", \"Dairy Mlk - fruit & Nut\",\"Dairy Mlk - Silk\",\"Dairy Mlk - Caramel\",\"Dairy Mlk - Oreo\"}\n",
    "print(chocolate_set)\n",
    "removed_item = chocolate_set.pop() # it will not be ordered, the item will belong to the set if it is unique\n",
    "print(chocolate_set)\n",
    "print(removed_item)"
   ]
  },
  {
   "cell_type": "code",
   "execution_count": 19,
   "id": "df0b0060",
   "metadata": {},
   "outputs": [
    {
     "name": "stdout",
     "output_type": "stream",
     "text": [
      "{'Dairy Mlk - Caramel', 'Dairy Mlk - Silk', 'Dairy Mlk - fruit & Nut', 'Five star', 'Kitkat', 'Dairy Mlk - Oreo'}\n",
      "set()\n",
      "{'Dairy Mlk - Caramel', 'Dairy Mlk - Silk', 'Dairy Mlk - fruit & Nut', 'Five star', 'Kitkat', 'Dairy Mlk - Oreo'}\n",
      "set()\n"
     ]
    }
   ],
   "source": [
    "# method 4 - clear() - empty set\n",
    "chocolate_set = {\"Five star\", \"Kitkat\", \"Dairy Mlk - fruit & Nut\",\"Dairy Mlk - Silk\",\"Dairy Mlk - Caramel\",\"Dairy Mlk - Oreo\"}\n",
    "print(chocolate_set)\n",
    "chocolate_set.clear() # it will not be ordered, the item will belong to the set if it is unique\n",
    "print(chocolate_set) # empty set\n",
    "# Why set()"
   ]
  },
  {
   "cell_type": "code",
   "execution_count": 20,
   "id": "f30f0558",
   "metadata": {},
   "outputs": [
    {
     "name": "stdout",
     "output_type": "stream",
     "text": [
      "{'Dairy Mlk - Caramel', 'Dairy Mlk - Silk', 'Dairy Mlk - fruit & Nut', 'Five star', 'Kitkat', 'Dairy Mlk - Oreo'}\n",
      "{'Dairy Mlk - Caramel', 'Dairy Mlk - Silk', 'Dairy Mlk - fruit & Nut', 'Five star', 'Kitkat', 'Dairy Mlk - Oreo'}\n"
     ]
    },
    {
     "ename": "NameError",
     "evalue": "name 'chocolate_set' is not defined",
     "output_type": "error",
     "traceback": [
      "\u001b[1;31m---------------------------------------------------------------------------\u001b[0m",
      "\u001b[1;31mNameError\u001b[0m                                 Traceback (most recent call last)",
      "\u001b[1;32m~\\AppData\\Local\\Temp\\ipykernel_11208\\3507423625.py\u001b[0m in \u001b[0;36m<module>\u001b[1;34m\u001b[0m\n\u001b[0;32m      3\u001b[0m \u001b[0mprint\u001b[0m\u001b[1;33m(\u001b[0m\u001b[0mchocolate_set\u001b[0m\u001b[1;33m)\u001b[0m\u001b[1;33m\u001b[0m\u001b[1;33m\u001b[0m\u001b[0m\n\u001b[0;32m      4\u001b[0m \u001b[1;32mdel\u001b[0m \u001b[0mchocolate_set\u001b[0m \u001b[1;31m# it will not be ordered, the item will belong to the set if it is unique\u001b[0m\u001b[1;33m\u001b[0m\u001b[1;33m\u001b[0m\u001b[0m\n\u001b[1;32m----> 5\u001b[1;33m \u001b[0mprint\u001b[0m\u001b[1;33m(\u001b[0m\u001b[0mchocolate_set\u001b[0m\u001b[1;33m)\u001b[0m\u001b[1;33m\u001b[0m\u001b[1;33m\u001b[0m\u001b[0m\n\u001b[0m",
      "\u001b[1;31mNameError\u001b[0m: name 'chocolate_set' is not defined"
     ]
    },
    {
     "ename": "NameError",
     "evalue": "name 'chocolate_set' is not defined",
     "output_type": "error",
     "traceback": [
      "\u001b[1;31m---------------------------------------------------------------------------\u001b[0m",
      "\u001b[1;31mNameError\u001b[0m                                 Traceback (most recent call last)",
      "\u001b[1;32m~\\AppData\\Local\\Temp\\ipykernel_11208\\3507423625.py\u001b[0m in \u001b[0;36m<module>\u001b[1;34m\u001b[0m\n\u001b[0;32m      3\u001b[0m \u001b[0mprint\u001b[0m\u001b[1;33m(\u001b[0m\u001b[0mchocolate_set\u001b[0m\u001b[1;33m)\u001b[0m\u001b[1;33m\u001b[0m\u001b[1;33m\u001b[0m\u001b[0m\n\u001b[0;32m      4\u001b[0m \u001b[1;32mdel\u001b[0m \u001b[0mchocolate_set\u001b[0m \u001b[1;31m# it will not be ordered, the item will belong to the set if it is unique\u001b[0m\u001b[1;33m\u001b[0m\u001b[1;33m\u001b[0m\u001b[0m\n\u001b[1;32m----> 5\u001b[1;33m \u001b[0mprint\u001b[0m\u001b[1;33m(\u001b[0m\u001b[0mchocolate_set\u001b[0m\u001b[1;33m)\u001b[0m\u001b[1;33m\u001b[0m\u001b[1;33m\u001b[0m\u001b[0m\n\u001b[0m",
      "\u001b[1;31mNameError\u001b[0m: name 'chocolate_set' is not defined"
     ]
    }
   ],
   "source": [
    "# method 5 - del keyword - delete  the entire set\n",
    "chocolate_set = {\"Five star\", \"Kitkat\", \"Dairy Mlk - fruit & Nut\",\"Dairy Mlk - Silk\",\"Dairy Mlk - Caramel\",\"Dairy Mlk - Oreo\"}\n",
    "print(chocolate_set)\n",
    "del chocolate_set # it will not be ordered, the item will belong to the set if it is unique\n",
    "print(chocolate_set)"
   ]
  },
  {
   "cell_type": "markdown",
   "id": "a7889804",
   "metadata": {},
   "source": [
    "##### Join Sets"
   ]
  },
  {
   "cell_type": "code",
   "execution_count": 21,
   "id": "e034ce7d",
   "metadata": {},
   "outputs": [
    {
     "name": "stdout",
     "output_type": "stream",
     "text": [
      "{'h', 5, 'e', 7, 9, 10, 'a'}\n",
      "{'h', 5, 'e', 7, 9, 10, 'a'}\n"
     ]
    }
   ],
   "source": [
    "# method 1 -  The union() method returns a new set with all items from both sets.\n",
    "set1 = {\"h\", \"e\" , \"a\"}\n",
    "set2 = {9, 7, 5,7,10}\n",
    "set3 = set1.union(set2)\n",
    "print(set3)"
   ]
  },
  {
   "cell_type": "code",
   "execution_count": 22,
   "id": "391cbab6",
   "metadata": {},
   "outputs": [
    {
     "name": "stdout",
     "output_type": "stream",
     "text": [
      "{'h', 5, 'e', 7, 9, 10, 'a'}\n",
      "{'h', 5, 'e', 7, 9, 10, 'a'}\n"
     ]
    }
   ],
   "source": [
    "# method 2 - The update() method inserts the items in set2 into set1.\n",
    "set1 = {\"h\", \"e\" , \"a\"}\n",
    "set2 = {9, 7, 5,7,10}\n",
    "set1.update(set2)\n",
    "print(set1)"
   ]
  },
  {
   "cell_type": "code",
   "execution_count": null,
   "id": "ae96bd11",
   "metadata": {},
   "outputs": [],
   "source": [
    "# Important union() and update() will exclude any duplicate items if present.....\n",
    "# because sets does not allow duplicate characters"
   ]
  },
  {
   "cell_type": "code",
   "execution_count": 23,
   "id": "3fbdbceb",
   "metadata": {},
   "outputs": [
    {
     "name": "stdout",
     "output_type": "stream",
     "text": [
      "{1, 5, 7}\n",
      "{1, 5, 7}\n"
     ]
    }
   ],
   "source": [
    "# method 3 Keep only the duplicates\n",
    "#intersection_update() method will keep only the items that are present in both sets.\n",
    "# something like venn diagram\n",
    "x = {1,5,6,7,8,9,10}\n",
    "y = {1,5,7,3,2}\n",
    "x.intersection_update(y)\n",
    "print(x)"
   ]
  },
  {
   "cell_type": "code",
   "execution_count": 24,
   "id": "b2816eb3",
   "metadata": {},
   "outputs": [
    {
     "name": "stdout",
     "output_type": "stream",
     "text": [
      "{1, 5, 7}\n",
      "{1, 5, 7}\n"
     ]
    }
   ],
   "source": [
    "# method 4 - returns same as method 3\n",
    "x = {1,5,6,7,8,9,10}\n",
    "y = {1,5,7,3,2}\n",
    "z = x.intersection(y)\n",
    "print(z)"
   ]
  },
  {
   "cell_type": "code",
   "execution_count": 25,
   "id": "99bf5fd7",
   "metadata": {},
   "outputs": [
    {
     "name": "stdout",
     "output_type": "stream",
     "text": [
      "{2, 3, 6, 8, 9, 10}\n",
      "{2, 3, 6, 8, 9, 10}\n"
     ]
    }
   ],
   "source": [
    "# method 5 - keep all but not the duplicates - symmetric_difference_update() method \n",
    "x = {1,5,6,7,8,9,10}\n",
    "y = {1,5,7,3,2}\n",
    "x.symmetric_difference_update(y)\n",
    "print(x)"
   ]
  },
  {
   "cell_type": "code",
   "execution_count": 26,
   "id": "6c590d71",
   "metadata": {},
   "outputs": [
    {
     "name": "stdout",
     "output_type": "stream",
     "text": [
      "{2, 3, 6, 8, 9, 10}\n",
      "{2, 3, 6, 8, 9, 10}\n"
     ]
    }
   ],
   "source": [
    "# method 6 - keep all but not the duplicates - same as method 5 but reurns a new set with all but duplicates\n",
    "x = {1,5,6,7,8,9,10}\n",
    "y = {1,5,7,3,2}\n",
    "z = x.symmetric_difference(y)\n",
    "print(z)"
   ]
  },
  {
   "cell_type": "markdown",
   "id": "e0bcd922",
   "metadata": {},
   "source": [
    "##### Assignement part 6\n",
    "##### Set Methods\n",
    "1. add()\t\n",
    "2. clear()\t\n",
    "3. copy()\t\n",
    "4. difference()\t\n",
    "5. difference_update()\t\n",
    "6. discard()\t\n",
    "7. intersection()\t\n",
    "8. intersection_update()\t\n",
    "9. isdisjoint()\t\n",
    "10. issubset()\t\n",
    "11. issuperset()\t\n",
    "12. pop()\t\n",
    "13. remove()\t\n",
    "14. symmetric_difference()\t\n",
    "15. symmetric_difference_update()\t\n",
    "16. union()\n",
    "17. update()\t\n"
   ]
  },
  {
   "cell_type": "markdown",
   "id": "5d7dc463",
   "metadata": {},
   "source": [
    "##### Characteristics of Sets"
   ]
  },
  {
   "cell_type": "markdown",
   "id": "33f6b0be",
   "metadata": {},
   "source": [
    "Definition of a set: A set is an unordered collection of unduplicate items or distinct hashable objects.\n",
    "1. Sets are not ordered - Unordered means not indexed.\n",
    "2. They are unchangeable - Like Python tuples.\n",
    "3. They do not allow duplicate elements."
   ]
  },
  {
   "cell_type": "code",
   "execution_count": 27,
   "id": "dde7322f",
   "metadata": {},
   "outputs": [
    {
     "name": "stdout",
     "output_type": "stream",
     "text": [
      "{'Dairy Mlk - Caramel', 'Dairy Mlk - Silk', 'Dairy Mlk - fruit & Nut', 'Five star', 'Kitkat', 'Dairy Mlk - Oreo'}\n",
      "{'Dairy Mlk - Caramel', 'Dairy Mlk - Silk', 'Dairy Mlk - fruit & Nut', 'Five star', 'Kitkat', 'Dairy Mlk - Oreo'}\n"
     ]
    }
   ],
   "source": [
    "#1 Sets are not ordered - Unordered means not indexed.\n",
    "chocolate_set = {\"Five star\", \"Kitkat\", \"Dairy Mlk - fruit & Nut\",\"Dairy Mlk - Silk\",\"Dairy Mlk - Caramel\",\"Dairy Mlk - Oreo\"}\n",
    "print(chocolate_set)\n",
    "# cannot be accessed by index but only by using for loops or in keyword\n",
    "# it is because python uses hash tables to store sets"
   ]
  },
  {
   "cell_type": "code",
   "execution_count": null,
   "id": "5d60da9e",
   "metadata": {},
   "outputs": [],
   "source": [
    "#2 Sets cannot be changed but items can be added - Refer add items"
   ]
  },
  {
   "cell_type": "code",
   "execution_count": null,
   "id": "696458ad",
   "metadata": {},
   "outputs": [],
   "source": [
    "#3 Sets does not allow duplicates \n",
    "# One of the use cases is to eliminates duplicates from a Python lists using Python sets......"
   ]
  },
  {
   "cell_type": "markdown",
   "id": "2aa3d38b",
   "metadata": {},
   "source": [
    "##### Reasons for using Python sets "
   ]
  },
  {
   "cell_type": "code",
   "execution_count": null,
   "id": "f814704d",
   "metadata": {},
   "outputs": [],
   "source": [
    "# Sets are faster than list.....\n",
    "# Sets are implemented using hash tables.\n",
    "# In order to search an item in the set it is much faster then finding an item in a Python list."
   ]
  },
  {
   "cell_type": "code",
   "execution_count": null,
   "id": "211315a2",
   "metadata": {},
   "outputs": [],
   "source": [
    "# refer: https://towardsdatascience.com/python-lists-vs-sets-39bd6b5745e1"
   ]
  },
  {
   "cell_type": "code",
   "execution_count": null,
   "id": "3e69ba44",
   "metadata": {},
   "outputs": [],
   "source": [
    "# Venn diagram operations"
   ]
  },
  {
   "cell_type": "markdown",
   "id": "a99165ea",
   "metadata": {},
   "source": [
    "###### Exercises"
   ]
  },
  {
   "cell_type": "code",
   "execution_count": 29,
   "id": "e3e70c16",
   "metadata": {
    "scrolled": true
   },
   "outputs": [
    {
     "data": {
      "text/plain": [
       "True"
      ]
     },
     "execution_count": 29,
     "metadata": {},
     "output_type": "execute_result"
    },
    {
     "data": {
      "text/plain": [
       "True"
      ]
     },
     "execution_count": 29,
     "metadata": {},
     "output_type": "execute_result"
    }
   ],
   "source": [
    "# check if \"Kitkat\" is present in chocolate set \n",
    "chocolate_set = {\"Five star\", \"Kitkat\", \"Dairy Mlk - fruit & Nut\",\"Dairy Mlk - Silk\",\"Dairy Mlk - Caramel\",\"Dairy Mlk - Oreo\"}\n",
    "\"Kitkat\" in chocolate_set"
   ]
  },
  {
   "cell_type": "code",
   "execution_count": 30,
   "id": "487dbfce",
   "metadata": {},
   "outputs": [
    {
     "data": {
      "text/plain": [
       "False"
      ]
     },
     "execution_count": 30,
     "metadata": {},
     "output_type": "execute_result"
    },
    {
     "data": {
      "text/plain": [
       "False"
      ]
     },
     "execution_count": 30,
     "metadata": {},
     "output_type": "execute_result"
    }
   ],
   "source": [
    "# check if \"cadbury fuse\" is present in chocolate set \n",
    "chocolate_set = {\"Five star\", \"Kitkat\", \"Dairy Mlk - fruit & Nut\",\"Dairy Mlk - Silk\",\"Dairy Mlk - Caramel\",\"Dairy Mlk - Oreo\"}\n",
    "\"cadbury fuse\" in chocolate_set"
   ]
  },
  {
   "cell_type": "code",
   "execution_count": 31,
   "id": "51ee1332",
   "metadata": {},
   "outputs": [
    {
     "name": "stdout",
     "output_type": "stream",
     "text": [
      "{'Dairy Mlk - Caramel', 'Dairy Mlk - Silk', 'Dairy Mlk - fruit & Nut', 'Five star', 'Kitkat', 'cadbury fuse', 'Dairy Mlk - Oreo'}\n",
      "{'Dairy Mlk - Caramel', 'Dairy Mlk - Silk', 'Dairy Mlk - fruit & Nut', 'Five star', 'Kitkat', 'cadbury fuse', 'Dairy Mlk - Oreo'}\n"
     ]
    }
   ],
   "source": [
    "# use add method to add \"cadbury fuse\" in chocolate list\n",
    "chocolate_set = {\"Five star\", \"Kitkat\", \"Dairy Mlk - fruit & Nut\",\"Dairy Mlk - Silk\",\"Dairy Mlk - Caramel\",\"Dairy Mlk - Oreo\"}\n",
    "chocolate_set.add(\"cadbury fuse\")\n",
    "print(chocolate_set)"
   ]
  },
  {
   "cell_type": "code",
   "execution_count": 32,
   "id": "b7bf2726",
   "metadata": {},
   "outputs": [
    {
     "name": "stdout",
     "output_type": "stream",
     "text": [
      "{'papaya', 'pineberry', 'strawberry', 'mango', 'blueberry', 'pineapple'}\n",
      "{'papaya', 'pineberry', 'strawberry', 'mango', 'blueberry', 'pineapple'}\n"
     ]
    }
   ],
   "source": [
    "# update the fruits set with tropical fruits set using update()\n",
    "fruits = {\"strawberry\", \"blueberry\", \"pineberry\"}\n",
    "tropical_fruits = {\"pineapple\", \"mango\", \"papaya\"}\n",
    "fruits.update(tropical_fruits)\n",
    "print(fruits)"
   ]
  },
  {
   "cell_type": "code",
   "execution_count": 36,
   "id": "15ce5348",
   "metadata": {},
   "outputs": [
    {
     "name": "stdout",
     "output_type": "stream",
     "text": [
      "{'strawberry', 'blueberry'}\n",
      "{'strawberry', 'blueberry'}\n"
     ]
    }
   ],
   "source": [
    "# remove \"pineberry\" from fruits set use remove()\n",
    "fruits = {\"strawberry\", \"blueberry\", \"pineberry\"}\n",
    "fruits.remove(\"pineberry\")\n",
    "print(fruits)\n"
   ]
  },
  {
   "cell_type": "code",
   "execution_count": null,
   "id": "6bae45ab",
   "metadata": {},
   "outputs": [],
   "source": [
    "# why we use discard() when remove() method exists.....\n",
    "# answer discard( will raise an error but remove( ) will raise an error....."
   ]
  }
 ],
 "metadata": {
  "kernelspec": {
   "display_name": "Python 3 (ipykernel)",
   "language": "python",
   "name": "python3"
  },
  "language_info": {
   "codemirror_mode": {
    "name": "ipython",
    "version": 3
   },
   "file_extension": ".py",
   "mimetype": "text/x-python",
   "name": "python",
   "nbconvert_exporter": "python",
   "pygments_lexer": "ipython3",
   "version": "3.9.13"
  }
 },
 "nbformat": 4,
 "nbformat_minor": 5
}
