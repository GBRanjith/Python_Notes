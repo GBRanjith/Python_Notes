{
 "cells": [
  {
   "cell_type": "code",
   "execution_count": null,
   "id": "79533932",
   "metadata": {},
   "outputs": [],
   "source": [
    " # list function\n",
    "# 1.Ordered\n",
    "# 2.changeable \n",
    "# 3.allows duplicate members."
   ]
  },
  {
   "cell_type": "markdown",
   "id": "36f015b6",
   "metadata": {},
   "source": [
    "# 9.remove()"
   ]
  },
  {
   "cell_type": "code",
   "execution_count": null,
   "id": "b2f105b1",
   "metadata": {},
   "outputs": [],
   "source": [
    "\"\"\"The remove() method removes the specified item"
   ]
  },
  {
   "cell_type": "code",
   "execution_count": 7,
   "id": "6189a43f",
   "metadata": {},
   "outputs": [
    {
     "name": "stdout",
     "output_type": "stream",
     "text": [
      "['kamesh', 'alex', 'chandru']\n"
     ]
    }
   ],
   "source": [
    "a=[\"vikki\",\"kamesh\",\"alex\",\"chandru\"]\n",
    "a.remove(\"vikki\")\n",
    "print(a)\n"
   ]
  },
  {
   "cell_type": "markdown",
   "id": "ae436310",
   "metadata": {},
   "source": [
    "# 10.reverse()"
   ]
  },
  {
   "cell_type": "code",
   "execution_count": null,
   "id": "cdaa9ab2",
   "metadata": {},
   "outputs": [],
   "source": [
    "\"\"\"The reverse() method reverses the elements of the list."
   ]
  },
  {
   "cell_type": "code",
   "execution_count": 8,
   "id": "fdd480c7",
   "metadata": {},
   "outputs": [
    {
     "name": "stdout",
     "output_type": "stream",
     "text": [
      "['chandru', 'alex', 'kamesh', 'vikki']\n"
     ]
    }
   ],
   "source": [
    "x=[\"vikki\",\"kamesh\",\"alex\",\"chandru\"]\n",
    "x.reverse()\n",
    "print(x)"
   ]
  },
  {
   "cell_type": "markdown",
   "id": "2f4ff896",
   "metadata": {},
   "source": [
    "# 11.sort()"
   ]
  },
  {
   "cell_type": "code",
   "execution_count": null,
   "id": "f3f5c6c8",
   "metadata": {},
   "outputs": [],
   "source": [
    "\"\"\"The sort() method sorts the list ascending by default."
   ]
  },
  {
   "cell_type": "code",
   "execution_count": 9,
   "id": "d0e35d74",
   "metadata": {},
   "outputs": [
    {
     "name": "stdout",
     "output_type": "stream",
     "text": [
      "['ajay', 'kumar', 'scp vikki', 'vikki']\n"
     ]
    }
   ],
   "source": [
    "x=[\"vikki\",\"scp vikki\",\"ajay\",\"kumar\"]\n",
    "x.sort()\n",
    "print(x)"
   ]
  },
  {
   "cell_type": "code",
   "execution_count": null,
   "id": "03b4c7cd",
   "metadata": {},
   "outputs": [],
   "source": [
    "# tuple function\n",
    "# 1.Ordered\n",
    "#  2.unchangeable \n",
    "#  3.allows duplicate members.\n"
   ]
  },
  {
   "cell_type": "markdown",
   "id": "99bd9909",
   "metadata": {},
   "source": [
    "# 1.index()"
   ]
  },
  {
   "cell_type": "code",
   "execution_count": null,
   "id": "af857eda",
   "metadata": {},
   "outputs": [],
   "source": [
    "\"\"\"The index() method finds the first occurrence of the specified value.\n",
    "\n",
    "The index() method raises an exception if the value is not found."
   ]
  },
  {
   "cell_type": "code",
   "execution_count": 11,
   "id": "cd2ed91c",
   "metadata": {},
   "outputs": [
    {
     "name": "stdout",
     "output_type": "stream",
     "text": [
      "1\n"
     ]
    }
   ],
   "source": [
    "x=(1,2,3,4,5,6)\n",
    "result=x.index(2)\n",
    "print(result)"
   ]
  },
  {
   "cell_type": "markdown",
   "id": "761c4fb5",
   "metadata": {},
   "source": [
    "# 2.count()"
   ]
  },
  {
   "cell_type": "code",
   "execution_count": null,
   "id": "b941f0f1",
   "metadata": {},
   "outputs": [],
   "source": [
    "\"\"\"The count() method returns the number of times a specified value appears in the tuple. "
   ]
  },
  {
   "cell_type": "code",
   "execution_count": 12,
   "id": "60ae8b37",
   "metadata": {},
   "outputs": [
    {
     "name": "stdout",
     "output_type": "stream",
     "text": [
      "3\n"
     ]
    }
   ],
   "source": [
    "z=(1,2,3,4,1,7,8,1,9)\n",
    "result=z.count(1)\n",
    "print(result)"
   ]
  },
  {
   "cell_type": "code",
   "execution_count": null,
   "id": "89ab4f1b",
   "metadata": {},
   "outputs": [],
   "source": []
  },
  {
   "cell_type": "code",
   "execution_count": null,
   "id": "c767987d",
   "metadata": {},
   "outputs": [],
   "source": []
  },
  {
   "cell_type": "code",
   "execution_count": null,
   "id": "d4e31016",
   "metadata": {},
   "outputs": [],
   "source": []
  },
  {
   "cell_type": "code",
   "execution_count": null,
   "id": "ce33fa86",
   "metadata": {},
   "outputs": [],
   "source": []
  },
  {
   "cell_type": "code",
   "execution_count": null,
   "id": "543774b4",
   "metadata": {},
   "outputs": [],
   "source": []
  }
 ],
 "metadata": {
  "kernelspec": {
   "display_name": "Python 3 (ipykernel)",
   "language": "python",
   "name": "python3"
  },
  "language_info": {
   "codemirror_mode": {
    "name": "ipython",
    "version": 3
   },
   "file_extension": ".py",
   "mimetype": "text/x-python",
   "name": "python",
   "nbconvert_exporter": "python",
   "pygments_lexer": "ipython3",
   "version": "3.9.13"
  }
 },
 "nbformat": 4,
 "nbformat_minor": 5
}
